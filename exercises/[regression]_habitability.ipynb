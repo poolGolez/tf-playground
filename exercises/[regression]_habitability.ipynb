{
  "nbformat": 4,
  "nbformat_minor": 0,
  "metadata": {
    "colab": {
      "provenance": [],
      "authorship_tag": "ABX9TyODSydv/zhBy9qMUriSUNNY",
      "include_colab_link": true
    },
    "kernelspec": {
      "name": "python3",
      "display_name": "Python 3"
    },
    "language_info": {
      "name": "python"
    }
  },
  "cells": [
    {
      "cell_type": "markdown",
      "metadata": {
        "id": "view-in-github",
        "colab_type": "text"
      },
      "source": [
        "<a href=\"https://colab.research.google.com/github/poolGolez/tf-playground/blob/main/exercises/%5Bregression%5D_habitability.ipynb\" target=\"_parent\"><img src=\"https://colab.research.google.com/assets/colab-badge.svg\" alt=\"Open In Colab\"/></a>"
      ]
    },
    {
      "cell_type": "code",
      "execution_count": 4,
      "metadata": {
        "id": "GezPBP3LXm_c"
      },
      "outputs": [],
      "source": [
        "# Habitability"
      ]
    },
    {
      "cell_type": "markdown",
      "source": [
        "# Habitability\n",
        "\n",
        "📗 **Dataset Source**: [Kaggle](https://www.kaggle.com/datasets/ifteshanajnin/get-a-room-ml-hackathon-by-hackerearth)"
      ],
      "metadata": {
        "id": "z_k4WpfykXqn"
      }
    },
    {
      "cell_type": "markdown",
      "source": [
        "## Ingest"
      ],
      "metadata": {
        "id": "d3l0TSyiXv-C"
      }
    },
    {
      "cell_type": "code",
      "source": [
        "import pandas as pd\n",
        "import numpy as np\n",
        "from google.colab import drive\n",
        "\n",
        "drive.mount('/gdrive')"
      ],
      "metadata": {
        "colab": {
          "base_uri": "https://localhost:8080/"
        },
        "id": "cTCIpHqzXzFe",
        "outputId": "d3cf5b52-a885-44cf-a514-1e29e32d3a4e"
      },
      "execution_count": 5,
      "outputs": [
        {
          "output_type": "stream",
          "name": "stdout",
          "text": [
            "Mounted at /gdrive\n"
          ]
        }
      ]
    },
    {
      "cell_type": "code",
      "source": [
        "FILE_LOCATION = '/gdrive/My Drive/Me/Learning/TensorFlow Developer Certificate: Zero to Mastery/data/habitability/train.csv'\n",
        "\n",
        "df = pd.read_csv(FILE_LOCATION)\n",
        "# print(\"Dataset\")\n",
        "# print(f\"Number of rows: {len(df)}\")\n",
        "# print(f\"Number of columns:{len(df.columns)}\")\n",
        "# print(f\"Columns: {np.array(df.columns)}\")\n",
        "df.info()"
      ],
      "metadata": {
        "colab": {
          "base_uri": "https://localhost:8080/"
        },
        "id": "gFa0EHLeX6E0",
        "outputId": "9f473d30-3ccc-4150-f975-7bde934a6854"
      },
      "execution_count": 6,
      "outputs": [
        {
          "output_type": "stream",
          "name": "stdout",
          "text": [
            "<class 'pandas.core.frame.DataFrame'>\n",
            "RangeIndex: 39499 entries, 0 to 39498\n",
            "Data columns (total 15 columns):\n",
            " #   Column                  Non-Null Count  Dtype  \n",
            "---  ------                  --------------  -----  \n",
            " 0   Property_ID             39499 non-null  object \n",
            " 1   Property_Type           39499 non-null  object \n",
            " 2   Property_Area           39499 non-null  int64  \n",
            " 3   Number_of_Windows       37845 non-null  float64\n",
            " 4   Number_of_Doors         39499 non-null  int64  \n",
            " 5   Furnishing              38457 non-null  object \n",
            " 6   Frequency_of_Powercuts  38116 non-null  float64\n",
            " 7   Power_Backup            39499 non-null  object \n",
            " 8   Water_Supply            39499 non-null  object \n",
            " 9   Traffic_Density_Score   39499 non-null  float64\n",
            " 10  Crime_Rate              38712 non-null  object \n",
            " 11  Dust_and_Noise          38280 non-null  object \n",
            " 12  Air_Quality_Index       39499 non-null  float64\n",
            " 13  Neighborhood_Review     39499 non-null  float64\n",
            " 14  Habitability_score      39499 non-null  float64\n",
            "dtypes: float64(6), int64(2), object(7)\n",
            "memory usage: 4.5+ MB\n"
          ]
        }
      ]
    },
    {
      "cell_type": "markdown",
      "source": [],
      "metadata": {
        "id": "Ly_i1dTHkXCi"
      }
    },
    {
      "cell_type": "markdown",
      "source": [
        "## Exploratory Data Analysis"
      ],
      "metadata": {
        "id": "y4om8sSGZQMA"
      }
    },
    {
      "cell_type": "code",
      "source": [
        "df['Property_Type'].unique()"
      ],
      "metadata": {
        "colab": {
          "base_uri": "https://localhost:8080/"
        },
        "id": "roeX2X9GYCcO",
        "outputId": "4ab33123-ab05-42d2-e3b9-136406f055a6"
      },
      "execution_count": 7,
      "outputs": [
        {
          "output_type": "execute_result",
          "data": {
            "text/plain": [
              "array(['Apartment', 'Bungalow', 'Single-family home', 'Duplex',\n",
              "       '#R%$G&867', 'Container Home'], dtype=object)"
            ]
          },
          "metadata": {},
          "execution_count": 7
        }
      ]
    },
    {
      "cell_type": "code",
      "source": [
        "df.info()"
      ],
      "metadata": {
        "colab": {
          "base_uri": "https://localhost:8080/"
        },
        "id": "nZIfiMxrkMnB",
        "outputId": "ebaca953-16d1-49e8-c837-69b616df7a98"
      },
      "execution_count": 8,
      "outputs": [
        {
          "output_type": "stream",
          "name": "stdout",
          "text": [
            "<class 'pandas.core.frame.DataFrame'>\n",
            "RangeIndex: 39499 entries, 0 to 39498\n",
            "Data columns (total 15 columns):\n",
            " #   Column                  Non-Null Count  Dtype  \n",
            "---  ------                  --------------  -----  \n",
            " 0   Property_ID             39499 non-null  object \n",
            " 1   Property_Type           39499 non-null  object \n",
            " 2   Property_Area           39499 non-null  int64  \n",
            " 3   Number_of_Windows       37845 non-null  float64\n",
            " 4   Number_of_Doors         39499 non-null  int64  \n",
            " 5   Furnishing              38457 non-null  object \n",
            " 6   Frequency_of_Powercuts  38116 non-null  float64\n",
            " 7   Power_Backup            39499 non-null  object \n",
            " 8   Water_Supply            39499 non-null  object \n",
            " 9   Traffic_Density_Score   39499 non-null  float64\n",
            " 10  Crime_Rate              38712 non-null  object \n",
            " 11  Dust_and_Noise          38280 non-null  object \n",
            " 12  Air_Quality_Index       39499 non-null  float64\n",
            " 13  Neighborhood_Review     39499 non-null  float64\n",
            " 14  Habitability_score      39499 non-null  float64\n",
            "dtypes: float64(6), int64(2), object(7)\n",
            "memory usage: 4.5+ MB\n"
          ]
        }
      ]
    }
  ]
}