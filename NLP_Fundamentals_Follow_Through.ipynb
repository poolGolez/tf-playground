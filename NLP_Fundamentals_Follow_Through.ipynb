{
  "nbformat": 4,
  "nbformat_minor": 0,
  "metadata": {
    "colab": {
      "provenance": [],
      "gpuType": "T4",
      "toc_visible": true,
      "authorship_tag": "ABX9TyP5F4p604aPeS1SIhgpxThs",
      "include_colab_link": true
    },
    "kernelspec": {
      "name": "python3",
      "display_name": "Python 3"
    },
    "language_info": {
      "name": "python"
    },
    "accelerator": "GPU"
  },
  "cells": [
    {
      "cell_type": "markdown",
      "metadata": {
        "id": "view-in-github",
        "colab_type": "text"
      },
      "source": [
        "<a href=\"https://colab.research.google.com/github/poolGolez/tf-playground/blob/main/NLP_Fundamentals_Follow_Through.ipynb\" target=\"_parent\"><img src=\"https://colab.research.google.com/assets/colab-badge.svg\" alt=\"Open In Colab\"/></a>"
      ]
    },
    {
      "cell_type": "markdown",
      "source": [
        "# Setup\n"
      ],
      "metadata": {
        "id": "k0hIEPGKp024"
      }
    },
    {
      "cell_type": "code",
      "execution_count": 1,
      "metadata": {
        "colab": {
          "base_uri": "https://localhost:8080/"
        },
        "id": "SkNTO5VLnfEY",
        "outputId": "c1fc8928-1d7e-48ad-c4ad-85f5c5ca1fb4"
      },
      "outputs": [
        {
          "output_type": "stream",
          "name": "stdout",
          "text": [
            "Fri Jun 23 03:26:33 2023       \n",
            "+-----------------------------------------------------------------------------+\n",
            "| NVIDIA-SMI 525.85.12    Driver Version: 525.85.12    CUDA Version: 12.0     |\n",
            "|-------------------------------+----------------------+----------------------+\n",
            "| GPU  Name        Persistence-M| Bus-Id        Disp.A | Volatile Uncorr. ECC |\n",
            "| Fan  Temp  Perf  Pwr:Usage/Cap|         Memory-Usage | GPU-Util  Compute M. |\n",
            "|                               |                      |               MIG M. |\n",
            "|===============================+======================+======================|\n",
            "|   0  Tesla T4            Off  | 00000000:00:04.0 Off |                    0 |\n",
            "| N/A   49C    P8    10W /  70W |      0MiB / 15360MiB |      0%      Default |\n",
            "|                               |                      |                  N/A |\n",
            "+-------------------------------+----------------------+----------------------+\n",
            "                                                                               \n",
            "+-----------------------------------------------------------------------------+\n",
            "| Processes:                                                                  |\n",
            "|  GPU   GI   CI        PID   Type   Process name                  GPU Memory |\n",
            "|        ID   ID                                                   Usage      |\n",
            "|=============================================================================|\n",
            "|  No running processes found                                                 |\n",
            "+-----------------------------------------------------------------------------+\n"
          ]
        }
      ],
      "source": [
        "# Check for GPU\n",
        "!nvidia-smi"
      ]
    },
    {
      "cell_type": "code",
      "source": [
        "import pandas as pd\n",
        "import numpy as np\n",
        "import tensorflow as tf\n",
        "\n",
        "from sklearn.model_selection import train_test_split"
      ],
      "metadata": {
        "id": "XCJitAX7p-xq"
      },
      "execution_count": 2,
      "outputs": []
    },
    {
      "cell_type": "code",
      "source": [
        "# Helper functions\n",
        "!wget https://raw.githubusercontent.com/mrdbourke/tensorflow-deep-learning/main/extras/helper_functions.py\n",
        "\n",
        "from helper_functions import unzip_data, create_tensorboard_callback, plot_loss_curves, compare_historys"
      ],
      "metadata": {
        "colab": {
          "base_uri": "https://localhost:8080/"
        },
        "id": "6_OZtwi4oMoz",
        "outputId": "b4a684fe-6196-4f23-f797-1ddfa78e30dc"
      },
      "execution_count": 3,
      "outputs": [
        {
          "output_type": "stream",
          "name": "stdout",
          "text": [
            "--2023-06-23 03:26:37--  https://raw.githubusercontent.com/mrdbourke/tensorflow-deep-learning/main/extras/helper_functions.py\n",
            "Resolving raw.githubusercontent.com (raw.githubusercontent.com)... 185.199.108.133, 185.199.109.133, 185.199.110.133, ...\n",
            "Connecting to raw.githubusercontent.com (raw.githubusercontent.com)|185.199.108.133|:443... connected.\n",
            "HTTP request sent, awaiting response... 200 OK\n",
            "Length: 10246 (10K) [text/plain]\n",
            "Saving to: ‘helper_functions.py’\n",
            "\n",
            "\rhelper_functions.py   0%[                    ]       0  --.-KB/s               \rhelper_functions.py 100%[===================>]  10.01K  --.-KB/s    in 0s      \n",
            "\n",
            "2023-06-23 03:26:37 (89.8 MB/s) - ‘helper_functions.py’ saved [10246/10246]\n",
            "\n"
          ]
        }
      ]
    },
    {
      "cell_type": "code",
      "source": [
        "# The dataset (disaster or not disaster from tweets)\n",
        "!wget \"https://storage.googleapis.com/ztm_tf_course/nlp_getting_started.zip\"\n",
        "unzip_data('nlp_getting_started.zip')"
      ],
      "metadata": {
        "colab": {
          "base_uri": "https://localhost:8080/"
        },
        "id": "dDHY5l4Holx0",
        "outputId": "07ce8378-5ec3-42d0-9b4d-f15055f1dc78"
      },
      "execution_count": 4,
      "outputs": [
        {
          "output_type": "stream",
          "name": "stdout",
          "text": [
            "--2023-06-23 03:26:37--  https://storage.googleapis.com/ztm_tf_course/nlp_getting_started.zip\n",
            "Resolving storage.googleapis.com (storage.googleapis.com)... 74.125.197.128, 74.125.135.128, 74.125.142.128, ...\n",
            "Connecting to storage.googleapis.com (storage.googleapis.com)|74.125.197.128|:443... connected.\n",
            "HTTP request sent, awaiting response... 200 OK\n",
            "Length: 607343 (593K) [application/zip]\n",
            "Saving to: ‘nlp_getting_started.zip’\n",
            "\n",
            "\rnlp_getting_started   0%[                    ]       0  --.-KB/s               \rnlp_getting_started 100%[===================>] 593.11K  --.-KB/s    in 0.005s  \n",
            "\n",
            "2023-06-23 03:26:38 (118 MB/s) - ‘nlp_getting_started.zip’ saved [607343/607343]\n",
            "\n"
          ]
        }
      ]
    },
    {
      "cell_type": "markdown",
      "source": [
        "# Exploratory Data Analysis"
      ],
      "metadata": {
        "id": "Aq-LEkQKp4C3"
      }
    },
    {
      "cell_type": "code",
      "source": [
        "train_df = pd.read_csv('train.csv')\n",
        "\n",
        "train_df.head()"
      ],
      "metadata": {
        "colab": {
          "base_uri": "https://localhost:8080/",
          "height": 250
        },
        "id": "y4nhD-2NpcCB",
        "outputId": "e5de5ec9-4e1d-4c48-8a6d-b88b1f140100"
      },
      "execution_count": 5,
      "outputs": [
        {
          "output_type": "execute_result",
          "data": {
            "text/plain": [
              "   id keyword location                                               text  \\\n",
              "0   1     NaN      NaN  Our Deeds are the Reason of this #earthquake M...   \n",
              "1   4     NaN      NaN             Forest fire near La Ronge Sask. Canada   \n",
              "2   5     NaN      NaN  All residents asked to 'shelter in place' are ...   \n",
              "3   6     NaN      NaN  13,000 people receive #wildfires evacuation or...   \n",
              "4   7     NaN      NaN  Just got sent this photo from Ruby #Alaska as ...   \n",
              "\n",
              "   target  \n",
              "0       1  \n",
              "1       1  \n",
              "2       1  \n",
              "3       1  \n",
              "4       1  "
            ],
            "text/html": [
              "\n",
              "  <div id=\"df-4e54ead3-67bb-4bc6-8001-4661ae01df24\">\n",
              "    <div class=\"colab-df-container\">\n",
              "      <div>\n",
              "<style scoped>\n",
              "    .dataframe tbody tr th:only-of-type {\n",
              "        vertical-align: middle;\n",
              "    }\n",
              "\n",
              "    .dataframe tbody tr th {\n",
              "        vertical-align: top;\n",
              "    }\n",
              "\n",
              "    .dataframe thead th {\n",
              "        text-align: right;\n",
              "    }\n",
              "</style>\n",
              "<table border=\"1\" class=\"dataframe\">\n",
              "  <thead>\n",
              "    <tr style=\"text-align: right;\">\n",
              "      <th></th>\n",
              "      <th>id</th>\n",
              "      <th>keyword</th>\n",
              "      <th>location</th>\n",
              "      <th>text</th>\n",
              "      <th>target</th>\n",
              "    </tr>\n",
              "  </thead>\n",
              "  <tbody>\n",
              "    <tr>\n",
              "      <th>0</th>\n",
              "      <td>1</td>\n",
              "      <td>NaN</td>\n",
              "      <td>NaN</td>\n",
              "      <td>Our Deeds are the Reason of this #earthquake M...</td>\n",
              "      <td>1</td>\n",
              "    </tr>\n",
              "    <tr>\n",
              "      <th>1</th>\n",
              "      <td>4</td>\n",
              "      <td>NaN</td>\n",
              "      <td>NaN</td>\n",
              "      <td>Forest fire near La Ronge Sask. Canada</td>\n",
              "      <td>1</td>\n",
              "    </tr>\n",
              "    <tr>\n",
              "      <th>2</th>\n",
              "      <td>5</td>\n",
              "      <td>NaN</td>\n",
              "      <td>NaN</td>\n",
              "      <td>All residents asked to 'shelter in place' are ...</td>\n",
              "      <td>1</td>\n",
              "    </tr>\n",
              "    <tr>\n",
              "      <th>3</th>\n",
              "      <td>6</td>\n",
              "      <td>NaN</td>\n",
              "      <td>NaN</td>\n",
              "      <td>13,000 people receive #wildfires evacuation or...</td>\n",
              "      <td>1</td>\n",
              "    </tr>\n",
              "    <tr>\n",
              "      <th>4</th>\n",
              "      <td>7</td>\n",
              "      <td>NaN</td>\n",
              "      <td>NaN</td>\n",
              "      <td>Just got sent this photo from Ruby #Alaska as ...</td>\n",
              "      <td>1</td>\n",
              "    </tr>\n",
              "  </tbody>\n",
              "</table>\n",
              "</div>\n",
              "      <button class=\"colab-df-convert\" onclick=\"convertToInteractive('df-4e54ead3-67bb-4bc6-8001-4661ae01df24')\"\n",
              "              title=\"Convert this dataframe to an interactive table.\"\n",
              "              style=\"display:none;\">\n",
              "        \n",
              "  <svg xmlns=\"http://www.w3.org/2000/svg\" height=\"24px\"viewBox=\"0 0 24 24\"\n",
              "       width=\"24px\">\n",
              "    <path d=\"M0 0h24v24H0V0z\" fill=\"none\"/>\n",
              "    <path d=\"M18.56 5.44l.94 2.06.94-2.06 2.06-.94-2.06-.94-.94-2.06-.94 2.06-2.06.94zm-11 1L8.5 8.5l.94-2.06 2.06-.94-2.06-.94L8.5 2.5l-.94 2.06-2.06.94zm10 10l.94 2.06.94-2.06 2.06-.94-2.06-.94-.94-2.06-.94 2.06-2.06.94z\"/><path d=\"M17.41 7.96l-1.37-1.37c-.4-.4-.92-.59-1.43-.59-.52 0-1.04.2-1.43.59L10.3 9.45l-7.72 7.72c-.78.78-.78 2.05 0 2.83L4 21.41c.39.39.9.59 1.41.59.51 0 1.02-.2 1.41-.59l7.78-7.78 2.81-2.81c.8-.78.8-2.07 0-2.86zM5.41 20L4 18.59l7.72-7.72 1.47 1.35L5.41 20z\"/>\n",
              "  </svg>\n",
              "      </button>\n",
              "      \n",
              "  <style>\n",
              "    .colab-df-container {\n",
              "      display:flex;\n",
              "      flex-wrap:wrap;\n",
              "      gap: 12px;\n",
              "    }\n",
              "\n",
              "    .colab-df-convert {\n",
              "      background-color: #E8F0FE;\n",
              "      border: none;\n",
              "      border-radius: 50%;\n",
              "      cursor: pointer;\n",
              "      display: none;\n",
              "      fill: #1967D2;\n",
              "      height: 32px;\n",
              "      padding: 0 0 0 0;\n",
              "      width: 32px;\n",
              "    }\n",
              "\n",
              "    .colab-df-convert:hover {\n",
              "      background-color: #E2EBFA;\n",
              "      box-shadow: 0px 1px 2px rgba(60, 64, 67, 0.3), 0px 1px 3px 1px rgba(60, 64, 67, 0.15);\n",
              "      fill: #174EA6;\n",
              "    }\n",
              "\n",
              "    [theme=dark] .colab-df-convert {\n",
              "      background-color: #3B4455;\n",
              "      fill: #D2E3FC;\n",
              "    }\n",
              "\n",
              "    [theme=dark] .colab-df-convert:hover {\n",
              "      background-color: #434B5C;\n",
              "      box-shadow: 0px 1px 3px 1px rgba(0, 0, 0, 0.15);\n",
              "      filter: drop-shadow(0px 1px 2px rgba(0, 0, 0, 0.3));\n",
              "      fill: #FFFFFF;\n",
              "    }\n",
              "  </style>\n",
              "\n",
              "      <script>\n",
              "        const buttonEl =\n",
              "          document.querySelector('#df-4e54ead3-67bb-4bc6-8001-4661ae01df24 button.colab-df-convert');\n",
              "        buttonEl.style.display =\n",
              "          google.colab.kernel.accessAllowed ? 'block' : 'none';\n",
              "\n",
              "        async function convertToInteractive(key) {\n",
              "          const element = document.querySelector('#df-4e54ead3-67bb-4bc6-8001-4661ae01df24');\n",
              "          const dataTable =\n",
              "            await google.colab.kernel.invokeFunction('convertToInteractive',\n",
              "                                                     [key], {});\n",
              "          if (!dataTable) return;\n",
              "\n",
              "          const docLinkHtml = 'Like what you see? Visit the ' +\n",
              "            '<a target=\"_blank\" href=https://colab.research.google.com/notebooks/data_table.ipynb>data table notebook</a>'\n",
              "            + ' to learn more about interactive tables.';\n",
              "          element.innerHTML = '';\n",
              "          dataTable['output_type'] = 'display_data';\n",
              "          await google.colab.output.renderOutput(dataTable, element);\n",
              "          const docLink = document.createElement('div');\n",
              "          docLink.innerHTML = docLinkHtml;\n",
              "          element.appendChild(docLink);\n",
              "        }\n",
              "      </script>\n",
              "    </div>\n",
              "  </div>\n",
              "  "
            ]
          },
          "metadata": {},
          "execution_count": 5
        }
      ]
    },
    {
      "cell_type": "code",
      "source": [
        "tally = train_df['target'].value_counts()\n",
        "\n",
        "print(\"Train dataset target occurences\")\n",
        "print(f\"No(%): {tally[0]} ({tally[0]/tally.sum() * 100:.2f}%)\")\n",
        "print(f\"Yes(%): {tally[1]} ({tally[1]/tally.sum() * 100:.2f}%)\")"
      ],
      "metadata": {
        "colab": {
          "base_uri": "https://localhost:8080/"
        },
        "id": "_FwXQQmMt3o-",
        "outputId": "9a5f52d6-6677-4909-b616-f2afd0bdb1e0"
      },
      "execution_count": 6,
      "outputs": [
        {
          "output_type": "stream",
          "name": "stdout",
          "text": [
            "Train dataset target occurences\n",
            "No(%): 4342 (57.03%)\n",
            "Yes(%): 3271 (42.97%)\n"
          ]
        }
      ]
    },
    {
      "cell_type": "markdown",
      "source": [
        "# Split train and validation set"
      ],
      "metadata": {
        "id": "tGIwWuSkFX2x"
      }
    },
    {
      "cell_type": "code",
      "source": [
        "X_train, X_val, y_train, y_val = train_test_split(train_df['text'], train_df['target'],\n",
        "                                                  shuffle=True,\n",
        "                                                  test_size=0.1,\n",
        "                                                  random_state = 42)\n",
        "len(X_train), len(y_train), len(X_val), len(y_val)"
      ],
      "metadata": {
        "colab": {
          "base_uri": "https://localhost:8080/"
        },
        "id": "61VarzQ5FaNG",
        "outputId": "25111d8f-1175-49e5-95a0-aff89d985684"
      },
      "execution_count": 7,
      "outputs": [
        {
          "output_type": "execute_result",
          "data": {
            "text/plain": [
              "(6851, 6851, 762, 762)"
            ]
          },
          "metadata": {},
          "execution_count": 7
        }
      ]
    },
    {
      "cell_type": "code",
      "source": [
        "pd.concat([X_train, y_train], axis=1).head(15)"
      ],
      "metadata": {
        "colab": {
          "base_uri": "https://localhost:8080/",
          "height": 520
        },
        "id": "5X6nyUbaF7jv",
        "outputId": "93316420-e50b-403f-f627-7fdba81770d4"
      },
      "execution_count": 8,
      "outputs": [
        {
          "output_type": "execute_result",
          "data": {
            "text/plain": [
              "                                                   text  target\n",
              "4620  'McFadden Reportedly to Test Hamstring Thursda...       0\n",
              "2858  w--=-=-=-[ NEMA warns Nigerians to prepare for...       1\n",
              "3098  When I was cooking earlier I got electrocuted ...       0\n",
              "3751               I'm On Fire.  http://t.co/WATsmxYTVa       0\n",
              "5285  More than 40 families affected by the fatal ou...       1\n",
              "5863  Why do u ruin everything?  @9tarbox u ruined t...       0\n",
              "4827  http://t.co/c1H7JECFrV @RoyalCarribean do your...       1\n",
              "5190  WACKOES like #MicheleBachman predict the WORLD...       0\n",
              "5784  @Reuters people like you should be charged aft...       0\n",
              "4369  Remove the http://t.co/2nS5TfnxpA and Linkury ...       0\n",
              "6556  Cute &amp; all livin' the life then you zoom i...       0\n",
              "835   @Blizzard_draco @LoneWolffur also me please I ...       0\n",
              "4552  @ChristieC733 please support this Please cospo...       1\n",
              "7419  Police Officer Wounded Suspect Dead After Exch...       1\n",
              "6364  Pic of 16yr old PKK suicide bomber who detonat...       1"
            ],
            "text/html": [
              "\n",
              "  <div id=\"df-ff6aabb1-ea7f-4a6a-9945-b6c271c1407e\">\n",
              "    <div class=\"colab-df-container\">\n",
              "      <div>\n",
              "<style scoped>\n",
              "    .dataframe tbody tr th:only-of-type {\n",
              "        vertical-align: middle;\n",
              "    }\n",
              "\n",
              "    .dataframe tbody tr th {\n",
              "        vertical-align: top;\n",
              "    }\n",
              "\n",
              "    .dataframe thead th {\n",
              "        text-align: right;\n",
              "    }\n",
              "</style>\n",
              "<table border=\"1\" class=\"dataframe\">\n",
              "  <thead>\n",
              "    <tr style=\"text-align: right;\">\n",
              "      <th></th>\n",
              "      <th>text</th>\n",
              "      <th>target</th>\n",
              "    </tr>\n",
              "  </thead>\n",
              "  <tbody>\n",
              "    <tr>\n",
              "      <th>4620</th>\n",
              "      <td>'McFadden Reportedly to Test Hamstring Thursda...</td>\n",
              "      <td>0</td>\n",
              "    </tr>\n",
              "    <tr>\n",
              "      <th>2858</th>\n",
              "      <td>w--=-=-=-[ NEMA warns Nigerians to prepare for...</td>\n",
              "      <td>1</td>\n",
              "    </tr>\n",
              "    <tr>\n",
              "      <th>3098</th>\n",
              "      <td>When I was cooking earlier I got electrocuted ...</td>\n",
              "      <td>0</td>\n",
              "    </tr>\n",
              "    <tr>\n",
              "      <th>3751</th>\n",
              "      <td>I'm On Fire.  http://t.co/WATsmxYTVa</td>\n",
              "      <td>0</td>\n",
              "    </tr>\n",
              "    <tr>\n",
              "      <th>5285</th>\n",
              "      <td>More than 40 families affected by the fatal ou...</td>\n",
              "      <td>1</td>\n",
              "    </tr>\n",
              "    <tr>\n",
              "      <th>5863</th>\n",
              "      <td>Why do u ruin everything?  @9tarbox u ruined t...</td>\n",
              "      <td>0</td>\n",
              "    </tr>\n",
              "    <tr>\n",
              "      <th>4827</th>\n",
              "      <td>http://t.co/c1H7JECFrV @RoyalCarribean do your...</td>\n",
              "      <td>1</td>\n",
              "    </tr>\n",
              "    <tr>\n",
              "      <th>5190</th>\n",
              "      <td>WACKOES like #MicheleBachman predict the WORLD...</td>\n",
              "      <td>0</td>\n",
              "    </tr>\n",
              "    <tr>\n",
              "      <th>5784</th>\n",
              "      <td>@Reuters people like you should be charged aft...</td>\n",
              "      <td>0</td>\n",
              "    </tr>\n",
              "    <tr>\n",
              "      <th>4369</th>\n",
              "      <td>Remove the http://t.co/2nS5TfnxpA and Linkury ...</td>\n",
              "      <td>0</td>\n",
              "    </tr>\n",
              "    <tr>\n",
              "      <th>6556</th>\n",
              "      <td>Cute &amp;amp; all livin' the life then you zoom i...</td>\n",
              "      <td>0</td>\n",
              "    </tr>\n",
              "    <tr>\n",
              "      <th>835</th>\n",
              "      <td>@Blizzard_draco @LoneWolffur also me please I ...</td>\n",
              "      <td>0</td>\n",
              "    </tr>\n",
              "    <tr>\n",
              "      <th>4552</th>\n",
              "      <td>@ChristieC733 please support this Please cospo...</td>\n",
              "      <td>1</td>\n",
              "    </tr>\n",
              "    <tr>\n",
              "      <th>7419</th>\n",
              "      <td>Police Officer Wounded Suspect Dead After Exch...</td>\n",
              "      <td>1</td>\n",
              "    </tr>\n",
              "    <tr>\n",
              "      <th>6364</th>\n",
              "      <td>Pic of 16yr old PKK suicide bomber who detonat...</td>\n",
              "      <td>1</td>\n",
              "    </tr>\n",
              "  </tbody>\n",
              "</table>\n",
              "</div>\n",
              "      <button class=\"colab-df-convert\" onclick=\"convertToInteractive('df-ff6aabb1-ea7f-4a6a-9945-b6c271c1407e')\"\n",
              "              title=\"Convert this dataframe to an interactive table.\"\n",
              "              style=\"display:none;\">\n",
              "        \n",
              "  <svg xmlns=\"http://www.w3.org/2000/svg\" height=\"24px\"viewBox=\"0 0 24 24\"\n",
              "       width=\"24px\">\n",
              "    <path d=\"M0 0h24v24H0V0z\" fill=\"none\"/>\n",
              "    <path d=\"M18.56 5.44l.94 2.06.94-2.06 2.06-.94-2.06-.94-.94-2.06-.94 2.06-2.06.94zm-11 1L8.5 8.5l.94-2.06 2.06-.94-2.06-.94L8.5 2.5l-.94 2.06-2.06.94zm10 10l.94 2.06.94-2.06 2.06-.94-2.06-.94-.94-2.06-.94 2.06-2.06.94z\"/><path d=\"M17.41 7.96l-1.37-1.37c-.4-.4-.92-.59-1.43-.59-.52 0-1.04.2-1.43.59L10.3 9.45l-7.72 7.72c-.78.78-.78 2.05 0 2.83L4 21.41c.39.39.9.59 1.41.59.51 0 1.02-.2 1.41-.59l7.78-7.78 2.81-2.81c.8-.78.8-2.07 0-2.86zM5.41 20L4 18.59l7.72-7.72 1.47 1.35L5.41 20z\"/>\n",
              "  </svg>\n",
              "      </button>\n",
              "      \n",
              "  <style>\n",
              "    .colab-df-container {\n",
              "      display:flex;\n",
              "      flex-wrap:wrap;\n",
              "      gap: 12px;\n",
              "    }\n",
              "\n",
              "    .colab-df-convert {\n",
              "      background-color: #E8F0FE;\n",
              "      border: none;\n",
              "      border-radius: 50%;\n",
              "      cursor: pointer;\n",
              "      display: none;\n",
              "      fill: #1967D2;\n",
              "      height: 32px;\n",
              "      padding: 0 0 0 0;\n",
              "      width: 32px;\n",
              "    }\n",
              "\n",
              "    .colab-df-convert:hover {\n",
              "      background-color: #E2EBFA;\n",
              "      box-shadow: 0px 1px 2px rgba(60, 64, 67, 0.3), 0px 1px 3px 1px rgba(60, 64, 67, 0.15);\n",
              "      fill: #174EA6;\n",
              "    }\n",
              "\n",
              "    [theme=dark] .colab-df-convert {\n",
              "      background-color: #3B4455;\n",
              "      fill: #D2E3FC;\n",
              "    }\n",
              "\n",
              "    [theme=dark] .colab-df-convert:hover {\n",
              "      background-color: #434B5C;\n",
              "      box-shadow: 0px 1px 3px 1px rgba(0, 0, 0, 0.15);\n",
              "      filter: drop-shadow(0px 1px 2px rgba(0, 0, 0, 0.3));\n",
              "      fill: #FFFFFF;\n",
              "    }\n",
              "  </style>\n",
              "\n",
              "      <script>\n",
              "        const buttonEl =\n",
              "          document.querySelector('#df-ff6aabb1-ea7f-4a6a-9945-b6c271c1407e button.colab-df-convert');\n",
              "        buttonEl.style.display =\n",
              "          google.colab.kernel.accessAllowed ? 'block' : 'none';\n",
              "\n",
              "        async function convertToInteractive(key) {\n",
              "          const element = document.querySelector('#df-ff6aabb1-ea7f-4a6a-9945-b6c271c1407e');\n",
              "          const dataTable =\n",
              "            await google.colab.kernel.invokeFunction('convertToInteractive',\n",
              "                                                     [key], {});\n",
              "          if (!dataTable) return;\n",
              "\n",
              "          const docLinkHtml = 'Like what you see? Visit the ' +\n",
              "            '<a target=\"_blank\" href=https://colab.research.google.com/notebooks/data_table.ipynb>data table notebook</a>'\n",
              "            + ' to learn more about interactive tables.';\n",
              "          element.innerHTML = '';\n",
              "          dataTable['output_type'] = 'display_data';\n",
              "          await google.colab.output.renderOutput(dataTable, element);\n",
              "          const docLink = document.createElement('div');\n",
              "          docLink.innerHTML = docLinkHtml;\n",
              "          element.appendChild(docLink);\n",
              "        }\n",
              "      </script>\n",
              "    </div>\n",
              "  </div>\n",
              "  "
            ]
          },
          "metadata": {},
          "execution_count": 8
        }
      ]
    },
    {
      "cell_type": "code",
      "source": [
        "pd.concat([X_val, y_val], axis=1).head(15)"
      ],
      "metadata": {
        "colab": {
          "base_uri": "https://localhost:8080/",
          "height": 520
        },
        "id": "WtPPAx6-HiSp",
        "outputId": "024d62a7-0f99-432c-fae4-4e41107080b1"
      },
      "execution_count": 9,
      "outputs": [
        {
          "output_type": "execute_result",
          "data": {
            "text/plain": [
              "                                                   text  target\n",
              "2644  So you have a new weapon that can cause un-ima...       1\n",
              "2227  The f$&amp;@ing things I do for #GISHWHES Just...       0\n",
              "5448  DT @georgegalloway: RT @Galloway4Mayor: ÛÏThe...       1\n",
              "132   Aftershock back to school kick off was great. ...       0\n",
              "6845  in response to trauma Children of Addicts deve...       0\n",
              "5559  @Calum5SOS you look like you got caught in a r...       0\n",
              "1765  my favorite lady came to our volunteer meeting...       1\n",
              "1817  @brianroemmele UX fail of EMV - people want to...       1\n",
              "6810  Can't find my ariana grande shirt  this is a f...       0\n",
              "4398  The Murderous Story Of AmericaÛªs First Hijac...       1\n",
              "1807  AKILAH WORLD NEWS Cop pulls man from car to av...       1\n",
              "6101                We walk the plank of a sinking ship       0\n",
              "5701  @Zak_Bagans pets r like part of the family. I ...       0\n",
              "6029  ON THE USE OF PERFORATED METAL SHEAR PANEL SFO...       0\n",
              "3012  The answer my friend is yelling in the wind-my...       0"
            ],
            "text/html": [
              "\n",
              "  <div id=\"df-694ac195-6672-46d2-88ca-44516d825e3f\">\n",
              "    <div class=\"colab-df-container\">\n",
              "      <div>\n",
              "<style scoped>\n",
              "    .dataframe tbody tr th:only-of-type {\n",
              "        vertical-align: middle;\n",
              "    }\n",
              "\n",
              "    .dataframe tbody tr th {\n",
              "        vertical-align: top;\n",
              "    }\n",
              "\n",
              "    .dataframe thead th {\n",
              "        text-align: right;\n",
              "    }\n",
              "</style>\n",
              "<table border=\"1\" class=\"dataframe\">\n",
              "  <thead>\n",
              "    <tr style=\"text-align: right;\">\n",
              "      <th></th>\n",
              "      <th>text</th>\n",
              "      <th>target</th>\n",
              "    </tr>\n",
              "  </thead>\n",
              "  <tbody>\n",
              "    <tr>\n",
              "      <th>2644</th>\n",
              "      <td>So you have a new weapon that can cause un-ima...</td>\n",
              "      <td>1</td>\n",
              "    </tr>\n",
              "    <tr>\n",
              "      <th>2227</th>\n",
              "      <td>The f$&amp;amp;@ing things I do for #GISHWHES Just...</td>\n",
              "      <td>0</td>\n",
              "    </tr>\n",
              "    <tr>\n",
              "      <th>5448</th>\n",
              "      <td>DT @georgegalloway: RT @Galloway4Mayor: ÛÏThe...</td>\n",
              "      <td>1</td>\n",
              "    </tr>\n",
              "    <tr>\n",
              "      <th>132</th>\n",
              "      <td>Aftershock back to school kick off was great. ...</td>\n",
              "      <td>0</td>\n",
              "    </tr>\n",
              "    <tr>\n",
              "      <th>6845</th>\n",
              "      <td>in response to trauma Children of Addicts deve...</td>\n",
              "      <td>0</td>\n",
              "    </tr>\n",
              "    <tr>\n",
              "      <th>5559</th>\n",
              "      <td>@Calum5SOS you look like you got caught in a r...</td>\n",
              "      <td>0</td>\n",
              "    </tr>\n",
              "    <tr>\n",
              "      <th>1765</th>\n",
              "      <td>my favorite lady came to our volunteer meeting...</td>\n",
              "      <td>1</td>\n",
              "    </tr>\n",
              "    <tr>\n",
              "      <th>1817</th>\n",
              "      <td>@brianroemmele UX fail of EMV - people want to...</td>\n",
              "      <td>1</td>\n",
              "    </tr>\n",
              "    <tr>\n",
              "      <th>6810</th>\n",
              "      <td>Can't find my ariana grande shirt  this is a f...</td>\n",
              "      <td>0</td>\n",
              "    </tr>\n",
              "    <tr>\n",
              "      <th>4398</th>\n",
              "      <td>The Murderous Story Of AmericaÛªs First Hijac...</td>\n",
              "      <td>1</td>\n",
              "    </tr>\n",
              "    <tr>\n",
              "      <th>1807</th>\n",
              "      <td>AKILAH WORLD NEWS Cop pulls man from car to av...</td>\n",
              "      <td>1</td>\n",
              "    </tr>\n",
              "    <tr>\n",
              "      <th>6101</th>\n",
              "      <td>We walk the plank of a sinking ship</td>\n",
              "      <td>0</td>\n",
              "    </tr>\n",
              "    <tr>\n",
              "      <th>5701</th>\n",
              "      <td>@Zak_Bagans pets r like part of the family. I ...</td>\n",
              "      <td>0</td>\n",
              "    </tr>\n",
              "    <tr>\n",
              "      <th>6029</th>\n",
              "      <td>ON THE USE OF PERFORATED METAL SHEAR PANEL SFO...</td>\n",
              "      <td>0</td>\n",
              "    </tr>\n",
              "    <tr>\n",
              "      <th>3012</th>\n",
              "      <td>The answer my friend is yelling in the wind-my...</td>\n",
              "      <td>0</td>\n",
              "    </tr>\n",
              "  </tbody>\n",
              "</table>\n",
              "</div>\n",
              "      <button class=\"colab-df-convert\" onclick=\"convertToInteractive('df-694ac195-6672-46d2-88ca-44516d825e3f')\"\n",
              "              title=\"Convert this dataframe to an interactive table.\"\n",
              "              style=\"display:none;\">\n",
              "        \n",
              "  <svg xmlns=\"http://www.w3.org/2000/svg\" height=\"24px\"viewBox=\"0 0 24 24\"\n",
              "       width=\"24px\">\n",
              "    <path d=\"M0 0h24v24H0V0z\" fill=\"none\"/>\n",
              "    <path d=\"M18.56 5.44l.94 2.06.94-2.06 2.06-.94-2.06-.94-.94-2.06-.94 2.06-2.06.94zm-11 1L8.5 8.5l.94-2.06 2.06-.94-2.06-.94L8.5 2.5l-.94 2.06-2.06.94zm10 10l.94 2.06.94-2.06 2.06-.94-2.06-.94-.94-2.06-.94 2.06-2.06.94z\"/><path d=\"M17.41 7.96l-1.37-1.37c-.4-.4-.92-.59-1.43-.59-.52 0-1.04.2-1.43.59L10.3 9.45l-7.72 7.72c-.78.78-.78 2.05 0 2.83L4 21.41c.39.39.9.59 1.41.59.51 0 1.02-.2 1.41-.59l7.78-7.78 2.81-2.81c.8-.78.8-2.07 0-2.86zM5.41 20L4 18.59l7.72-7.72 1.47 1.35L5.41 20z\"/>\n",
              "  </svg>\n",
              "      </button>\n",
              "      \n",
              "  <style>\n",
              "    .colab-df-container {\n",
              "      display:flex;\n",
              "      flex-wrap:wrap;\n",
              "      gap: 12px;\n",
              "    }\n",
              "\n",
              "    .colab-df-convert {\n",
              "      background-color: #E8F0FE;\n",
              "      border: none;\n",
              "      border-radius: 50%;\n",
              "      cursor: pointer;\n",
              "      display: none;\n",
              "      fill: #1967D2;\n",
              "      height: 32px;\n",
              "      padding: 0 0 0 0;\n",
              "      width: 32px;\n",
              "    }\n",
              "\n",
              "    .colab-df-convert:hover {\n",
              "      background-color: #E2EBFA;\n",
              "      box-shadow: 0px 1px 2px rgba(60, 64, 67, 0.3), 0px 1px 3px 1px rgba(60, 64, 67, 0.15);\n",
              "      fill: #174EA6;\n",
              "    }\n",
              "\n",
              "    [theme=dark] .colab-df-convert {\n",
              "      background-color: #3B4455;\n",
              "      fill: #D2E3FC;\n",
              "    }\n",
              "\n",
              "    [theme=dark] .colab-df-convert:hover {\n",
              "      background-color: #434B5C;\n",
              "      box-shadow: 0px 1px 3px 1px rgba(0, 0, 0, 0.15);\n",
              "      filter: drop-shadow(0px 1px 2px rgba(0, 0, 0, 0.3));\n",
              "      fill: #FFFFFF;\n",
              "    }\n",
              "  </style>\n",
              "\n",
              "      <script>\n",
              "        const buttonEl =\n",
              "          document.querySelector('#df-694ac195-6672-46d2-88ca-44516d825e3f button.colab-df-convert');\n",
              "        buttonEl.style.display =\n",
              "          google.colab.kernel.accessAllowed ? 'block' : 'none';\n",
              "\n",
              "        async function convertToInteractive(key) {\n",
              "          const element = document.querySelector('#df-694ac195-6672-46d2-88ca-44516d825e3f');\n",
              "          const dataTable =\n",
              "            await google.colab.kernel.invokeFunction('convertToInteractive',\n",
              "                                                     [key], {});\n",
              "          if (!dataTable) return;\n",
              "\n",
              "          const docLinkHtml = 'Like what you see? Visit the ' +\n",
              "            '<a target=\"_blank\" href=https://colab.research.google.com/notebooks/data_table.ipynb>data table notebook</a>'\n",
              "            + ' to learn more about interactive tables.';\n",
              "          element.innerHTML = '';\n",
              "          dataTable['output_type'] = 'display_data';\n",
              "          await google.colab.output.renderOutput(dataTable, element);\n",
              "          const docLink = document.createElement('div');\n",
              "          docLink.innerHTML = docLinkHtml;\n",
              "          element.appendChild(docLink);\n",
              "        }\n",
              "      </script>\n",
              "    </div>\n",
              "  </div>\n",
              "  "
            ]
          },
          "metadata": {},
          "execution_count": 9
        }
      ]
    },
    {
      "cell_type": "markdown",
      "source": [
        "# Play with TextVectorization"
      ],
      "metadata": {
        "id": "8bKJa22-Pikx"
      }
    },
    {
      "cell_type": "code",
      "source": [
        "round(sum([len(stmt.split()) for stmt in X_train])/len(X_train))"
      ],
      "metadata": {
        "colab": {
          "base_uri": "https://localhost:8080/"
        },
        "id": "a3FY7GzNZyCr",
        "outputId": "456d6066-f1b6-480b-e112-f74e49870698"
      },
      "execution_count": 10,
      "outputs": [
        {
          "output_type": "execute_result",
          "data": {
            "text/plain": [
              "15"
            ]
          },
          "metadata": {},
          "execution_count": 10
        }
      ]
    },
    {
      "cell_type": "code",
      "source": [
        "VOCAB_SIZE = 2500\n",
        "VECTOR_OUTPUT_LENGTH = 18\n",
        "EMBEDDING_OUTPUT_DIMS = 256\n",
        "\n",
        "vectorizer = tf.keras.layers.TextVectorization(\n",
        "  max_tokens = VOCAB_SIZE,\n",
        "  output_mode = 'int',\n",
        "  output_sequence_length=15,\n",
        "  name='vectorizer_layer'\n",
        ")"
      ],
      "metadata": {
        "id": "thdKUe4ePns3"
      },
      "execution_count": 11,
      "outputs": []
    },
    {
      "cell_type": "code",
      "source": [
        "vocab = vectorizer.get_vocabulary()\n",
        "len(vocab)"
      ],
      "metadata": {
        "colab": {
          "base_uri": "https://localhost:8080/"
        },
        "id": "jPepz_PWP-Ft",
        "outputId": "84a3d826-adae-42b0-d0c2-648b5248c705"
      },
      "execution_count": 12,
      "outputs": [
        {
          "output_type": "execute_result",
          "data": {
            "text/plain": [
              "2"
            ]
          },
          "metadata": {},
          "execution_count": 12
        }
      ]
    },
    {
      "cell_type": "code",
      "source": [
        "# fit vectorizer to X_train\n",
        "vectorizer.adapt(X_train)"
      ],
      "metadata": {
        "id": "i3RgU_nWQJgS"
      },
      "execution_count": 13,
      "outputs": []
    },
    {
      "cell_type": "code",
      "source": [
        "vocab = vectorizer.get_vocabulary()\n",
        "len(vocab)"
      ],
      "metadata": {
        "colab": {
          "base_uri": "https://localhost:8080/"
        },
        "id": "l5T0unXUQNlq",
        "outputId": "037f805f-f152-4281-a0b4-af4a7bfcc7e2"
      },
      "execution_count": 14,
      "outputs": [
        {
          "output_type": "execute_result",
          "data": {
            "text/plain": [
              "2500"
            ]
          },
          "metadata": {},
          "execution_count": 14
        }
      ]
    },
    {
      "cell_type": "code",
      "source": [
        "vocab[:15], vocab[-15:]"
      ],
      "metadata": {
        "colab": {
          "base_uri": "https://localhost:8080/"
        },
        "id": "MBjX5uP4QTRB",
        "outputId": "3361aa50-d376-4754-d7ca-53cf59f51fd0"
      },
      "execution_count": 15,
      "outputs": [
        {
          "output_type": "execute_result",
          "data": {
            "text/plain": [
              "(['',\n",
              "  '[UNK]',\n",
              "  'the',\n",
              "  'a',\n",
              "  'in',\n",
              "  'to',\n",
              "  'of',\n",
              "  'and',\n",
              "  'i',\n",
              "  'is',\n",
              "  'for',\n",
              "  'on',\n",
              "  'you',\n",
              "  'my',\n",
              "  'with'],\n",
              " ['evil',\n",
              "  'everyones',\n",
              "  'estimated',\n",
              "  'eruption',\n",
              "  'error',\n",
              "  'entertainment',\n",
              "  'enemy',\n",
              "  'emotionally',\n",
              "  'elephant',\n",
              "  'electrical',\n",
              "  'election',\n",
              "  'efforts',\n",
              "  'education',\n",
              "  'edition',\n",
              "  'dvd'])"
            ]
          },
          "metadata": {},
          "execution_count": 15
        }
      ]
    },
    {
      "cell_type": "code",
      "source": [
        "vectorizer([X_train[72]])"
      ],
      "metadata": {
        "colab": {
          "base_uri": "https://localhost:8080/"
        },
        "id": "hcjxxikOQUnk",
        "outputId": "70c23dd5-8e9d-456e-dae1-e84afa6cd7f1"
      },
      "execution_count": 16,
      "outputs": [
        {
          "output_type": "execute_result",
          "data": {
            "text/plain": [
              "<tf.Tensor: shape=(1, 15), dtype=int64, numpy=\n",
              "array([[ 980, 2381,  921,  132,    4,    1,   11,    1,  794,  218,    1,\n",
              "        1188,   43,    1,  921]])>"
            ]
          },
          "metadata": {},
          "execution_count": 16
        }
      ]
    },
    {
      "cell_type": "code",
      "source": [
        "original_stmt = X_train[72]\n",
        "reconstructed_stmt = \" \".join([ vocab[i] for i in vectorizer([X_train[72]])[0] ])\n",
        "\n",
        "print(f\"Original      > {original_stmt}\")\n",
        "print(f\"Reconstructed > {reconstructed_stmt}\")"
      ],
      "metadata": {
        "colab": {
          "base_uri": "https://localhost:8080/"
        },
        "id": "FNPfLA8TSheH",
        "outputId": "fa347a7a-f982-46e7-b541-2f4ae2f8c6d2"
      },
      "execution_count": 17,
      "outputs": [
        {
          "output_type": "stream",
          "name": "stdout",
          "text": [
            "Original      > Reported motor vehicle accident in Curry on Herman Rd near Stephenson involving an overturned vehicle. Please use... http://t.co/YbJezKuRW1\n",
            "Reconstructed > reported motor vehicle accident in [UNK] on [UNK] rd near [UNK] involving an [UNK] vehicle\n"
          ]
        }
      ]
    },
    {
      "cell_type": "markdown",
      "source": [
        "# Play with Embedding"
      ],
      "metadata": {
        "id": "yOADcgtSYkL4"
      }
    },
    {
      "cell_type": "code",
      "source": [
        "def make_embedding():\n",
        "  return tf.keras.layers.Embedding(\n",
        "      input_dim=len(vocab),\n",
        "      output_dim=32,\n",
        "      input_length=101,\n",
        "      name='embedding_layer'\n",
        "  )\n",
        "\n",
        "embedding = make_embedding()"
      ],
      "metadata": {
        "id": "P0VZMxuATts0"
      },
      "execution_count": 18,
      "outputs": []
    },
    {
      "cell_type": "code",
      "source": [
        "X_train[72]"
      ],
      "metadata": {
        "colab": {
          "base_uri": "https://localhost:8080/",
          "height": 53
        },
        "id": "cMS_izIsZRw7",
        "outputId": "e5cbc64b-2286-4dc4-c144-d20491b52378"
      },
      "execution_count": 19,
      "outputs": [
        {
          "output_type": "execute_result",
          "data": {
            "text/plain": [
              "'Reported motor vehicle accident in Curry on Herman Rd near Stephenson involving an overturned vehicle. Please use... http://t.co/YbJezKuRW1'"
            ],
            "application/vnd.google.colaboratory.intrinsic+json": {
              "type": "string"
            }
          },
          "metadata": {},
          "execution_count": 19
        }
      ]
    },
    {
      "cell_type": "code",
      "source": [
        "embedding(vectorizer([X_train[72]]))"
      ],
      "metadata": {
        "colab": {
          "base_uri": "https://localhost:8080/"
        },
        "id": "SyLjmMUSZJ_j",
        "outputId": "09192e90-2280-484b-f4a8-ecf6af8f088b"
      },
      "execution_count": 20,
      "outputs": [
        {
          "output_type": "execute_result",
          "data": {
            "text/plain": [
              "<tf.Tensor: shape=(1, 15, 32), dtype=float32, numpy=\n",
              "array([[[ 0.04261023,  0.00472315, -0.03111579,  0.01007954,\n",
              "          0.00500375, -0.01549773, -0.00741715, -0.00287638,\n",
              "          0.00512606, -0.03369428, -0.03032899,  0.0398461 ,\n",
              "          0.00623815,  0.0132921 ,  0.04545108,  0.00317951,\n",
              "          0.0040052 ,  0.02731461,  0.0445877 ,  0.03055615,\n",
              "         -0.04081487, -0.01711982,  0.00215537,  0.0176926 ,\n",
              "          0.0254388 ,  0.03213585, -0.01004431,  0.03464595,\n",
              "          0.03108424,  0.03593313, -0.0179556 , -0.04357538],\n",
              "        [-0.03618785,  0.04560587,  0.03384827, -0.00701929,\n",
              "         -0.03064166,  0.02762916,  0.02841197, -0.0135637 ,\n",
              "          0.04929138, -0.04756097,  0.02392688, -0.02670602,\n",
              "         -0.00885911, -0.02928015, -0.01065539,  0.01073432,\n",
              "          0.03945942, -0.00333338, -0.04867213, -0.00573363,\n",
              "         -0.03499036, -0.00040561, -0.02974923,  0.04603961,\n",
              "         -0.04645325,  0.03117175,  0.04037618,  0.00904123,\n",
              "         -0.04724847,  0.02536744,  0.03774964, -0.01471686],\n",
              "        [-0.02937008,  0.04938331, -0.04939339, -0.02738884,\n",
              "          0.04459452,  0.03898888, -0.0311465 , -0.01642498,\n",
              "          0.03958099, -0.0064318 , -0.04504844, -0.04494972,\n",
              "         -0.01791209, -0.00530486,  0.02690219, -0.0009404 ,\n",
              "         -0.04556412,  0.02981043, -0.02441149,  0.02498816,\n",
              "         -0.0209106 , -0.04013396,  0.03331048, -0.01422207,\n",
              "          0.02789182,  0.02401134,  0.04961004,  0.03658134,\n",
              "         -0.00489707, -0.02998332, -0.04746968,  0.01045533],\n",
              "        [ 0.0327348 , -0.0138616 ,  0.03236176,  0.00608474,\n",
              "          0.04296868,  0.03234165, -0.0282348 , -0.00704666,\n",
              "         -0.01241951, -0.02692615,  0.03033816, -0.04562698,\n",
              "         -0.01738632,  0.00093253, -0.022439  , -0.03041725,\n",
              "         -0.03055432, -0.02915719,  0.0052437 , -0.02141302,\n",
              "          0.01258048,  0.04782537,  0.04977187, -0.04426116,\n",
              "          0.02205013,  0.04066392, -0.03914987,  0.02831096,\n",
              "          0.04874653, -0.0001628 ,  0.0350321 ,  0.01369854],\n",
              "        [ 0.0457871 , -0.04412608, -0.00693631, -0.0004554 ,\n",
              "          0.01558432, -0.03356498,  0.04434611,  0.02345467,\n",
              "         -0.04383082,  0.03960918,  0.04297254, -0.00225855,\n",
              "         -0.00664673, -0.00665928,  0.01270429, -0.01089716,\n",
              "          0.00836213, -0.0362851 , -0.04845982,  0.00328287,\n",
              "         -0.03610772, -0.0477074 , -0.0350038 , -0.04002516,\n",
              "         -0.01531159, -0.00506256, -0.04964516, -0.03786082,\n",
              "          0.03827548, -0.0408525 ,  0.03795454,  0.03074485],\n",
              "        [ 0.00850675, -0.01370435, -0.0113789 , -0.02948537,\n",
              "          0.03539192,  0.02807125,  0.02902614,  0.02694981,\n",
              "         -0.01938884, -0.02179955,  0.01786279,  0.03116011,\n",
              "         -0.00913774, -0.03704419,  0.03785023, -0.03827705,\n",
              "          0.02668908, -0.00174193, -0.01663595,  0.02193219,\n",
              "         -0.03474395,  0.01342923, -0.04959238, -0.03908483,\n",
              "         -0.04637979,  0.02572389,  0.04546556,  0.00543444,\n",
              "         -0.01581077,  0.00207634,  0.00923743,  0.04975348],\n",
              "        [ 0.04685421,  0.01955128,  0.02316798,  0.02039838,\n",
              "         -0.0165245 , -0.02266486, -0.04699197,  0.0244836 ,\n",
              "          0.0177727 , -0.00424073, -0.03131368,  0.02367551,\n",
              "         -0.0305948 , -0.0094796 ,  0.04209382, -0.04810673,\n",
              "          0.0459124 , -0.04503606, -0.01437061, -0.03189503,\n",
              "          0.0492552 ,  0.01917536,  0.03604514,  0.03885174,\n",
              "          0.0066687 , -0.04201443,  0.01875881,  0.03985896,\n",
              "         -0.03353238, -0.02957221,  0.00437663, -0.01180322],\n",
              "        [ 0.00850675, -0.01370435, -0.0113789 , -0.02948537,\n",
              "          0.03539192,  0.02807125,  0.02902614,  0.02694981,\n",
              "         -0.01938884, -0.02179955,  0.01786279,  0.03116011,\n",
              "         -0.00913774, -0.03704419,  0.03785023, -0.03827705,\n",
              "          0.02668908, -0.00174193, -0.01663595,  0.02193219,\n",
              "         -0.03474395,  0.01342923, -0.04959238, -0.03908483,\n",
              "         -0.04637979,  0.02572389,  0.04546556,  0.00543444,\n",
              "         -0.01581077,  0.00207634,  0.00923743,  0.04975348],\n",
              "        [ 0.03821982, -0.03851454,  0.02582277, -0.03050594,\n",
              "          0.0332833 ,  0.0042081 , -0.00577275,  0.02715521,\n",
              "          0.01633244, -0.03625768, -0.01283943,  0.01883459,\n",
              "         -0.01335447,  0.00317776,  0.01657047,  0.01363688,\n",
              "          0.04023473,  0.02491072,  0.04681039,  0.00940212,\n",
              "         -0.03810009, -0.02397558,  0.03036511, -0.00114293,\n",
              "          0.04746011,  0.04503689,  0.00988588, -0.03715761,\n",
              "          0.02760148, -0.02729957, -0.03865675, -0.00327573],\n",
              "        [ 0.03718397, -0.01284069, -0.0084337 , -0.0330676 ,\n",
              "         -0.02645603, -0.03664871, -0.01284363, -0.0105546 ,\n",
              "          0.04251344,  0.02818945, -0.02520918, -0.04581424,\n",
              "          0.03584185, -0.02379045,  0.00862317,  0.02166239,\n",
              "          0.00397088,  0.01438702,  0.00910889, -0.01950185,\n",
              "         -0.03653951, -0.01450217,  0.04603112, -0.03892362,\n",
              "         -0.02121943,  0.0400709 ,  0.01238076,  0.00039474,\n",
              "         -0.00475906, -0.02532567, -0.03947073, -0.00390339],\n",
              "        [ 0.00850675, -0.01370435, -0.0113789 , -0.02948537,\n",
              "          0.03539192,  0.02807125,  0.02902614,  0.02694981,\n",
              "         -0.01938884, -0.02179955,  0.01786279,  0.03116011,\n",
              "         -0.00913774, -0.03704419,  0.03785023, -0.03827705,\n",
              "          0.02668908, -0.00174193, -0.01663595,  0.02193219,\n",
              "         -0.03474395,  0.01342923, -0.04959238, -0.03908483,\n",
              "         -0.04637979,  0.02572389,  0.04546556,  0.00543444,\n",
              "         -0.01581077,  0.00207634,  0.00923743,  0.04975348],\n",
              "        [ 0.035576  ,  0.00609412,  0.01453701, -0.00081565,\n",
              "         -0.00894737,  0.0011997 ,  0.02840069, -0.03603321,\n",
              "         -0.00053965, -0.00114473,  0.0325788 , -0.00583378,\n",
              "          0.02947315,  0.04920152, -0.04945842,  0.00665686,\n",
              "          0.01525737,  0.01437881, -0.04474992, -0.01615106,\n",
              "         -0.02685881, -0.00103832, -0.00277592,  0.02955321,\n",
              "         -0.02390473, -0.03441999,  0.00683575, -0.04372919,\n",
              "          0.02035692, -0.03688761, -0.04883577, -0.02167314],\n",
              "        [-0.02098037, -0.03216296, -0.01270604,  0.00565041,\n",
              "          0.02509699,  0.00368936,  0.02521176, -0.02095789,\n",
              "          0.0351812 , -0.02521204,  0.03746715,  0.00300925,\n",
              "         -0.02891562,  0.02907796, -0.01088377,  0.04705432,\n",
              "          0.04750612,  0.00871298, -0.0008419 , -0.00223867,\n",
              "         -0.01997625, -0.04762148, -0.03358989, -0.04946158,\n",
              "         -0.04497358,  0.01260461, -0.00795442,  0.01886958,\n",
              "         -0.03101332, -0.04176944, -0.00157733,  0.03286512],\n",
              "        [ 0.00850675, -0.01370435, -0.0113789 , -0.02948537,\n",
              "          0.03539192,  0.02807125,  0.02902614,  0.02694981,\n",
              "         -0.01938884, -0.02179955,  0.01786279,  0.03116011,\n",
              "         -0.00913774, -0.03704419,  0.03785023, -0.03827705,\n",
              "          0.02668908, -0.00174193, -0.01663595,  0.02193219,\n",
              "         -0.03474395,  0.01342923, -0.04959238, -0.03908483,\n",
              "         -0.04637979,  0.02572389,  0.04546556,  0.00543444,\n",
              "         -0.01581077,  0.00207634,  0.00923743,  0.04975348],\n",
              "        [-0.02937008,  0.04938331, -0.04939339, -0.02738884,\n",
              "          0.04459452,  0.03898888, -0.0311465 , -0.01642498,\n",
              "          0.03958099, -0.0064318 , -0.04504844, -0.04494972,\n",
              "         -0.01791209, -0.00530486,  0.02690219, -0.0009404 ,\n",
              "         -0.04556412,  0.02981043, -0.02441149,  0.02498816,\n",
              "         -0.0209106 , -0.04013396,  0.03331048, -0.01422207,\n",
              "          0.02789182,  0.02401134,  0.04961004,  0.03658134,\n",
              "         -0.00489707, -0.02998332, -0.04746968,  0.01045533]]],\n",
              "      dtype=float32)>"
            ]
          },
          "metadata": {},
          "execution_count": 20
        }
      ]
    },
    {
      "cell_type": "markdown",
      "source": [
        "# Modelling\n"
      ],
      "metadata": {
        "id": "qlA00SfDX6yR"
      }
    },
    {
      "cell_type": "markdown",
      "source": [
        "## Model 0 (Baseline): Naive Bayes with TF-IDF encoder"
      ],
      "metadata": {
        "id": "nVSP7M4RX9jo"
      }
    },
    {
      "cell_type": "code",
      "source": [
        "def build_model_0(X, y):\n",
        "  from sklearn.pipeline import Pipeline\n",
        "  from sklearn.feature_extraction.text import TfidfVectorizer\n",
        "  from sklearn.naive_bayes import MultinomialNB\n",
        "\n",
        "  model = Pipeline([\n",
        "      ('vectorizer', TfidfVectorizer()),\n",
        "      ('clf', MultinomialNB())\n",
        "  ])\n",
        "  model.fit(X, y)\n",
        "\n",
        "  return model\n",
        "\n",
        "\n",
        "model_0 = build_model_0(X_train, y_train)"
      ],
      "metadata": {
        "id": "w5c6DnPHYp7y"
      },
      "execution_count": 21,
      "outputs": []
    },
    {
      "cell_type": "code",
      "source": [
        "model_0_preds = model_0.predict(X_val)\n",
        "\n",
        "model_0_preds.shape, model_0_preds[:15]"
      ],
      "metadata": {
        "colab": {
          "base_uri": "https://localhost:8080/"
        },
        "id": "JoPbSzwBtUdu",
        "outputId": "96fceeb7-97e8-44c7-ac19-05ca8dc92152"
      },
      "execution_count": 22,
      "outputs": [
        {
          "output_type": "execute_result",
          "data": {
            "text/plain": [
              "((762,), array([0, 0, 0, 0, 0, 0, 0, 0, 0, 1, 1, 0, 0, 0, 0]))"
            ]
          },
          "metadata": {},
          "execution_count": 22
        }
      ]
    },
    {
      "cell_type": "code",
      "source": [
        "def score_predictions(y_true, y_pred):\n",
        "  from sklearn.metrics import accuracy_score, precision_recall_fscore_support\n",
        "\n",
        "  accuracy = accuracy_score(y_true, y_pred)\n",
        "  precision, recall, f1, _ = precision_recall_fscore_support(y_true, y_pred, average='weighted')\n",
        "\n",
        "  return {\n",
        "      'accuracy': accuracy,\n",
        "      'precision': precision,\n",
        "      'recall': recall,\n",
        "      'f1': f1\n",
        "  }\n",
        "\n",
        "score_predictions(y_val, model_0_preds)"
      ],
      "metadata": {
        "colab": {
          "base_uri": "https://localhost:8080/"
        },
        "id": "rS-e92YXtvof",
        "outputId": "c92fa952-c0c4-4b67-cbae-c9808e950d68"
      },
      "execution_count": 23,
      "outputs": [
        {
          "output_type": "execute_result",
          "data": {
            "text/plain": [
              "{'accuracy': 0.7782152230971129,\n",
              " 'precision': 0.792992256322435,\n",
              " 'recall': 0.7782152230971129,\n",
              " 'f1': 0.7703527809038113}"
            ]
          },
          "metadata": {},
          "execution_count": 23
        }
      ]
    },
    {
      "cell_type": "markdown",
      "source": [
        "## Model 1: Feed-forwared neural network"
      ],
      "metadata": {
        "id": "BBS3y6c7YKTC"
      }
    },
    {
      "cell_type": "code",
      "source": [
        "def build_model_1(X, y):\n",
        "  from tensorflow.keras.layers import Input, TextVectorization, Embedding, Dense, GlobalAveragePooling1D\n",
        "  model = tf.keras.Sequential()\n",
        "  inputs = Input(shape=(1, ), dtype=tf.string)\n",
        "  model.add(inputs)\n",
        "  model.add(vectorizer)\n",
        "\n",
        "  embedding = make_embedding()\n",
        "  model.add(embedding)\n",
        "\n",
        "  pool = GlobalAveragePooling1D()\n",
        "  model.add(pool)\n",
        "\n",
        "  output = Dense(1, activation='sigmoid')\n",
        "  model.add(output)\n",
        "\n",
        "  return model\n",
        "\n",
        "model_1 = build_model_1(X_train, y_train)\n",
        "model_1.summary()"
      ],
      "metadata": {
        "colab": {
          "base_uri": "https://localhost:8080/"
        },
        "id": "4R7fKV-EUrZ6",
        "outputId": "d043219f-7ac9-471d-9bbd-dc931c1776d4"
      },
      "execution_count": 24,
      "outputs": [
        {
          "output_type": "stream",
          "name": "stdout",
          "text": [
            "Model: \"sequential\"\n",
            "_________________________________________________________________\n",
            " Layer (type)                Output Shape              Param #   \n",
            "=================================================================\n",
            " vectorizer_layer (TextVecto  (None, 15)               0         \n",
            " rization)                                                       \n",
            "                                                                 \n",
            " embedding_layer (Embedding)  (None, 15, 32)           80000     \n",
            "                                                                 \n",
            " global_average_pooling1d (G  (None, 32)               0         \n",
            " lobalAveragePooling1D)                                          \n",
            "                                                                 \n",
            " dense (Dense)               (None, 1)                 33        \n",
            "                                                                 \n",
            "=================================================================\n",
            "Total params: 80,033\n",
            "Trainable params: 80,033\n",
            "Non-trainable params: 0\n",
            "_________________________________________________________________\n"
          ]
        }
      ]
    },
    {
      "cell_type": "code",
      "source": [
        "model_1.compile(\n",
        "    loss=tf.keras.losses.BinaryCrossentropy(),\n",
        "    optimizer=tf.keras.optimizers.Adam(),\n",
        "    metrics=['accuracy']\n",
        "  )\n",
        "\n",
        "model_1.fit(X_train, y_train,\n",
        "            epochs=10,\n",
        "            validation_data=(X_val, y_val)\n",
        "            )"
      ],
      "metadata": {
        "colab": {
          "base_uri": "https://localhost:8080/"
        },
        "id": "B5U1YC7TbXqM",
        "outputId": "57d3d1d2-d65d-4dc9-a6ab-39c3a8e4f3f0"
      },
      "execution_count": 25,
      "outputs": [
        {
          "output_type": "stream",
          "name": "stdout",
          "text": [
            "Epoch 1/10\n",
            "215/215 [==============================] - 23s 70ms/step - loss: 0.6484 - accuracy: 0.6386 - val_loss: 0.6122 - val_accuracy: 0.6890\n",
            "Epoch 2/10\n",
            "215/215 [==============================] - 2s 11ms/step - loss: 0.5481 - accuracy: 0.7593 - val_loss: 0.5384 - val_accuracy: 0.7690\n",
            "Epoch 3/10\n",
            "215/215 [==============================] - 2s 11ms/step - loss: 0.4697 - accuracy: 0.8012 - val_loss: 0.5034 - val_accuracy: 0.7795\n",
            "Epoch 4/10\n",
            "215/215 [==============================] - 2s 8ms/step - loss: 0.4237 - accuracy: 0.8218 - val_loss: 0.4890 - val_accuracy: 0.7835\n",
            "Epoch 5/10\n",
            "215/215 [==============================] - 1s 6ms/step - loss: 0.3926 - accuracy: 0.8346 - val_loss: 0.4824 - val_accuracy: 0.7887\n",
            "Epoch 6/10\n",
            "215/215 [==============================] - 1s 6ms/step - loss: 0.3682 - accuracy: 0.8466 - val_loss: 0.4808 - val_accuracy: 0.7874\n",
            "Epoch 7/10\n",
            "215/215 [==============================] - 2s 8ms/step - loss: 0.3497 - accuracy: 0.8524 - val_loss: 0.4810 - val_accuracy: 0.7835\n",
            "Epoch 8/10\n",
            "215/215 [==============================] - 2s 8ms/step - loss: 0.3345 - accuracy: 0.8591 - val_loss: 0.4852 - val_accuracy: 0.7874\n",
            "Epoch 9/10\n",
            "215/215 [==============================] - 1s 5ms/step - loss: 0.3220 - accuracy: 0.8637 - val_loss: 0.4900 - val_accuracy: 0.7913\n",
            "Epoch 10/10\n",
            "215/215 [==============================] - 1s 6ms/step - loss: 0.3108 - accuracy: 0.8698 - val_loss: 0.5001 - val_accuracy: 0.7848\n"
          ]
        },
        {
          "output_type": "execute_result",
          "data": {
            "text/plain": [
              "<keras.callbacks.History at 0x7f25ec5bd600>"
            ]
          },
          "metadata": {},
          "execution_count": 25
        }
      ]
    },
    {
      "cell_type": "code",
      "source": [
        "model_1_preds = model_1.predict(X_val)\n",
        "\n",
        "model_1_preds.shape, model_1_preds[:15]"
      ],
      "metadata": {
        "colab": {
          "base_uri": "https://localhost:8080/"
        },
        "id": "jkG0MxxHUrWj",
        "outputId": "113c7b34-3a1f-48c1-bd60-7dbc74934428"
      },
      "execution_count": 26,
      "outputs": [
        {
          "output_type": "stream",
          "name": "stdout",
          "text": [
            "24/24 [==============================] - 0s 2ms/step\n"
          ]
        },
        {
          "output_type": "execute_result",
          "data": {
            "text/plain": [
              "((762, 1),\n",
              " array([[0.02301037],\n",
              "        [0.15025818],\n",
              "        [0.56457716],\n",
              "        [0.01713599],\n",
              "        [0.58820003],\n",
              "        [0.1454416 ],\n",
              "        [0.04624473],\n",
              "        [0.35438812],\n",
              "        [0.12150279],\n",
              "        [0.73690766],\n",
              "        [0.7431628 ],\n",
              "        [0.34866095],\n",
              "        [0.0403013 ],\n",
              "        [0.3315014 ],\n",
              "        [0.25434068]], dtype=float32))"
            ]
          },
          "metadata": {},
          "execution_count": 26
        }
      ]
    },
    {
      "cell_type": "code",
      "source": [
        "model_1_preds = tf.squeeze(tf.round(model_1_preds))\n",
        "model_1_preds[:15]"
      ],
      "metadata": {
        "colab": {
          "base_uri": "https://localhost:8080/"
        },
        "id": "ItMd7-c3UrTb",
        "outputId": "0dec621b-23b7-4597-aa85-4d48c76ff15d"
      },
      "execution_count": 27,
      "outputs": [
        {
          "output_type": "execute_result",
          "data": {
            "text/plain": [
              "<tf.Tensor: shape=(15,), dtype=float32, numpy=\n",
              "array([0., 0., 1., 0., 1., 0., 0., 0., 0., 1., 1., 0., 0., 0., 0.],\n",
              "      dtype=float32)>"
            ]
          },
          "metadata": {},
          "execution_count": 27
        }
      ]
    },
    {
      "cell_type": "code",
      "source": [
        "score_predictions(y_val, model_1_preds)"
      ],
      "metadata": {
        "colab": {
          "base_uri": "https://localhost:8080/"
        },
        "id": "JbBiYEtdUrPO",
        "outputId": "10ea09f7-124e-49b6-d193-acae27fa53ac"
      },
      "execution_count": 28,
      "outputs": [
        {
          "output_type": "execute_result",
          "data": {
            "text/plain": [
              "{'accuracy': 0.7847769028871391,\n",
              " 'precision': 0.7873754369915379,\n",
              " 'recall': 0.7847769028871391,\n",
              " 'f1': 0.7816308704303432}"
            ]
          },
          "metadata": {},
          "execution_count": 28
        }
      ]
    },
    {
      "cell_type": "markdown",
      "source": [
        "### Visualizing embedding\n"
      ],
      "metadata": {
        "id": "gkL1sqnJiTs-"
      }
    },
    {
      "cell_type": "code",
      "source": [
        "model_1.summary()"
      ],
      "metadata": {
        "colab": {
          "base_uri": "https://localhost:8080/"
        },
        "id": "Ew_h8NW4UrL_",
        "outputId": "d38fdd85-0b6a-4daa-eda2-deae29f69fd8"
      },
      "execution_count": 29,
      "outputs": [
        {
          "output_type": "stream",
          "name": "stdout",
          "text": [
            "Model: \"sequential\"\n",
            "_________________________________________________________________\n",
            " Layer (type)                Output Shape              Param #   \n",
            "=================================================================\n",
            " vectorizer_layer (TextVecto  (None, 15)               0         \n",
            " rization)                                                       \n",
            "                                                                 \n",
            " embedding_layer (Embedding)  (None, 15, 32)           80000     \n",
            "                                                                 \n",
            " global_average_pooling1d (G  (None, 32)               0         \n",
            " lobalAveragePooling1D)                                          \n",
            "                                                                 \n",
            " dense (Dense)               (None, 1)                 33        \n",
            "                                                                 \n",
            "=================================================================\n",
            "Total params: 80,033\n",
            "Trainable params: 80,033\n",
            "Non-trainable params: 0\n",
            "_________________________________________________________________\n"
          ]
        }
      ]
    },
    {
      "cell_type": "code",
      "source": [
        "def download_embedding(model):\n",
        "  import io\n",
        "  weights = model.get_layer(\"embedding_layer\").get_weights()[0]\n",
        "  vocab = model.get_layer(\"vectorizer_layer\").get_vocabulary()\n",
        "\n",
        "  out_v = io.open('vectors.tsv', 'w', encoding='utf-8')\n",
        "  out_m = io.open('metadata.tsv', 'w', encoding='utf-8')\n",
        "\n",
        "  for index, word in enumerate(vocab):\n",
        "    if index == 0:\n",
        "      continue\n",
        "    vec = weights[index]\n",
        "    out_v.write('\\t'.join([str(x) for x in vec]) + \"\\n\")\n",
        "    out_m.write(word + '\\n')\n",
        "\n",
        "  out_v.close()\n",
        "  out_m.close()\n",
        "\n",
        "  # try:\n",
        "  #   from google.colab import files\n",
        "  #   files.download('vectors.tsv')\n",
        "  #   files.download('metadata.tsv')\n",
        "  # except Exception:\n",
        "  #   pass\n",
        "\n",
        "# download_embedding(model_1)"
      ],
      "metadata": {
        "id": "p1F3unwCUqi4"
      },
      "execution_count": 30,
      "outputs": []
    },
    {
      "cell_type": "markdown",
      "source": [
        "## Model 2: LSTM (RNN)"
      ],
      "metadata": {
        "id": "A82UzCwRYQ8x"
      }
    },
    {
      "cell_type": "code",
      "source": [
        "from tensorflow.keras.layers import Input, Dense, LSTM\n",
        "\n",
        "def build_model_2():\n",
        "  return tf.keras.Sequential([\n",
        "      Input(shape=(1, ), dtype=tf.string),\n",
        "      vectorizer,\n",
        "      make_embedding(),\n",
        "      LSTM(256, return_sequences=True),\n",
        "      LSTM(256),\n",
        "      Dense(64, activation='relu'),\n",
        "      Dense(1, activation='sigmoid')\n",
        "  ], name='model_2')\n",
        "\n",
        "model_2 = build_model_2()\n",
        "model_2.summary()"
      ],
      "metadata": {
        "colab": {
          "base_uri": "https://localhost:8080/"
        },
        "id": "X-DBaVDx8r_A",
        "outputId": "cd325aff-dedd-43bb-f3f6-10405e6dd0d6"
      },
      "execution_count": 31,
      "outputs": [
        {
          "output_type": "stream",
          "name": "stdout",
          "text": [
            "Model: \"model_2\"\n",
            "_________________________________________________________________\n",
            " Layer (type)                Output Shape              Param #   \n",
            "=================================================================\n",
            " vectorizer_layer (TextVecto  (None, 15)               0         \n",
            " rization)                                                       \n",
            "                                                                 \n",
            " embedding_layer (Embedding)  (None, 15, 32)           80000     \n",
            "                                                                 \n",
            " lstm (LSTM)                 (None, 15, 256)           295936    \n",
            "                                                                 \n",
            " lstm_1 (LSTM)               (None, 256)               525312    \n",
            "                                                                 \n",
            " dense_1 (Dense)             (None, 64)                16448     \n",
            "                                                                 \n",
            " dense_2 (Dense)             (None, 1)                 65        \n",
            "                                                                 \n",
            "=================================================================\n",
            "Total params: 917,761\n",
            "Trainable params: 917,761\n",
            "Non-trainable params: 0\n",
            "_________________________________________________________________\n"
          ]
        }
      ]
    },
    {
      "cell_type": "code",
      "source": [
        "model_2.compile(\n",
        "    loss=tf.keras.losses.BinaryCrossentropy(),\n",
        "    optimizer=tf.keras.optimizers.Adam(),\n",
        "    metrics=[\"accuracy\"]\n",
        ")\n",
        "\n",
        "model_2_history = model_2.fit(X_train, y_train,\n",
        "                              epochs=5,\n",
        "                              validation_split=0.2)"
      ],
      "metadata": {
        "colab": {
          "base_uri": "https://localhost:8080/"
        },
        "id": "XkQJ4KgGnbvD",
        "outputId": "b70b1f6e-521c-47fb-ddff-3c5c308ae267"
      },
      "execution_count": 32,
      "outputs": [
        {
          "output_type": "stream",
          "name": "stdout",
          "text": [
            "Epoch 1/5\n",
            "172/172 [==============================] - 16s 60ms/step - loss: 0.5381 - accuracy: 0.7230 - val_loss: 0.5110 - val_accuracy: 0.7637\n",
            "Epoch 2/5\n",
            "172/172 [==============================] - 4s 22ms/step - loss: 0.3794 - accuracy: 0.8392 - val_loss: 0.4848 - val_accuracy: 0.7644\n",
            "Epoch 3/5\n",
            "172/172 [==============================] - 3s 17ms/step - loss: 0.3321 - accuracy: 0.8617 - val_loss: 0.5167 - val_accuracy: 0.7615\n",
            "Epoch 4/5\n",
            "172/172 [==============================] - 3s 18ms/step - loss: 0.2956 - accuracy: 0.8807 - val_loss: 0.5271 - val_accuracy: 0.7557\n",
            "Epoch 5/5\n",
            "172/172 [==============================] - 2s 12ms/step - loss: 0.2620 - accuracy: 0.8965 - val_loss: 0.6507 - val_accuracy: 0.7520\n"
          ]
        }
      ]
    },
    {
      "cell_type": "code",
      "source": [
        "pd.DataFrame(model_2_history.history).plot()"
      ],
      "metadata": {
        "colab": {
          "base_uri": "https://localhost:8080/",
          "height": 447
        },
        "id": "o23XsXJ3nbsw",
        "outputId": "97659d6a-75a9-4cb1-979b-1ff033989d83"
      },
      "execution_count": 33,
      "outputs": [
        {
          "output_type": "execute_result",
          "data": {
            "text/plain": [
              "<Axes: >"
            ]
          },
          "metadata": {},
          "execution_count": 33
        },
        {
          "output_type": "display_data",
          "data": {
            "text/plain": [
              "<Figure size 640x480 with 1 Axes>"
            ],
            "image/png": "[encoded data removed]"
          },
          "metadata": {}
        }
      ]
    },
    {
      "cell_type": "code",
      "source": [
        "model_2_predictions = tf.squeeze(tf.round(model_2.predict(X_val)))\n",
        "\n",
        "model_2_predictions[:15]"
      ],
      "metadata": {
        "colab": {
          "base_uri": "https://localhost:8080/"
        },
        "id": "3f1jA2vonbp_",
        "outputId": "85197429-a4eb-4f0e-a13f-dfa6354887c1"
      },
      "execution_count": 34,
      "outputs": [
        {
          "output_type": "stream",
          "name": "stdout",
          "text": [
            "24/24 [==============================] - 1s 4ms/step\n"
          ]
        },
        {
          "output_type": "execute_result",
          "data": {
            "text/plain": [
              "<tf.Tensor: shape=(15,), dtype=float32, numpy=\n",
              "array([0., 1., 0., 0., 1., 0., 0., 0., 0., 1., 1., 1., 0., 0., 1.],\n",
              "      dtype=float32)>"
            ]
          },
          "metadata": {},
          "execution_count": 34
        }
      ]
    },
    {
      "cell_type": "code",
      "source": [
        "score_predictions(y_val, model_2_predictions)"
      ],
      "metadata": {
        "colab": {
          "base_uri": "https://localhost:8080/"
        },
        "id": "y4uYI96ynbnI",
        "outputId": "aa1f6cbc-701e-44a1-f34c-2a813dfdf0af"
      },
      "execution_count": 35,
      "outputs": [
        {
          "output_type": "execute_result",
          "data": {
            "text/plain": [
              "{'accuracy': 0.7454068241469817,\n",
              " 'precision': 0.7449311194875726,\n",
              " 'recall': 0.7454068241469817,\n",
              " 'f1': 0.7430584452472759}"
            ]
          },
          "metadata": {},
          "execution_count": 35
        }
      ]
    },
    {
      "cell_type": "markdown",
      "source": [
        "## Model 3: GRU (RNN)"
      ],
      "metadata": {
        "id": "-LvP7MTDYTzI"
      }
    },
    {
      "cell_type": "code",
      "source": [
        "from tensorflow.keras.layers import GRU\n",
        "\n",
        "def build_model_3():\n",
        "  return tf.keras.Sequential([\n",
        "      Input(shape=(1,), dtype=tf.string),\n",
        "      vectorizer,\n",
        "      make_embedding(),\n",
        "      GRU(64, return_sequences=True),\n",
        "      GRU(64),\n",
        "      Dense(1, activation='sigmoid')\n",
        "  ], name='model_3')\n",
        "\n",
        "model_3 = build_model_3()\n",
        "model_3.summary()"
      ],
      "metadata": {
        "colab": {
          "base_uri": "https://localhost:8080/"
        },
        "id": "-u7MRtyZ1P4i",
        "outputId": "f84595c0-232b-4202-b2f7-80be920c3306"
      },
      "execution_count": 36,
      "outputs": [
        {
          "output_type": "stream",
          "name": "stdout",
          "text": [
            "Model: \"model_3\"\n",
            "_________________________________________________________________\n",
            " Layer (type)                Output Shape              Param #   \n",
            "=================================================================\n",
            " vectorizer_layer (TextVecto  (None, 15)               0         \n",
            " rization)                                                       \n",
            "                                                                 \n",
            " embedding_layer (Embedding)  (None, 15, 32)           80000     \n",
            "                                                                 \n",
            " gru (GRU)                   (None, 15, 64)            18816     \n",
            "                                                                 \n",
            " gru_1 (GRU)                 (None, 64)                24960     \n",
            "                                                                 \n",
            " dense_3 (Dense)             (None, 1)                 65        \n",
            "                                                                 \n",
            "=================================================================\n",
            "Total params: 123,841\n",
            "Trainable params: 123,841\n",
            "Non-trainable params: 0\n",
            "_________________________________________________________________\n"
          ]
        }
      ]
    },
    {
      "cell_type": "code",
      "source": [
        "model_3.compile(\n",
        "    loss=tf.keras.losses.BinaryCrossentropy(),\n",
        "    optimizer=tf.keras.optimizers.Adam(),\n",
        "    metrics=['accuracy']\n",
        ")\n",
        "\n",
        "model_3_history = model_3.fit(X_train, y_train,\n",
        "                              epochs=5,\n",
        "                              validation_split=0.2)"
      ],
      "metadata": {
        "colab": {
          "base_uri": "https://localhost:8080/"
        },
        "id": "df0YrVuK1P1a",
        "outputId": "9f262110-266b-41b8-c022-63223850e5ec"
      },
      "execution_count": 37,
      "outputs": [
        {
          "output_type": "stream",
          "name": "stdout",
          "text": [
            "Epoch 1/5\n",
            "172/172 [==============================] - 19s 75ms/step - loss: 0.5454 - accuracy: 0.7133 - val_loss: 0.5005 - val_accuracy: 0.7702\n",
            "Epoch 2/5\n",
            "172/172 [==============================] - 2s 14ms/step - loss: 0.3806 - accuracy: 0.8316 - val_loss: 0.4956 - val_accuracy: 0.7659\n",
            "Epoch 3/5\n",
            "172/172 [==============================] - 4s 26ms/step - loss: 0.3228 - accuracy: 0.8697 - val_loss: 0.6270 - val_accuracy: 0.7622\n",
            "Epoch 4/5\n",
            "172/172 [==============================] - 4s 22ms/step - loss: 0.2912 - accuracy: 0.8828 - val_loss: 0.5759 - val_accuracy: 0.7535\n",
            "Epoch 5/5\n",
            "172/172 [==============================] - 3s 15ms/step - loss: 0.2677 - accuracy: 0.8965 - val_loss: 0.6596 - val_accuracy: 0.7557\n"
          ]
        }
      ]
    },
    {
      "cell_type": "code",
      "source": [
        "pd.DataFrame(model_3_history.history).plot()"
      ],
      "metadata": {
        "colab": {
          "base_uri": "https://localhost:8080/",
          "height": 447
        },
        "id": "iFFrlEiw1Pya",
        "outputId": "8826bb3c-d914-492a-8193-b2479cd5655a"
      },
      "execution_count": 38,
      "outputs": [
        {
          "output_type": "execute_result",
          "data": {
            "text/plain": [
              "<Axes: >"
            ]
          },
          "metadata": {},
          "execution_count": 38
        },
        {
          "output_type": "display_data",
          "data": {
            "text/plain": [
              "<Figure size 640x480 with 1 Axes>"
            ],
            "image/png": "[encoded data removed]"
          },
          "metadata": {}
        }
      ]
    },
    {
      "cell_type": "code",
      "source": [
        "model_3_predictions = tf.squeeze(tf.round(model_3.predict(X_val)))\n",
        "\n",
        "model_3_predictions[:15]"
      ],
      "metadata": {
        "colab": {
          "base_uri": "https://localhost:8080/"
        },
        "id": "NbHYZ9Eq1Pvo",
        "outputId": "28fe47d9-380f-4c78-c19b-fdb6a05fac04"
      },
      "execution_count": 39,
      "outputs": [
        {
          "output_type": "stream",
          "name": "stdout",
          "text": [
            "24/24 [==============================] - 1s 6ms/step\n"
          ]
        },
        {
          "output_type": "execute_result",
          "data": {
            "text/plain": [
              "<tf.Tensor: shape=(15,), dtype=float32, numpy=\n",
              "array([0., 0., 0., 0., 1., 0., 0., 0., 0., 1., 1., 1., 0., 0., 1.],\n",
              "      dtype=float32)>"
            ]
          },
          "metadata": {},
          "execution_count": 39
        }
      ]
    },
    {
      "cell_type": "code",
      "source": [
        "score_predictions(y_val, model_3_predictions)"
      ],
      "metadata": {
        "colab": {
          "base_uri": "https://localhost:8080/"
        },
        "id": "t8OHtaSV1Psi",
        "outputId": "a7c44f55-fba4-4ac1-ef78-b2f1255fa6cc"
      },
      "execution_count": 40,
      "outputs": [
        {
          "output_type": "execute_result",
          "data": {
            "text/plain": [
              "{'accuracy': 0.7585301837270341,\n",
              " 'precision': 0.7577203103393924,\n",
              " 'recall': 0.7585301837270341,\n",
              " 'f1': 0.7574828652491313}"
            ]
          },
          "metadata": {},
          "execution_count": 40
        }
      ]
    },
    {
      "cell_type": "markdown",
      "source": [
        "## Model 4: Bidirectional-LSTM (RNN)"
      ],
      "metadata": {
        "id": "19vE-7zpYV8E"
      }
    },
    {
      "cell_type": "code",
      "source": [
        "from tensorflow.keras.layers import Bidirectional\n",
        "\n",
        "def build_model_4():\n",
        "  return tf.keras.Sequential([\n",
        "      Input(shape=(1,), dtype=tf.string),\n",
        "      vectorizer,\n",
        "      make_embedding(),\n",
        "      Bidirectional(LSTM(64)),\n",
        "      Dense(1, activation='sigmoid')\n",
        "  ])\n",
        "\n",
        "model_4 = build_model_4()\n",
        "model_4.summary()"
      ],
      "metadata": {
        "colab": {
          "base_uri": "https://localhost:8080/"
        },
        "id": "hZTrPlsnS1nA",
        "outputId": "609fa5d1-c8f4-4582-e184-9eb6fb2ceeae"
      },
      "execution_count": 49,
      "outputs": [
        {
          "output_type": "stream",
          "name": "stdout",
          "text": [
            "Model: \"sequential_4\"\n",
            "_________________________________________________________________\n",
            " Layer (type)                Output Shape              Param #   \n",
            "=================================================================\n",
            " vectorizer_layer (TextVecto  (None, 15)               0         \n",
            " rization)                                                       \n",
            "                                                                 \n",
            " embedding_layer (Embedding)  (None, 15, 32)           80000     \n",
            "                                                                 \n",
            " bidirectional_5 (Bidirectio  (None, 128)              49664     \n",
            " nal)                                                            \n",
            "                                                                 \n",
            " dense_7 (Dense)             (None, 1)                 129       \n",
            "                                                                 \n",
            "=================================================================\n",
            "Total params: 129,793\n",
            "Trainable params: 129,793\n",
            "Non-trainable params: 0\n",
            "_________________________________________________________________\n"
          ]
        }
      ]
    },
    {
      "cell_type": "code",
      "source": [
        "model_4.compile(\n",
        "    loss=tf.keras.losses.BinaryCrossentropy(),\n",
        "    optimizer=tf.keras.optimizers.Adam(),\n",
        "    metrics=[\"accuracy\"]\n",
        ")\n",
        "\n",
        "model_4_history = model_4.fit(X_train, y_train,\n",
        "            epochs=5,\n",
        "            validation_split=0.2)"
      ],
      "metadata": {
        "colab": {
          "base_uri": "https://localhost:8080/"
        },
        "id": "K-ieTgPsS1gw",
        "outputId": "51423be9-9660-477a-b1b0-0ee40909f89e"
      },
      "execution_count": 50,
      "outputs": [
        {
          "output_type": "stream",
          "name": "stdout",
          "text": [
            "Epoch 1/5\n",
            "172/172 [==============================] - 22s 95ms/step - loss: 0.5484 - accuracy: 0.7088 - val_loss: 0.4695 - val_accuracy: 0.7870\n",
            "Epoch 2/5\n",
            "172/172 [==============================] - 5s 29ms/step - loss: 0.3715 - accuracy: 0.8422 - val_loss: 0.4790 - val_accuracy: 0.7761\n",
            "Epoch 3/5\n",
            "172/172 [==============================] - 5s 32ms/step - loss: 0.3167 - accuracy: 0.8684 - val_loss: 0.5226 - val_accuracy: 0.7819\n",
            "Epoch 4/5\n",
            "172/172 [==============================] - 3s 20ms/step - loss: 0.2807 - accuracy: 0.8883 - val_loss: 0.5455 - val_accuracy: 0.7659\n",
            "Epoch 5/5\n",
            "172/172 [==============================] - 2s 11ms/step - loss: 0.2495 - accuracy: 0.9033 - val_loss: 0.6140 - val_accuracy: 0.7586\n"
          ]
        }
      ]
    },
    {
      "cell_type": "code",
      "source": [
        "pd.DataFrame(model_4_history.history).plot()"
      ],
      "metadata": {
        "colab": {
          "base_uri": "https://localhost:8080/",
          "height": 447
        },
        "id": "UIfKfjSrS1cI",
        "outputId": "c4f12be4-bcdb-46d8-d81d-b6413de83aa5"
      },
      "execution_count": 51,
      "outputs": [
        {
          "output_type": "execute_result",
          "data": {
            "text/plain": [
              "<Axes: >"
            ]
          },
          "metadata": {},
          "execution_count": 51
        },
        {
          "output_type": "display_data",
          "data": {
            "text/plain": [
              "<Figure size 640x480 with 1 Axes>"
            ],
            "image/png": "[encoded data removed]"
          },
          "metadata": {}
        }
      ]
    },
    {
      "cell_type": "code",
      "source": [
        "model_4_predictions = tf.squeeze(tf.round(model_4.predict(X_val)))\n",
        "\n",
        "model_4_predictions[:15]"
      ],
      "metadata": {
        "colab": {
          "base_uri": "https://localhost:8080/"
        },
        "id": "ab4QqyNrS1ZW",
        "outputId": "b2638d5a-b36b-4f60-9b5d-f81df0d49624"
      },
      "execution_count": 52,
      "outputs": [
        {
          "output_type": "stream",
          "name": "stdout",
          "text": [
            "24/24 [==============================] - 1s 3ms/step\n"
          ]
        },
        {
          "output_type": "execute_result",
          "data": {
            "text/plain": [
              "<tf.Tensor: shape=(15,), dtype=float32, numpy=\n",
              "array([0., 0., 1., 0., 1., 0., 0., 0., 0., 1., 1., 1., 0., 0., 1.],\n",
              "      dtype=float32)>"
            ]
          },
          "metadata": {},
          "execution_count": 52
        }
      ]
    },
    {
      "cell_type": "code",
      "source": [
        "score_predictions(y_val, model_4_predictions)"
      ],
      "metadata": {
        "colab": {
          "base_uri": "https://localhost:8080/"
        },
        "id": "lVGcZqqTS1WY",
        "outputId": "6bad0e83-aba0-4833-f409-941347574dcc"
      },
      "execution_count": 53,
      "outputs": [
        {
          "output_type": "execute_result",
          "data": {
            "text/plain": [
              "{'accuracy': 0.7637795275590551,\n",
              " 'precision': 0.7633729036821736,\n",
              " 'recall': 0.7637795275590551,\n",
              " 'f1': 0.7620176986357639}"
            ]
          },
          "metadata": {},
          "execution_count": 53
        }
      ]
    },
    {
      "cell_type": "code",
      "source": [],
      "metadata": {
        "id": "Nxmv4zuBS1TW"
      },
      "execution_count": null,
      "outputs": []
    },
    {
      "cell_type": "markdown",
      "source": [
        "## Model 5: 1D Convolutional Network"
      ],
      "metadata": {
        "id": "Ve1ToKSYYZe_"
      }
    },
    {
      "cell_type": "markdown",
      "source": [
        "## Model 6: Tensorflow Hub Pretrained Feature Extractor"
      ],
      "metadata": {
        "id": "Fi2scQenYdD0"
      }
    },
    {
      "cell_type": "markdown",
      "source": [
        "## Model 7: TensorFlow Hub PretrainedFEature Extrator with 10% of data"
      ],
      "metadata": {
        "id": "TNgM5zK4YjFY"
      }
    }
  ]
}