{
  "nbformat": 4,
  "nbformat_minor": 0,
  "metadata": {
    "colab": {
      "provenance": [],
      "gpuType": "T4",
      "toc_visible": true,
      "authorship_tag": "ABX9TyOanQX84sC9/GTW7L4eA5y0",
      "include_colab_link": true
    },
    "kernelspec": {
      "name": "python3",
      "display_name": "Python 3"
    },
    "language_info": {
      "name": "python"
    },
    "accelerator": "GPU"
  },
  "cells": [
    {
      "cell_type": "markdown",
      "metadata": {
        "id": "view-in-github",
        "colab_type": "text"
      },
      "source": [
        "<a href=\"https://colab.research.google.com/github/poolGolez/tf-playground/blob/main/NLP_Fundamentals_Follow_Through.ipynb\" target=\"_parent\"><img src=\"https://colab.research.google.com/assets/colab-badge.svg\" alt=\"Open In Colab\"/></a>"
      ]
    },
    {
      "cell_type": "markdown",
      "source": [
        "# Setup\n"
      ],
      "metadata": {
        "id": "k0hIEPGKp024"
      }
    },
    {
      "cell_type": "code",
      "execution_count": 1,
      "metadata": {
        "colab": {
          "base_uri": "https://localhost:8080/"
        },
        "id": "SkNTO5VLnfEY",
        "outputId": "98dcbef7-b901-40e1-d1ee-d3f247a9e7d6"
      },
      "outputs": [
        {
          "output_type": "stream",
          "name": "stdout",
          "text": [
            "Sat Jun 24 03:12:14 2023       \n",
            "+-----------------------------------------------------------------------------+\n",
            "| NVIDIA-SMI 525.85.12    Driver Version: 525.85.12    CUDA Version: 12.0     |\n",
            "|-------------------------------+----------------------+----------------------+\n",
            "| GPU  Name        Persistence-M| Bus-Id        Disp.A | Volatile Uncorr. ECC |\n",
            "| Fan  Temp  Perf  Pwr:Usage/Cap|         Memory-Usage | GPU-Util  Compute M. |\n",
            "|                               |                      |               MIG M. |\n",
            "|===============================+======================+======================|\n",
            "|   0  Tesla T4            Off  | 00000000:00:04.0 Off |                    0 |\n",
            "| N/A   48C    P8     9W /  70W |      0MiB / 15360MiB |      0%      Default |\n",
            "|                               |                      |                  N/A |\n",
            "+-------------------------------+----------------------+----------------------+\n",
            "                                                                               \n",
            "+-----------------------------------------------------------------------------+\n",
            "| Processes:                                                                  |\n",
            "|  GPU   GI   CI        PID   Type   Process name                  GPU Memory |\n",
            "|        ID   ID                                                   Usage      |\n",
            "|=============================================================================|\n",
            "|  No running processes found                                                 |\n",
            "+-----------------------------------------------------------------------------+\n"
          ]
        }
      ],
      "source": [
        "# Check for GPU\n",
        "!nvidia-smi"
      ]
    },
    {
      "cell_type": "code",
      "source": [
        "import pandas as pd\n",
        "import numpy as np\n",
        "import tensorflow as tf\n",
        "\n",
        "from sklearn.model_selection import train_test_split"
      ],
      "metadata": {
        "id": "XCJitAX7p-xq"
      },
      "execution_count": 2,
      "outputs": []
    },
    {
      "cell_type": "code",
      "source": [
        "# Helper functions\n",
        "!wget https://raw.githubusercontent.com/mrdbourke/tensorflow-deep-learning/main/extras/helper_functions.py\n",
        "\n",
        "from helper_functions import unzip_data, create_tensorboard_callback, plot_loss_curves, compare_historys"
      ],
      "metadata": {
        "colab": {
          "base_uri": "https://localhost:8080/"
        },
        "id": "6_OZtwi4oMoz",
        "outputId": "3749b386-0fa7-4096-e558-a3e64c59e490"
      },
      "execution_count": 3,
      "outputs": [
        {
          "output_type": "stream",
          "name": "stdout",
          "text": [
            "--2023-06-24 03:12:17--  https://raw.githubusercontent.com/mrdbourke/tensorflow-deep-learning/main/extras/helper_functions.py\n",
            "Resolving raw.githubusercontent.com (raw.githubusercontent.com)... 185.199.108.133, 185.199.109.133, 185.199.110.133, ...\n",
            "Connecting to raw.githubusercontent.com (raw.githubusercontent.com)|185.199.108.133|:443... connected.\n",
            "HTTP request sent, awaiting response... 200 OK\n",
            "Length: 10246 (10K) [text/plain]\n",
            "Saving to: ‘helper_functions.py.3’\n",
            "\n",
            "helper_functions.py 100%[===================>]  10.01K  --.-KB/s    in 0s      \n",
            "\n",
            "2023-06-24 03:12:18 (75.1 MB/s) - ‘helper_functions.py.3’ saved [10246/10246]\n",
            "\n"
          ]
        }
      ]
    },
    {
      "cell_type": "code",
      "source": [
        "# The dataset (disaster or not disaster from tweets)\n",
        "!wget \"https://storage.googleapis.com/ztm_tf_course/nlp_getting_started.zip\"\n",
        "unzip_data('nlp_getting_started.zip')"
      ],
      "metadata": {
        "colab": {
          "base_uri": "https://localhost:8080/"
        },
        "id": "dDHY5l4Holx0",
        "outputId": "17978543-fac7-4ccd-8d28-6d380e02638f"
      },
      "execution_count": 4,
      "outputs": [
        {
          "output_type": "stream",
          "name": "stdout",
          "text": [
            "--2023-06-24 03:12:18--  https://storage.googleapis.com/ztm_tf_course/nlp_getting_started.zip\n",
            "Resolving storage.googleapis.com (storage.googleapis.com)... 142.251.8.128, 142.251.170.128, 173.194.174.128, ...\n",
            "Connecting to storage.googleapis.com (storage.googleapis.com)|142.251.8.128|:443... connected.\n",
            "HTTP request sent, awaiting response... 200 OK\n",
            "Length: 607343 (593K) [application/zip]\n",
            "Saving to: ‘nlp_getting_started.zip.3’\n",
            "\n",
            "nlp_getting_started 100%[===================>] 593.11K  1004KB/s    in 0.6s    \n",
            "\n",
            "2023-06-24 03:12:18 (1004 KB/s) - ‘nlp_getting_started.zip.3’ saved [607343/607343]\n",
            "\n"
          ]
        }
      ]
    },
    {
      "cell_type": "markdown",
      "source": [
        "# Exploratory Data Analysis"
      ],
      "metadata": {
        "id": "Aq-LEkQKp4C3"
      }
    },
    {
      "cell_type": "code",
      "source": [
        "train_df = pd.read_csv('train.csv')\n",
        "\n",
        "train_df.head()"
      ],
      "metadata": {
        "colab": {
          "base_uri": "https://localhost:8080/",
          "height": 206
        },
        "id": "y4nhD-2NpcCB",
        "outputId": "9830bd0c-611a-4c96-fa12-5d26550eefa0"
      },
      "execution_count": 5,
      "outputs": [
        {
          "output_type": "execute_result",
          "data": {
            "text/plain": [
              "   id keyword location                                               text  \\\n",
              "0   1     NaN      NaN  Our Deeds are the Reason of this #earthquake M...   \n",
              "1   4     NaN      NaN             Forest fire near La Ronge Sask. Canada   \n",
              "2   5     NaN      NaN  All residents asked to 'shelter in place' are ...   \n",
              "3   6     NaN      NaN  13,000 people receive #wildfires evacuation or...   \n",
              "4   7     NaN      NaN  Just got sent this photo from Ruby #Alaska as ...   \n",
              "\n",
              "   target  \n",
              "0       1  \n",
              "1       1  \n",
              "2       1  \n",
              "3       1  \n",
              "4       1  "
            ],
            "text/html": [
              "\n",
              "  <div id=\"df-7c1d705c-9291-49f2-a79f-a59e92668052\">\n",
              "    <div class=\"colab-df-container\">\n",
              "      <div>\n",
              "<style scoped>\n",
              "    .dataframe tbody tr th:only-of-type {\n",
              "        vertical-align: middle;\n",
              "    }\n",
              "\n",
              "    .dataframe tbody tr th {\n",
              "        vertical-align: top;\n",
              "    }\n",
              "\n",
              "    .dataframe thead th {\n",
              "        text-align: right;\n",
              "    }\n",
              "</style>\n",
              "<table border=\"1\" class=\"dataframe\">\n",
              "  <thead>\n",
              "    <tr style=\"text-align: right;\">\n",
              "      <th></th>\n",
              "      <th>id</th>\n",
              "      <th>keyword</th>\n",
              "      <th>location</th>\n",
              "      <th>text</th>\n",
              "      <th>target</th>\n",
              "    </tr>\n",
              "  </thead>\n",
              "  <tbody>\n",
              "    <tr>\n",
              "      <th>0</th>\n",
              "      <td>1</td>\n",
              "      <td>NaN</td>\n",
              "      <td>NaN</td>\n",
              "      <td>Our Deeds are the Reason of this #earthquake M...</td>\n",
              "      <td>1</td>\n",
              "    </tr>\n",
              "    <tr>\n",
              "      <th>1</th>\n",
              "      <td>4</td>\n",
              "      <td>NaN</td>\n",
              "      <td>NaN</td>\n",
              "      <td>Forest fire near La Ronge Sask. Canada</td>\n",
              "      <td>1</td>\n",
              "    </tr>\n",
              "    <tr>\n",
              "      <th>2</th>\n",
              "      <td>5</td>\n",
              "      <td>NaN</td>\n",
              "      <td>NaN</td>\n",
              "      <td>All residents asked to 'shelter in place' are ...</td>\n",
              "      <td>1</td>\n",
              "    </tr>\n",
              "    <tr>\n",
              "      <th>3</th>\n",
              "      <td>6</td>\n",
              "      <td>NaN</td>\n",
              "      <td>NaN</td>\n",
              "      <td>13,000 people receive #wildfires evacuation or...</td>\n",
              "      <td>1</td>\n",
              "    </tr>\n",
              "    <tr>\n",
              "      <th>4</th>\n",
              "      <td>7</td>\n",
              "      <td>NaN</td>\n",
              "      <td>NaN</td>\n",
              "      <td>Just got sent this photo from Ruby #Alaska as ...</td>\n",
              "      <td>1</td>\n",
              "    </tr>\n",
              "  </tbody>\n",
              "</table>\n",
              "</div>\n",
              "      <button class=\"colab-df-convert\" onclick=\"convertToInteractive('df-7c1d705c-9291-49f2-a79f-a59e92668052')\"\n",
              "              title=\"Convert this dataframe to an interactive table.\"\n",
              "              style=\"display:none;\">\n",
              "        \n",
              "  <svg xmlns=\"http://www.w3.org/2000/svg\" height=\"24px\"viewBox=\"0 0 24 24\"\n",
              "       width=\"24px\">\n",
              "    <path d=\"M0 0h24v24H0V0z\" fill=\"none\"/>\n",
              "    <path d=\"M18.56 5.44l.94 2.06.94-2.06 2.06-.94-2.06-.94-.94-2.06-.94 2.06-2.06.94zm-11 1L8.5 8.5l.94-2.06 2.06-.94-2.06-.94L8.5 2.5l-.94 2.06-2.06.94zm10 10l.94 2.06.94-2.06 2.06-.94-2.06-.94-.94-2.06-.94 2.06-2.06.94z\"/><path d=\"M17.41 7.96l-1.37-1.37c-.4-.4-.92-.59-1.43-.59-.52 0-1.04.2-1.43.59L10.3 9.45l-7.72 7.72c-.78.78-.78 2.05 0 2.83L4 21.41c.39.39.9.59 1.41.59.51 0 1.02-.2 1.41-.59l7.78-7.78 2.81-2.81c.8-.78.8-2.07 0-2.86zM5.41 20L4 18.59l7.72-7.72 1.47 1.35L5.41 20z\"/>\n",
              "  </svg>\n",
              "      </button>\n",
              "      \n",
              "  <style>\n",
              "    .colab-df-container {\n",
              "      display:flex;\n",
              "      flex-wrap:wrap;\n",
              "      gap: 12px;\n",
              "    }\n",
              "\n",
              "    .colab-df-convert {\n",
              "      background-color: #E8F0FE;\n",
              "      border: none;\n",
              "      border-radius: 50%;\n",
              "      cursor: pointer;\n",
              "      display: none;\n",
              "      fill: #1967D2;\n",
              "      height: 32px;\n",
              "      padding: 0 0 0 0;\n",
              "      width: 32px;\n",
              "    }\n",
              "\n",
              "    .colab-df-convert:hover {\n",
              "      background-color: #E2EBFA;\n",
              "      box-shadow: 0px 1px 2px rgba(60, 64, 67, 0.3), 0px 1px 3px 1px rgba(60, 64, 67, 0.15);\n",
              "      fill: #174EA6;\n",
              "    }\n",
              "\n",
              "    [theme=dark] .colab-df-convert {\n",
              "      background-color: #3B4455;\n",
              "      fill: #D2E3FC;\n",
              "    }\n",
              "\n",
              "    [theme=dark] .colab-df-convert:hover {\n",
              "      background-color: #434B5C;\n",
              "      box-shadow: 0px 1px 3px 1px rgba(0, 0, 0, 0.15);\n",
              "      filter: drop-shadow(0px 1px 2px rgba(0, 0, 0, 0.3));\n",
              "      fill: #FFFFFF;\n",
              "    }\n",
              "  </style>\n",
              "\n",
              "      <script>\n",
              "        const buttonEl =\n",
              "          document.querySelector('#df-7c1d705c-9291-49f2-a79f-a59e92668052 button.colab-df-convert');\n",
              "        buttonEl.style.display =\n",
              "          google.colab.kernel.accessAllowed ? 'block' : 'none';\n",
              "\n",
              "        async function convertToInteractive(key) {\n",
              "          const element = document.querySelector('#df-7c1d705c-9291-49f2-a79f-a59e92668052');\n",
              "          const dataTable =\n",
              "            await google.colab.kernel.invokeFunction('convertToInteractive',\n",
              "                                                     [key], {});\n",
              "          if (!dataTable) return;\n",
              "\n",
              "          const docLinkHtml = 'Like what you see? Visit the ' +\n",
              "            '<a target=\"_blank\" href=https://colab.research.google.com/notebooks/data_table.ipynb>data table notebook</a>'\n",
              "            + ' to learn more about interactive tables.';\n",
              "          element.innerHTML = '';\n",
              "          dataTable['output_type'] = 'display_data';\n",
              "          await google.colab.output.renderOutput(dataTable, element);\n",
              "          const docLink = document.createElement('div');\n",
              "          docLink.innerHTML = docLinkHtml;\n",
              "          element.appendChild(docLink);\n",
              "        }\n",
              "      </script>\n",
              "    </div>\n",
              "  </div>\n",
              "  "
            ]
          },
          "metadata": {},
          "execution_count": 5
        }
      ]
    },
    {
      "cell_type": "code",
      "source": [
        "tally = train_df['target'].value_counts()\n",
        "\n",
        "print(\"Train dataset target occurences\")\n",
        "print(f\"No(%): {tally[0]} ({tally[0]/tally.sum() * 100:.2f}%)\")\n",
        "print(f\"Yes(%): {tally[1]} ({tally[1]/tally.sum() * 100:.2f}%)\")"
      ],
      "metadata": {
        "colab": {
          "base_uri": "https://localhost:8080/"
        },
        "id": "_FwXQQmMt3o-",
        "outputId": "0f7383f9-0647-40cb-c95a-5161b4dc855d"
      },
      "execution_count": 6,
      "outputs": [
        {
          "output_type": "stream",
          "name": "stdout",
          "text": [
            "Train dataset target occurences\n",
            "No(%): 4342 (57.03%)\n",
            "Yes(%): 3271 (42.97%)\n"
          ]
        }
      ]
    },
    {
      "cell_type": "markdown",
      "source": [
        "# Split train and validation set"
      ],
      "metadata": {
        "id": "tGIwWuSkFX2x"
      }
    },
    {
      "cell_type": "code",
      "source": [
        "X_train, X_val, y_train, y_val = train_test_split(train_df['text'], train_df['target'],\n",
        "                                                  shuffle=True,\n",
        "                                                  test_size=0.1,\n",
        "                                                  random_state = 42)\n",
        "len(X_train), len(y_train), len(X_val), len(y_val)"
      ],
      "metadata": {
        "colab": {
          "base_uri": "https://localhost:8080/"
        },
        "id": "61VarzQ5FaNG",
        "outputId": "e55bf826-6c66-4545-abae-31cd1450a126"
      },
      "execution_count": 7,
      "outputs": [
        {
          "output_type": "execute_result",
          "data": {
            "text/plain": [
              "(6851, 6851, 762, 762)"
            ]
          },
          "metadata": {},
          "execution_count": 7
        }
      ]
    },
    {
      "cell_type": "code",
      "source": [
        "pd.concat([X_train, y_train], axis=1).head(15)"
      ],
      "metadata": {
        "colab": {
          "base_uri": "https://localhost:8080/",
          "height": 520
        },
        "id": "5X6nyUbaF7jv",
        "outputId": "31018afd-4cdf-4bf2-9a02-90eeb1505755"
      },
      "execution_count": 8,
      "outputs": [
        {
          "output_type": "execute_result",
          "data": {
            "text/plain": [
              "                                                   text  target\n",
              "4620  'McFadden Reportedly to Test Hamstring Thursda...       0\n",
              "2858  w--=-=-=-[ NEMA warns Nigerians to prepare for...       1\n",
              "3098  When I was cooking earlier I got electrocuted ...       0\n",
              "3751               I'm On Fire.  http://t.co/WATsmxYTVa       0\n",
              "5285  More than 40 families affected by the fatal ou...       1\n",
              "5863  Why do u ruin everything?  @9tarbox u ruined t...       0\n",
              "4827  http://t.co/c1H7JECFrV @RoyalCarribean do your...       1\n",
              "5190  WACKOES like #MicheleBachman predict the WORLD...       0\n",
              "5784  @Reuters people like you should be charged aft...       0\n",
              "4369  Remove the http://t.co/2nS5TfnxpA and Linkury ...       0\n",
              "6556  Cute &amp; all livin' the life then you zoom i...       0\n",
              "835   @Blizzard_draco @LoneWolffur also me please I ...       0\n",
              "4552  @ChristieC733 please support this Please cospo...       1\n",
              "7419  Police Officer Wounded Suspect Dead After Exch...       1\n",
              "6364  Pic of 16yr old PKK suicide bomber who detonat...       1"
            ],
            "text/html": [
              "\n",
              "  <div id=\"df-0c880e9a-c3f6-4e46-8f55-b7dc0cf4eb79\">\n",
              "    <div class=\"colab-df-container\">\n",
              "      <div>\n",
              "<style scoped>\n",
              "    .dataframe tbody tr th:only-of-type {\n",
              "        vertical-align: middle;\n",
              "    }\n",
              "\n",
              "    .dataframe tbody tr th {\n",
              "        vertical-align: top;\n",
              "    }\n",
              "\n",
              "    .dataframe thead th {\n",
              "        text-align: right;\n",
              "    }\n",
              "</style>\n",
              "<table border=\"1\" class=\"dataframe\">\n",
              "  <thead>\n",
              "    <tr style=\"text-align: right;\">\n",
              "      <th></th>\n",
              "      <th>text</th>\n",
              "      <th>target</th>\n",
              "    </tr>\n",
              "  </thead>\n",
              "  <tbody>\n",
              "    <tr>\n",
              "      <th>4620</th>\n",
              "      <td>'McFadden Reportedly to Test Hamstring Thursda...</td>\n",
              "      <td>0</td>\n",
              "    </tr>\n",
              "    <tr>\n",
              "      <th>2858</th>\n",
              "      <td>w--=-=-=-[ NEMA warns Nigerians to prepare for...</td>\n",
              "      <td>1</td>\n",
              "    </tr>\n",
              "    <tr>\n",
              "      <th>3098</th>\n",
              "      <td>When I was cooking earlier I got electrocuted ...</td>\n",
              "      <td>0</td>\n",
              "    </tr>\n",
              "    <tr>\n",
              "      <th>3751</th>\n",
              "      <td>I'm On Fire.  http://t.co/WATsmxYTVa</td>\n",
              "      <td>0</td>\n",
              "    </tr>\n",
              "    <tr>\n",
              "      <th>5285</th>\n",
              "      <td>More than 40 families affected by the fatal ou...</td>\n",
              "      <td>1</td>\n",
              "    </tr>\n",
              "    <tr>\n",
              "      <th>5863</th>\n",
              "      <td>Why do u ruin everything?  @9tarbox u ruined t...</td>\n",
              "      <td>0</td>\n",
              "    </tr>\n",
              "    <tr>\n",
              "      <th>4827</th>\n",
              "      <td>http://t.co/c1H7JECFrV @RoyalCarribean do your...</td>\n",
              "      <td>1</td>\n",
              "    </tr>\n",
              "    <tr>\n",
              "      <th>5190</th>\n",
              "      <td>WACKOES like #MicheleBachman predict the WORLD...</td>\n",
              "      <td>0</td>\n",
              "    </tr>\n",
              "    <tr>\n",
              "      <th>5784</th>\n",
              "      <td>@Reuters people like you should be charged aft...</td>\n",
              "      <td>0</td>\n",
              "    </tr>\n",
              "    <tr>\n",
              "      <th>4369</th>\n",
              "      <td>Remove the http://t.co/2nS5TfnxpA and Linkury ...</td>\n",
              "      <td>0</td>\n",
              "    </tr>\n",
              "    <tr>\n",
              "      <th>6556</th>\n",
              "      <td>Cute &amp;amp; all livin' the life then you zoom i...</td>\n",
              "      <td>0</td>\n",
              "    </tr>\n",
              "    <tr>\n",
              "      <th>835</th>\n",
              "      <td>@Blizzard_draco @LoneWolffur also me please I ...</td>\n",
              "      <td>0</td>\n",
              "    </tr>\n",
              "    <tr>\n",
              "      <th>4552</th>\n",
              "      <td>@ChristieC733 please support this Please cospo...</td>\n",
              "      <td>1</td>\n",
              "    </tr>\n",
              "    <tr>\n",
              "      <th>7419</th>\n",
              "      <td>Police Officer Wounded Suspect Dead After Exch...</td>\n",
              "      <td>1</td>\n",
              "    </tr>\n",
              "    <tr>\n",
              "      <th>6364</th>\n",
              "      <td>Pic of 16yr old PKK suicide bomber who detonat...</td>\n",
              "      <td>1</td>\n",
              "    </tr>\n",
              "  </tbody>\n",
              "</table>\n",
              "</div>\n",
              "      <button class=\"colab-df-convert\" onclick=\"convertToInteractive('df-0c880e9a-c3f6-4e46-8f55-b7dc0cf4eb79')\"\n",
              "              title=\"Convert this dataframe to an interactive table.\"\n",
              "              style=\"display:none;\">\n",
              "        \n",
              "  <svg xmlns=\"http://www.w3.org/2000/svg\" height=\"24px\"viewBox=\"0 0 24 24\"\n",
              "       width=\"24px\">\n",
              "    <path d=\"M0 0h24v24H0V0z\" fill=\"none\"/>\n",
              "    <path d=\"M18.56 5.44l.94 2.06.94-2.06 2.06-.94-2.06-.94-.94-2.06-.94 2.06-2.06.94zm-11 1L8.5 8.5l.94-2.06 2.06-.94-2.06-.94L8.5 2.5l-.94 2.06-2.06.94zm10 10l.94 2.06.94-2.06 2.06-.94-2.06-.94-.94-2.06-.94 2.06-2.06.94z\"/><path d=\"M17.41 7.96l-1.37-1.37c-.4-.4-.92-.59-1.43-.59-.52 0-1.04.2-1.43.59L10.3 9.45l-7.72 7.72c-.78.78-.78 2.05 0 2.83L4 21.41c.39.39.9.59 1.41.59.51 0 1.02-.2 1.41-.59l7.78-7.78 2.81-2.81c.8-.78.8-2.07 0-2.86zM5.41 20L4 18.59l7.72-7.72 1.47 1.35L5.41 20z\"/>\n",
              "  </svg>\n",
              "      </button>\n",
              "      \n",
              "  <style>\n",
              "    .colab-df-container {\n",
              "      display:flex;\n",
              "      flex-wrap:wrap;\n",
              "      gap: 12px;\n",
              "    }\n",
              "\n",
              "    .colab-df-convert {\n",
              "      background-color: #E8F0FE;\n",
              "      border: none;\n",
              "      border-radius: 50%;\n",
              "      cursor: pointer;\n",
              "      display: none;\n",
              "      fill: #1967D2;\n",
              "      height: 32px;\n",
              "      padding: 0 0 0 0;\n",
              "      width: 32px;\n",
              "    }\n",
              "\n",
              "    .colab-df-convert:hover {\n",
              "      background-color: #E2EBFA;\n",
              "      box-shadow: 0px 1px 2px rgba(60, 64, 67, 0.3), 0px 1px 3px 1px rgba(60, 64, 67, 0.15);\n",
              "      fill: #174EA6;\n",
              "    }\n",
              "\n",
              "    [theme=dark] .colab-df-convert {\n",
              "      background-color: #3B4455;\n",
              "      fill: #D2E3FC;\n",
              "    }\n",
              "\n",
              "    [theme=dark] .colab-df-convert:hover {\n",
              "      background-color: #434B5C;\n",
              "      box-shadow: 0px 1px 3px 1px rgba(0, 0, 0, 0.15);\n",
              "      filter: drop-shadow(0px 1px 2px rgba(0, 0, 0, 0.3));\n",
              "      fill: #FFFFFF;\n",
              "    }\n",
              "  </style>\n",
              "\n",
              "      <script>\n",
              "        const buttonEl =\n",
              "          document.querySelector('#df-0c880e9a-c3f6-4e46-8f55-b7dc0cf4eb79 button.colab-df-convert');\n",
              "        buttonEl.style.display =\n",
              "          google.colab.kernel.accessAllowed ? 'block' : 'none';\n",
              "\n",
              "        async function convertToInteractive(key) {\n",
              "          const element = document.querySelector('#df-0c880e9a-c3f6-4e46-8f55-b7dc0cf4eb79');\n",
              "          const dataTable =\n",
              "            await google.colab.kernel.invokeFunction('convertToInteractive',\n",
              "                                                     [key], {});\n",
              "          if (!dataTable) return;\n",
              "\n",
              "          const docLinkHtml = 'Like what you see? Visit the ' +\n",
              "            '<a target=\"_blank\" href=https://colab.research.google.com/notebooks/data_table.ipynb>data table notebook</a>'\n",
              "            + ' to learn more about interactive tables.';\n",
              "          element.innerHTML = '';\n",
              "          dataTable['output_type'] = 'display_data';\n",
              "          await google.colab.output.renderOutput(dataTable, element);\n",
              "          const docLink = document.createElement('div');\n",
              "          docLink.innerHTML = docLinkHtml;\n",
              "          element.appendChild(docLink);\n",
              "        }\n",
              "      </script>\n",
              "    </div>\n",
              "  </div>\n",
              "  "
            ]
          },
          "metadata": {},
          "execution_count": 8
        }
      ]
    },
    {
      "cell_type": "code",
      "source": [
        "pd.concat([X_val, y_val], axis=1).head(15)"
      ],
      "metadata": {
        "colab": {
          "base_uri": "https://localhost:8080/",
          "height": 520
        },
        "id": "WtPPAx6-HiSp",
        "outputId": "e4c56604-3952-4dfc-9252-34c629ee37e3"
      },
      "execution_count": 9,
      "outputs": [
        {
          "output_type": "execute_result",
          "data": {
            "text/plain": [
              "                                                   text  target\n",
              "2644  So you have a new weapon that can cause un-ima...       1\n",
              "2227  The f$&amp;@ing things I do for #GISHWHES Just...       0\n",
              "5448  DT @georgegalloway: RT @Galloway4Mayor: ÛÏThe...       1\n",
              "132   Aftershock back to school kick off was great. ...       0\n",
              "6845  in response to trauma Children of Addicts deve...       0\n",
              "5559  @Calum5SOS you look like you got caught in a r...       0\n",
              "1765  my favorite lady came to our volunteer meeting...       1\n",
              "1817  @brianroemmele UX fail of EMV - people want to...       1\n",
              "6810  Can't find my ariana grande shirt  this is a f...       0\n",
              "4398  The Murderous Story Of AmericaÛªs First Hijac...       1\n",
              "1807  AKILAH WORLD NEWS Cop pulls man from car to av...       1\n",
              "6101                We walk the plank of a sinking ship       0\n",
              "5701  @Zak_Bagans pets r like part of the family. I ...       0\n",
              "6029  ON THE USE OF PERFORATED METAL SHEAR PANEL SFO...       0\n",
              "3012  The answer my friend is yelling in the wind-my...       0"
            ],
            "text/html": [
              "\n",
              "  <div id=\"df-2ef46dc0-0999-410a-a2ad-59a9e2e22198\">\n",
              "    <div class=\"colab-df-container\">\n",
              "      <div>\n",
              "<style scoped>\n",
              "    .dataframe tbody tr th:only-of-type {\n",
              "        vertical-align: middle;\n",
              "    }\n",
              "\n",
              "    .dataframe tbody tr th {\n",
              "        vertical-align: top;\n",
              "    }\n",
              "\n",
              "    .dataframe thead th {\n",
              "        text-align: right;\n",
              "    }\n",
              "</style>\n",
              "<table border=\"1\" class=\"dataframe\">\n",
              "  <thead>\n",
              "    <tr style=\"text-align: right;\">\n",
              "      <th></th>\n",
              "      <th>text</th>\n",
              "      <th>target</th>\n",
              "    </tr>\n",
              "  </thead>\n",
              "  <tbody>\n",
              "    <tr>\n",
              "      <th>2644</th>\n",
              "      <td>So you have a new weapon that can cause un-ima...</td>\n",
              "      <td>1</td>\n",
              "    </tr>\n",
              "    <tr>\n",
              "      <th>2227</th>\n",
              "      <td>The f$&amp;amp;@ing things I do for #GISHWHES Just...</td>\n",
              "      <td>0</td>\n",
              "    </tr>\n",
              "    <tr>\n",
              "      <th>5448</th>\n",
              "      <td>DT @georgegalloway: RT @Galloway4Mayor: ÛÏThe...</td>\n",
              "      <td>1</td>\n",
              "    </tr>\n",
              "    <tr>\n",
              "      <th>132</th>\n",
              "      <td>Aftershock back to school kick off was great. ...</td>\n",
              "      <td>0</td>\n",
              "    </tr>\n",
              "    <tr>\n",
              "      <th>6845</th>\n",
              "      <td>in response to trauma Children of Addicts deve...</td>\n",
              "      <td>0</td>\n",
              "    </tr>\n",
              "    <tr>\n",
              "      <th>5559</th>\n",
              "      <td>@Calum5SOS you look like you got caught in a r...</td>\n",
              "      <td>0</td>\n",
              "    </tr>\n",
              "    <tr>\n",
              "      <th>1765</th>\n",
              "      <td>my favorite lady came to our volunteer meeting...</td>\n",
              "      <td>1</td>\n",
              "    </tr>\n",
              "    <tr>\n",
              "      <th>1817</th>\n",
              "      <td>@brianroemmele UX fail of EMV - people want to...</td>\n",
              "      <td>1</td>\n",
              "    </tr>\n",
              "    <tr>\n",
              "      <th>6810</th>\n",
              "      <td>Can't find my ariana grande shirt  this is a f...</td>\n",
              "      <td>0</td>\n",
              "    </tr>\n",
              "    <tr>\n",
              "      <th>4398</th>\n",
              "      <td>The Murderous Story Of AmericaÛªs First Hijac...</td>\n",
              "      <td>1</td>\n",
              "    </tr>\n",
              "    <tr>\n",
              "      <th>1807</th>\n",
              "      <td>AKILAH WORLD NEWS Cop pulls man from car to av...</td>\n",
              "      <td>1</td>\n",
              "    </tr>\n",
              "    <tr>\n",
              "      <th>6101</th>\n",
              "      <td>We walk the plank of a sinking ship</td>\n",
              "      <td>0</td>\n",
              "    </tr>\n",
              "    <tr>\n",
              "      <th>5701</th>\n",
              "      <td>@Zak_Bagans pets r like part of the family. I ...</td>\n",
              "      <td>0</td>\n",
              "    </tr>\n",
              "    <tr>\n",
              "      <th>6029</th>\n",
              "      <td>ON THE USE OF PERFORATED METAL SHEAR PANEL SFO...</td>\n",
              "      <td>0</td>\n",
              "    </tr>\n",
              "    <tr>\n",
              "      <th>3012</th>\n",
              "      <td>The answer my friend is yelling in the wind-my...</td>\n",
              "      <td>0</td>\n",
              "    </tr>\n",
              "  </tbody>\n",
              "</table>\n",
              "</div>\n",
              "      <button class=\"colab-df-convert\" onclick=\"convertToInteractive('df-2ef46dc0-0999-410a-a2ad-59a9e2e22198')\"\n",
              "              title=\"Convert this dataframe to an interactive table.\"\n",
              "              style=\"display:none;\">\n",
              "        \n",
              "  <svg xmlns=\"http://www.w3.org/2000/svg\" height=\"24px\"viewBox=\"0 0 24 24\"\n",
              "       width=\"24px\">\n",
              "    <path d=\"M0 0h24v24H0V0z\" fill=\"none\"/>\n",
              "    <path d=\"M18.56 5.44l.94 2.06.94-2.06 2.06-.94-2.06-.94-.94-2.06-.94 2.06-2.06.94zm-11 1L8.5 8.5l.94-2.06 2.06-.94-2.06-.94L8.5 2.5l-.94 2.06-2.06.94zm10 10l.94 2.06.94-2.06 2.06-.94-2.06-.94-.94-2.06-.94 2.06-2.06.94z\"/><path d=\"M17.41 7.96l-1.37-1.37c-.4-.4-.92-.59-1.43-.59-.52 0-1.04.2-1.43.59L10.3 9.45l-7.72 7.72c-.78.78-.78 2.05 0 2.83L4 21.41c.39.39.9.59 1.41.59.51 0 1.02-.2 1.41-.59l7.78-7.78 2.81-2.81c.8-.78.8-2.07 0-2.86zM5.41 20L4 18.59l7.72-7.72 1.47 1.35L5.41 20z\"/>\n",
              "  </svg>\n",
              "      </button>\n",
              "      \n",
              "  <style>\n",
              "    .colab-df-container {\n",
              "      display:flex;\n",
              "      flex-wrap:wrap;\n",
              "      gap: 12px;\n",
              "    }\n",
              "\n",
              "    .colab-df-convert {\n",
              "      background-color: #E8F0FE;\n",
              "      border: none;\n",
              "      border-radius: 50%;\n",
              "      cursor: pointer;\n",
              "      display: none;\n",
              "      fill: #1967D2;\n",
              "      height: 32px;\n",
              "      padding: 0 0 0 0;\n",
              "      width: 32px;\n",
              "    }\n",
              "\n",
              "    .colab-df-convert:hover {\n",
              "      background-color: #E2EBFA;\n",
              "      box-shadow: 0px 1px 2px rgba(60, 64, 67, 0.3), 0px 1px 3px 1px rgba(60, 64, 67, 0.15);\n",
              "      fill: #174EA6;\n",
              "    }\n",
              "\n",
              "    [theme=dark] .colab-df-convert {\n",
              "      background-color: #3B4455;\n",
              "      fill: #D2E3FC;\n",
              "    }\n",
              "\n",
              "    [theme=dark] .colab-df-convert:hover {\n",
              "      background-color: #434B5C;\n",
              "      box-shadow: 0px 1px 3px 1px rgba(0, 0, 0, 0.15);\n",
              "      filter: drop-shadow(0px 1px 2px rgba(0, 0, 0, 0.3));\n",
              "      fill: #FFFFFF;\n",
              "    }\n",
              "  </style>\n",
              "\n",
              "      <script>\n",
              "        const buttonEl =\n",
              "          document.querySelector('#df-2ef46dc0-0999-410a-a2ad-59a9e2e22198 button.colab-df-convert');\n",
              "        buttonEl.style.display =\n",
              "          google.colab.kernel.accessAllowed ? 'block' : 'none';\n",
              "\n",
              "        async function convertToInteractive(key) {\n",
              "          const element = document.querySelector('#df-2ef46dc0-0999-410a-a2ad-59a9e2e22198');\n",
              "          const dataTable =\n",
              "            await google.colab.kernel.invokeFunction('convertToInteractive',\n",
              "                                                     [key], {});\n",
              "          if (!dataTable) return;\n",
              "\n",
              "          const docLinkHtml = 'Like what you see? Visit the ' +\n",
              "            '<a target=\"_blank\" href=https://colab.research.google.com/notebooks/data_table.ipynb>data table notebook</a>'\n",
              "            + ' to learn more about interactive tables.';\n",
              "          element.innerHTML = '';\n",
              "          dataTable['output_type'] = 'display_data';\n",
              "          await google.colab.output.renderOutput(dataTable, element);\n",
              "          const docLink = document.createElement('div');\n",
              "          docLink.innerHTML = docLinkHtml;\n",
              "          element.appendChild(docLink);\n",
              "        }\n",
              "      </script>\n",
              "    </div>\n",
              "  </div>\n",
              "  "
            ]
          },
          "metadata": {},
          "execution_count": 9
        }
      ]
    },
    {
      "cell_type": "markdown",
      "source": [
        "# Play with TextVectorization"
      ],
      "metadata": {
        "id": "8bKJa22-Pikx"
      }
    },
    {
      "cell_type": "code",
      "source": [
        "round(sum([len(stmt.split()) for stmt in X_train])/len(X_train))"
      ],
      "metadata": {
        "colab": {
          "base_uri": "https://localhost:8080/"
        },
        "id": "a3FY7GzNZyCr",
        "outputId": "9d20f125-eaee-4282-ca2b-43e0484acc97"
      },
      "execution_count": 10,
      "outputs": [
        {
          "output_type": "execute_result",
          "data": {
            "text/plain": [
              "15"
            ]
          },
          "metadata": {},
          "execution_count": 10
        }
      ]
    },
    {
      "cell_type": "code",
      "source": [
        "VOCAB_SIZE = 2500\n",
        "VECTOR_OUTPUT_LENGTH = 18\n",
        "EMBEDDING_OUTPUT_DIMS = 256\n",
        "\n",
        "vectorizer = tf.keras.layers.TextVectorization(\n",
        "  max_tokens = VOCAB_SIZE,\n",
        "  output_mode = 'int',\n",
        "  output_sequence_length=15,\n",
        "  name='vectorizer_layer'\n",
        ")"
      ],
      "metadata": {
        "id": "thdKUe4ePns3"
      },
      "execution_count": 11,
      "outputs": []
    },
    {
      "cell_type": "code",
      "source": [
        "vocab = vectorizer.get_vocabulary()\n",
        "len(vocab)"
      ],
      "metadata": {
        "colab": {
          "base_uri": "https://localhost:8080/"
        },
        "id": "jPepz_PWP-Ft",
        "outputId": "7ebd4444-9bf5-4a13-bac9-f9aed8c887ae"
      },
      "execution_count": 12,
      "outputs": [
        {
          "output_type": "execute_result",
          "data": {
            "text/plain": [
              "2"
            ]
          },
          "metadata": {},
          "execution_count": 12
        }
      ]
    },
    {
      "cell_type": "code",
      "source": [
        "# fit vectorizer to X_train\n",
        "vectorizer.adapt(X_train)"
      ],
      "metadata": {
        "id": "i3RgU_nWQJgS"
      },
      "execution_count": 13,
      "outputs": []
    },
    {
      "cell_type": "code",
      "source": [
        "vocab = vectorizer.get_vocabulary()\n",
        "len(vocab)"
      ],
      "metadata": {
        "colab": {
          "base_uri": "https://localhost:8080/"
        },
        "id": "l5T0unXUQNlq",
        "outputId": "e816003a-b80d-4cd5-929e-fae7946d84ff"
      },
      "execution_count": 14,
      "outputs": [
        {
          "output_type": "execute_result",
          "data": {
            "text/plain": [
              "2500"
            ]
          },
          "metadata": {},
          "execution_count": 14
        }
      ]
    },
    {
      "cell_type": "code",
      "source": [
        "vocab[:15], vocab[-15:]"
      ],
      "metadata": {
        "colab": {
          "base_uri": "https://localhost:8080/"
        },
        "id": "MBjX5uP4QTRB",
        "outputId": "c8ab8a55-8f63-40d0-fa5c-55a5d38dfe90"
      },
      "execution_count": 15,
      "outputs": [
        {
          "output_type": "execute_result",
          "data": {
            "text/plain": [
              "(['',\n",
              "  '[UNK]',\n",
              "  'the',\n",
              "  'a',\n",
              "  'in',\n",
              "  'to',\n",
              "  'of',\n",
              "  'and',\n",
              "  'i',\n",
              "  'is',\n",
              "  'for',\n",
              "  'on',\n",
              "  'you',\n",
              "  'my',\n",
              "  'with'],\n",
              " ['evil',\n",
              "  'everyones',\n",
              "  'estimated',\n",
              "  'eruption',\n",
              "  'error',\n",
              "  'entertainment',\n",
              "  'enemy',\n",
              "  'emotionally',\n",
              "  'elephant',\n",
              "  'electrical',\n",
              "  'election',\n",
              "  'efforts',\n",
              "  'education',\n",
              "  'edition',\n",
              "  'dvd'])"
            ]
          },
          "metadata": {},
          "execution_count": 15
        }
      ]
    },
    {
      "cell_type": "code",
      "source": [
        "vectorizer([X_train[72]])"
      ],
      "metadata": {
        "colab": {
          "base_uri": "https://localhost:8080/"
        },
        "id": "hcjxxikOQUnk",
        "outputId": "c3f249e5-0f46-4b30-aa17-f752ff390bd2"
      },
      "execution_count": 16,
      "outputs": [
        {
          "output_type": "execute_result",
          "data": {
            "text/plain": [
              "<tf.Tensor: shape=(1, 15), dtype=int64, numpy=\n",
              "array([[ 980, 2381,  921,  132,    4,    1,   11,    1,  794,  218,    1,\n",
              "        1188,   43,    1,  921]])>"
            ]
          },
          "metadata": {},
          "execution_count": 16
        }
      ]
    },
    {
      "cell_type": "code",
      "source": [
        "original_stmt = X_train[72]\n",
        "reconstructed_stmt = \" \".join([ vocab[i] for i in vectorizer([X_train[72]])[0] ])\n",
        "\n",
        "print(f\"Original      > {original_stmt}\")\n",
        "print(f\"Reconstructed > {reconstructed_stmt}\")"
      ],
      "metadata": {
        "colab": {
          "base_uri": "https://localhost:8080/"
        },
        "id": "FNPfLA8TSheH",
        "outputId": "3d1c35bf-6bb4-418a-f262-83a5e1007a8b"
      },
      "execution_count": 17,
      "outputs": [
        {
          "output_type": "stream",
          "name": "stdout",
          "text": [
            "Original      > Reported motor vehicle accident in Curry on Herman Rd near Stephenson involving an overturned vehicle. Please use... http://t.co/YbJezKuRW1\n",
            "Reconstructed > reported motor vehicle accident in [UNK] on [UNK] rd near [UNK] involving an [UNK] vehicle\n"
          ]
        }
      ]
    },
    {
      "cell_type": "markdown",
      "source": [
        "# Play with Embedding"
      ],
      "metadata": {
        "id": "yOADcgtSYkL4"
      }
    },
    {
      "cell_type": "code",
      "source": [
        "def make_embedding():\n",
        "  return tf.keras.layers.Embedding(\n",
        "      input_dim=len(vocab),\n",
        "      output_dim=32,\n",
        "      input_length=101,\n",
        "      name='embedding_layer'\n",
        "  )\n",
        "\n",
        "embedding = make_embedding()"
      ],
      "metadata": {
        "id": "P0VZMxuATts0"
      },
      "execution_count": 18,
      "outputs": []
    },
    {
      "cell_type": "code",
      "source": [
        "X_train[72]"
      ],
      "metadata": {
        "colab": {
          "base_uri": "https://localhost:8080/",
          "height": 53
        },
        "id": "cMS_izIsZRw7",
        "outputId": "9648f3b7-9c82-4202-e1d4-a2fd747a90f3"
      },
      "execution_count": 19,
      "outputs": [
        {
          "output_type": "execute_result",
          "data": {
            "text/plain": [
              "'Reported motor vehicle accident in Curry on Herman Rd near Stephenson involving an overturned vehicle. Please use... http://t.co/YbJezKuRW1'"
            ],
            "application/vnd.google.colaboratory.intrinsic+json": {
              "type": "string"
            }
          },
          "metadata": {},
          "execution_count": 19
        }
      ]
    },
    {
      "cell_type": "code",
      "source": [
        "embedding(vectorizer([X_train[72]]))"
      ],
      "metadata": {
        "colab": {
          "base_uri": "https://localhost:8080/"
        },
        "id": "SyLjmMUSZJ_j",
        "outputId": "c5f5cc2f-8a48-40b7-89e2-400fb707cf66"
      },
      "execution_count": 20,
      "outputs": [
        {
          "output_type": "execute_result",
          "data": {
            "text/plain": [
              "<tf.Tensor: shape=(1, 15, 32), dtype=float32, numpy=\n",
              "array([[[-0.01475043, -0.01694604,  0.04741322, -0.00606284,\n",
              "          0.02107242,  0.02810481,  0.02561981,  0.04279951,\n",
              "          0.01635612, -0.03636377, -0.01497625, -0.03939911,\n",
              "         -0.04344671,  0.04950846,  0.01218475,  0.03929272,\n",
              "          0.04351385, -0.00157704,  0.03504367, -0.01330187,\n",
              "         -0.01474987, -0.02464255, -0.04312983, -0.03904706,\n",
              "          0.00830819, -0.04171522,  0.03744984,  0.03381176,\n",
              "          0.01493   , -0.01159974, -0.04144695,  0.02742407],\n",
              "        [ 0.03640211,  0.04716649, -0.01978656,  0.00613598,\n",
              "          0.0245691 ,  0.02725332, -0.03010248,  0.03033478,\n",
              "          0.00931532,  0.00177376, -0.0123304 ,  0.0478921 ,\n",
              "          0.03067322, -0.00533286, -0.04658258,  0.04468527,\n",
              "         -0.00126269, -0.04738606,  0.03813433, -0.00603832,\n",
              "          0.04618019,  0.01575079, -0.01125496, -0.01414745,\n",
              "         -0.01025898,  0.03387037, -0.00158987, -0.04149585,\n",
              "          0.01831341,  0.04840448, -0.00247483, -0.04892781],\n",
              "        [-0.01737883,  0.00748583,  0.01837264,  0.04849771,\n",
              "          0.0333829 , -0.0194355 ,  0.03375158,  0.04602531,\n",
              "          0.00134538, -0.01002175,  0.00346076, -0.04880741,\n",
              "          0.0172694 , -0.02049559,  0.02683774,  0.03174199,\n",
              "          0.02535701,  0.02541423,  0.02987048, -0.02602625,\n",
              "          0.02388582, -0.01704292,  0.0360007 , -0.04976484,\n",
              "          0.00600339,  0.0295288 , -0.04026372, -0.00016373,\n",
              "          0.02580545,  0.04244388,  0.03774512,  0.02927638],\n",
              "        [-0.0455637 , -0.04318641,  0.01333961,  0.0086082 ,\n",
              "         -0.02330518,  0.04774101, -0.02176098,  0.00392747,\n",
              "          0.03477782, -0.04213519,  0.04920611, -0.03408746,\n",
              "          0.03016443,  0.00510793, -0.01715774,  0.00202287,\n",
              "         -0.02003239, -0.03678461,  0.0335979 , -0.04727615,\n",
              "          0.02489306, -0.00148852,  0.02744405,  0.02556555,\n",
              "          0.02664452,  0.04120469,  0.00286622, -0.0471096 ,\n",
              "         -0.0144247 , -0.03048589,  0.02035849, -0.01326959],\n",
              "        [ 0.04576417, -0.02317714, -0.03723856,  0.01251652,\n",
              "          0.03148503, -0.01371146,  0.02243323, -0.03153523,\n",
              "          0.02756404, -0.02159852,  0.01199496,  0.01111882,\n",
              "          0.00571592,  0.01624266, -0.01641226,  0.00761472,\n",
              "         -0.01109435,  0.01621597, -0.01089462,  0.00746123,\n",
              "          0.04011004, -0.03185051,  0.02216048, -0.0245639 ,\n",
              "         -0.03293182, -0.02638739,  0.00655855,  0.02906329,\n",
              "         -0.00143771,  0.02988357, -0.0404887 , -0.00436046],\n",
              "        [ 0.00839432,  0.04170733,  0.01554123,  0.00745753,\n",
              "          0.00557003,  0.00812588, -0.02462851,  0.04286857,\n",
              "          0.03507658, -0.00604258, -0.01852944,  0.01344732,\n",
              "          0.03110955, -0.02790589,  0.00938858,  0.04996425,\n",
              "         -0.01364887,  0.02482661, -0.01828663, -0.0467019 ,\n",
              "          0.01225496,  0.02465317,  0.00371877, -0.02896234,\n",
              "          0.0247627 ,  0.02444014,  0.04305704,  0.02259861,\n",
              "          0.04847331,  0.04786075,  0.02965859, -0.04965685],\n",
              "        [ 0.03389603, -0.03161086, -0.00439094, -0.02506223,\n",
              "         -0.02637479, -0.0491073 , -0.03419367,  0.0077359 ,\n",
              "         -0.04957109, -0.01531869,  0.01842029, -0.01851562,\n",
              "          0.02175757,  0.03848392, -0.02372571, -0.04567344,\n",
              "         -0.03694725,  0.01395262, -0.02725101,  0.01771554,\n",
              "          0.00131107,  0.00034233,  0.00911721,  0.02126988,\n",
              "         -0.01520989,  0.00443392,  0.02996862, -0.03330984,\n",
              "          0.01040941, -0.04851646,  0.02320964,  0.00124158],\n",
              "        [ 0.00839432,  0.04170733,  0.01554123,  0.00745753,\n",
              "          0.00557003,  0.00812588, -0.02462851,  0.04286857,\n",
              "          0.03507658, -0.00604258, -0.01852944,  0.01344732,\n",
              "          0.03110955, -0.02790589,  0.00938858,  0.04996425,\n",
              "         -0.01364887,  0.02482661, -0.01828663, -0.0467019 ,\n",
              "          0.01225496,  0.02465317,  0.00371877, -0.02896234,\n",
              "          0.0247627 ,  0.02444014,  0.04305704,  0.02259861,\n",
              "          0.04847331,  0.04786075,  0.02965859, -0.04965685],\n",
              "        [ 0.03884767,  0.04861749, -0.04304714,  0.02060226,\n",
              "          0.04812658, -0.0374552 ,  0.01323206, -0.00891636,\n",
              "          0.00985342,  0.03472555,  0.02831482,  0.02971009,\n",
              "         -0.00620489,  0.01034931, -0.03369471, -0.00020518,\n",
              "         -0.00108991,  0.04396317,  0.00419282,  0.00023315,\n",
              "          0.03966446, -0.02196055,  0.04112497, -0.03979807,\n",
              "         -0.03482462, -0.02094058,  0.00432402, -0.04727634,\n",
              "          0.03709692, -0.00749427,  0.01292058,  0.01247768],\n",
              "        [ 0.03195793,  0.03752053, -0.02411766,  0.01240737,\n",
              "         -0.02937324,  0.01283158,  0.03112955, -0.03589842,\n",
              "          0.02646938, -0.02189556, -0.03665227, -0.01587384,\n",
              "         -0.01075481,  0.00765235, -0.04883543, -0.03955494,\n",
              "         -0.0435825 , -0.0124728 ,  0.03672764,  0.04313639,\n",
              "         -0.01772892, -0.01214772, -0.0056478 ,  0.00593345,\n",
              "          0.0170528 , -0.0454413 , -0.04767417, -0.038632  ,\n",
              "          0.00143827,  0.03531522, -0.01390843,  0.00833055],\n",
              "        [ 0.00839432,  0.04170733,  0.01554123,  0.00745753,\n",
              "          0.00557003,  0.00812588, -0.02462851,  0.04286857,\n",
              "          0.03507658, -0.00604258, -0.01852944,  0.01344732,\n",
              "          0.03110955, -0.02790589,  0.00938858,  0.04996425,\n",
              "         -0.01364887,  0.02482661, -0.01828663, -0.0467019 ,\n",
              "          0.01225496,  0.02465317,  0.00371877, -0.02896234,\n",
              "          0.0247627 ,  0.02444014,  0.04305704,  0.02259861,\n",
              "          0.04847331,  0.04786075,  0.02965859, -0.04965685],\n",
              "        [ 0.03639746, -0.03038985, -0.0101423 ,  0.00815911,\n",
              "          0.00854499,  0.01499717, -0.01853237,  0.0239112 ,\n",
              "         -0.00810359, -0.03565544,  0.03837861, -0.01344589,\n",
              "         -0.04462646, -0.04400829,  0.03211525, -0.00857258,\n",
              "         -0.03000589, -0.01483442,  0.02253345,  0.04862192,\n",
              "         -0.03442862, -0.03023102,  0.01306463,  0.00138436,\n",
              "          0.02547165,  0.02502246,  0.0362089 , -0.01743888,\n",
              "          0.03175432, -0.03477861,  0.00290743, -0.00230317],\n",
              "        [-0.03555302, -0.04334437,  0.01836146, -0.04887578,\n",
              "         -0.00025605, -0.04621388,  0.01314035,  0.03526608,\n",
              "          0.04356083, -0.00649303, -0.00346444, -0.01165819,\n",
              "         -0.01558273,  0.0348579 , -0.03438526, -0.01846453,\n",
              "         -0.04006792, -0.03210505, -0.03481915,  0.04115908,\n",
              "          0.03987305, -0.0100904 ,  0.03291321,  0.03320124,\n",
              "          0.0444028 , -0.04540978,  0.01898869, -0.00602872,\n",
              "          0.01114485,  0.02216779,  0.02965618, -0.02633913],\n",
              "        [ 0.00839432,  0.04170733,  0.01554123,  0.00745753,\n",
              "          0.00557003,  0.00812588, -0.02462851,  0.04286857,\n",
              "          0.03507658, -0.00604258, -0.01852944,  0.01344732,\n",
              "          0.03110955, -0.02790589,  0.00938858,  0.04996425,\n",
              "         -0.01364887,  0.02482661, -0.01828663, -0.0467019 ,\n",
              "          0.01225496,  0.02465317,  0.00371877, -0.02896234,\n",
              "          0.0247627 ,  0.02444014,  0.04305704,  0.02259861,\n",
              "          0.04847331,  0.04786075,  0.02965859, -0.04965685],\n",
              "        [-0.01737883,  0.00748583,  0.01837264,  0.04849771,\n",
              "          0.0333829 , -0.0194355 ,  0.03375158,  0.04602531,\n",
              "          0.00134538, -0.01002175,  0.00346076, -0.04880741,\n",
              "          0.0172694 , -0.02049559,  0.02683774,  0.03174199,\n",
              "          0.02535701,  0.02541423,  0.02987048, -0.02602625,\n",
              "          0.02388582, -0.01704292,  0.0360007 , -0.04976484,\n",
              "          0.00600339,  0.0295288 , -0.04026372, -0.00016373,\n",
              "          0.02580545,  0.04244388,  0.03774512,  0.02927638]]],\n",
              "      dtype=float32)>"
            ]
          },
          "metadata": {},
          "execution_count": 20
        }
      ]
    },
    {
      "cell_type": "markdown",
      "source": [
        "# Modelling\n"
      ],
      "metadata": {
        "id": "qlA00SfDX6yR"
      }
    },
    {
      "cell_type": "markdown",
      "source": [
        "## Model 0 (Baseline): Naive Bayes with TF-IDF encoder"
      ],
      "metadata": {
        "id": "nVSP7M4RX9jo"
      }
    },
    {
      "cell_type": "code",
      "source": [
        "def build_model_0(X, y):\n",
        "  from sklearn.pipeline import Pipeline\n",
        "  from sklearn.feature_extraction.text import TfidfVectorizer\n",
        "  from sklearn.naive_bayes import MultinomialNB\n",
        "\n",
        "  model = Pipeline([\n",
        "      ('vectorizer', TfidfVectorizer()),\n",
        "      ('clf', MultinomialNB())\n",
        "  ])\n",
        "  model.fit(X, y)\n",
        "\n",
        "  return model\n",
        "\n",
        "\n",
        "model_0 = build_model_0(X_train, y_train)"
      ],
      "metadata": {
        "id": "w5c6DnPHYp7y"
      },
      "execution_count": 21,
      "outputs": []
    },
    {
      "cell_type": "code",
      "source": [
        "model_0_preds = model_0.predict(X_val)\n",
        "\n",
        "model_0_preds.shape, model_0_preds[:15]"
      ],
      "metadata": {
        "colab": {
          "base_uri": "https://localhost:8080/"
        },
        "id": "JoPbSzwBtUdu",
        "outputId": "2b74210d-7c1c-49bf-9781-9c778598e967"
      },
      "execution_count": 22,
      "outputs": [
        {
          "output_type": "execute_result",
          "data": {
            "text/plain": [
              "((762,), array([0, 0, 0, 0, 0, 0, 0, 0, 0, 1, 1, 0, 0, 0, 0]))"
            ]
          },
          "metadata": {},
          "execution_count": 22
        }
      ]
    },
    {
      "cell_type": "code",
      "source": [
        "def score_predictions(y_true, y_pred):\n",
        "  from sklearn.metrics import accuracy_score, precision_recall_fscore_support\n",
        "\n",
        "  accuracy = accuracy_score(y_true, y_pred)\n",
        "  precision, recall, f1, _ = precision_recall_fscore_support(y_true, y_pred, average='weighted')\n",
        "\n",
        "  return {\n",
        "      'accuracy': accuracy,\n",
        "      'precision': precision,\n",
        "      'recall': recall,\n",
        "      'f1': f1\n",
        "  }\n",
        "\n",
        "model_0_scores = score_predictions(y_val, model_0_preds)\n",
        "model_0_scores"
      ],
      "metadata": {
        "colab": {
          "base_uri": "https://localhost:8080/"
        },
        "id": "rS-e92YXtvof",
        "outputId": "29b1f37a-f47d-4385-e5a2-3dd9dbc9ea2c"
      },
      "execution_count": 23,
      "outputs": [
        {
          "output_type": "execute_result",
          "data": {
            "text/plain": [
              "{'accuracy': 0.7782152230971129,\n",
              " 'precision': 0.792992256322435,\n",
              " 'recall': 0.7782152230971129,\n",
              " 'f1': 0.7703527809038113}"
            ]
          },
          "metadata": {},
          "execution_count": 23
        }
      ]
    },
    {
      "cell_type": "markdown",
      "source": [
        "## Model 1: Feed-forwared neural network"
      ],
      "metadata": {
        "id": "BBS3y6c7YKTC"
      }
    },
    {
      "cell_type": "code",
      "source": [
        "def build_model_1(X, y):\n",
        "  from tensorflow.keras.layers import Input, TextVectorization, Embedding, Dense, GlobalAveragePooling1D\n",
        "  model = tf.keras.Sequential()\n",
        "  inputs = Input(shape=(1, ), dtype=tf.string)\n",
        "  model.add(inputs)\n",
        "  model.add(vectorizer)\n",
        "\n",
        "  embedding = make_embedding()\n",
        "  model.add(embedding)\n",
        "\n",
        "  pool = GlobalAveragePooling1D()\n",
        "  model.add(pool)\n",
        "\n",
        "  output = Dense(1, activation='sigmoid')\n",
        "  model.add(output)\n",
        "\n",
        "  return model\n",
        "\n",
        "model_1 = build_model_1(X_train, y_train)\n",
        "model_1.summary()"
      ],
      "metadata": {
        "colab": {
          "base_uri": "https://localhost:8080/"
        },
        "id": "4R7fKV-EUrZ6",
        "outputId": "3fcba7c5-3769-423f-d12e-dbfac190d2c1"
      },
      "execution_count": 24,
      "outputs": [
        {
          "output_type": "stream",
          "name": "stdout",
          "text": [
            "Model: \"sequential\"\n",
            "_________________________________________________________________\n",
            " Layer (type)                Output Shape              Param #   \n",
            "=================================================================\n",
            " vectorizer_layer (TextVecto  (None, 15)               0         \n",
            " rization)                                                       \n",
            "                                                                 \n",
            " embedding_layer (Embedding)  (None, 15, 32)           80000     \n",
            "                                                                 \n",
            " global_average_pooling1d (G  (None, 32)               0         \n",
            " lobalAveragePooling1D)                                          \n",
            "                                                                 \n",
            " dense (Dense)               (None, 1)                 33        \n",
            "                                                                 \n",
            "=================================================================\n",
            "Total params: 80,033\n",
            "Trainable params: 80,033\n",
            "Non-trainable params: 0\n",
            "_________________________________________________________________\n"
          ]
        }
      ]
    },
    {
      "cell_type": "code",
      "source": [
        "model_1.compile(\n",
        "    loss=tf.keras.losses.BinaryCrossentropy(),\n",
        "    optimizer=tf.keras.optimizers.Adam(),\n",
        "    metrics=['accuracy']\n",
        "  )\n",
        "\n",
        "model_1.fit(X_train, y_train,\n",
        "            epochs=10,\n",
        "            validation_data=(X_val, y_val)\n",
        "            )"
      ],
      "metadata": {
        "colab": {
          "base_uri": "https://localhost:8080/"
        },
        "id": "B5U1YC7TbXqM",
        "outputId": "44fa7419-dbce-41d3-aacc-af317da7bc33"
      },
      "execution_count": 25,
      "outputs": [
        {
          "output_type": "stream",
          "name": "stdout",
          "text": [
            "Epoch 1/10\n",
            "215/215 [==============================] - 29s 115ms/step - loss: 0.6514 - accuracy: 0.6320 - val_loss: 0.6142 - val_accuracy: 0.6929\n",
            "Epoch 2/10\n",
            "215/215 [==============================] - 3s 14ms/step - loss: 0.5502 - accuracy: 0.7523 - val_loss: 0.5393 - val_accuracy: 0.7717\n",
            "Epoch 3/10\n",
            "215/215 [==============================] - 1s 7ms/step - loss: 0.4715 - accuracy: 0.8046 - val_loss: 0.5050 - val_accuracy: 0.7874\n",
            "Epoch 4/10\n",
            "215/215 [==============================] - 2s 8ms/step - loss: 0.4248 - accuracy: 0.8208 - val_loss: 0.4890 - val_accuracy: 0.7822\n",
            "Epoch 5/10\n",
            "215/215 [==============================] - 2s 8ms/step - loss: 0.3932 - accuracy: 0.8383 - val_loss: 0.4824 - val_accuracy: 0.7913\n",
            "Epoch 6/10\n",
            "215/215 [==============================] - 1s 6ms/step - loss: 0.3701 - accuracy: 0.8440 - val_loss: 0.4819 - val_accuracy: 0.7913\n",
            "Epoch 7/10\n",
            "215/215 [==============================] - 2s 7ms/step - loss: 0.3512 - accuracy: 0.8532 - val_loss: 0.4828 - val_accuracy: 0.7887\n",
            "Epoch 8/10\n",
            "215/215 [==============================] - 2s 9ms/step - loss: 0.3357 - accuracy: 0.8575 - val_loss: 0.4858 - val_accuracy: 0.7861\n",
            "Epoch 9/10\n",
            "215/215 [==============================] - 1s 7ms/step - loss: 0.3229 - accuracy: 0.8629 - val_loss: 0.4919 - val_accuracy: 0.7874\n",
            "Epoch 10/10\n",
            "215/215 [==============================] - 1s 5ms/step - loss: 0.3116 - accuracy: 0.8675 - val_loss: 0.4960 - val_accuracy: 0.7848\n"
          ]
        },
        {
          "output_type": "execute_result",
          "data": {
            "text/plain": [
              "<keras.callbacks.History at 0x7f074c3de8f0>"
            ]
          },
          "metadata": {},
          "execution_count": 25
        }
      ]
    },
    {
      "cell_type": "code",
      "source": [
        "model_1_preds = model_1.predict(X_val)\n",
        "\n",
        "model_1_preds.shape, model_1_preds[:15]"
      ],
      "metadata": {
        "colab": {
          "base_uri": "https://localhost:8080/"
        },
        "id": "jkG0MxxHUrWj",
        "outputId": "8cab66d2-9f83-47e7-9d20-62daa0f14cb7"
      },
      "execution_count": 26,
      "outputs": [
        {
          "output_type": "stream",
          "name": "stdout",
          "text": [
            "24/24 [==============================] - 0s 2ms/step\n"
          ]
        },
        {
          "output_type": "execute_result",
          "data": {
            "text/plain": [
              "((762, 1),\n",
              " array([[0.03417928],\n",
              "        [0.1786166 ],\n",
              "        [0.6779139 ],\n",
              "        [0.01957888],\n",
              "        [0.66259295],\n",
              "        [0.18167534],\n",
              "        [0.0561069 ],\n",
              "        [0.43671578],\n",
              "        [0.17490943],\n",
              "        [0.80937445],\n",
              "        [0.8048919 ],\n",
              "        [0.44726437],\n",
              "        [0.0501304 ],\n",
              "        [0.42123988],\n",
              "        [0.2893127 ]], dtype=float32))"
            ]
          },
          "metadata": {},
          "execution_count": 26
        }
      ]
    },
    {
      "cell_type": "code",
      "source": [
        "model_1_preds = tf.squeeze(tf.round(model_1_preds))\n",
        "model_1_preds[:15]"
      ],
      "metadata": {
        "colab": {
          "base_uri": "https://localhost:8080/"
        },
        "id": "ItMd7-c3UrTb",
        "outputId": "dcb3c3bd-ef73-4238-ea11-1e62e3cf9acd"
      },
      "execution_count": 27,
      "outputs": [
        {
          "output_type": "execute_result",
          "data": {
            "text/plain": [
              "<tf.Tensor: shape=(15,), dtype=float32, numpy=\n",
              "array([0., 0., 1., 0., 1., 0., 0., 0., 0., 1., 1., 0., 0., 0., 0.],\n",
              "      dtype=float32)>"
            ]
          },
          "metadata": {},
          "execution_count": 27
        }
      ]
    },
    {
      "cell_type": "code",
      "source": [
        "model_1_scores = score_predictions(y_val, model_1_preds)\n",
        "model_1_scores"
      ],
      "metadata": {
        "colab": {
          "base_uri": "https://localhost:8080/"
        },
        "id": "JbBiYEtdUrPO",
        "outputId": "4356107c-4c63-4b49-c504-2a66c1be85db"
      },
      "execution_count": 28,
      "outputs": [
        {
          "output_type": "execute_result",
          "data": {
            "text/plain": [
              "{'accuracy': 0.7847769028871391,\n",
              " 'precision': 0.7846453978359578,\n",
              " 'recall': 0.7847769028871391,\n",
              " 'f1': 0.7832917661310436}"
            ]
          },
          "metadata": {},
          "execution_count": 28
        }
      ]
    },
    {
      "cell_type": "markdown",
      "source": [
        "### Visualizing embedding\n"
      ],
      "metadata": {
        "id": "gkL1sqnJiTs-"
      }
    },
    {
      "cell_type": "code",
      "source": [
        "model_1.summary()"
      ],
      "metadata": {
        "colab": {
          "base_uri": "https://localhost:8080/"
        },
        "id": "Ew_h8NW4UrL_",
        "outputId": "9e73bff8-40fa-44c3-c9a4-3a97d02ae8c2"
      },
      "execution_count": 29,
      "outputs": [
        {
          "output_type": "stream",
          "name": "stdout",
          "text": [
            "Model: \"sequential\"\n",
            "_________________________________________________________________\n",
            " Layer (type)                Output Shape              Param #   \n",
            "=================================================================\n",
            " vectorizer_layer (TextVecto  (None, 15)               0         \n",
            " rization)                                                       \n",
            "                                                                 \n",
            " embedding_layer (Embedding)  (None, 15, 32)           80000     \n",
            "                                                                 \n",
            " global_average_pooling1d (G  (None, 32)               0         \n",
            " lobalAveragePooling1D)                                          \n",
            "                                                                 \n",
            " dense (Dense)               (None, 1)                 33        \n",
            "                                                                 \n",
            "=================================================================\n",
            "Total params: 80,033\n",
            "Trainable params: 80,033\n",
            "Non-trainable params: 0\n",
            "_________________________________________________________________\n"
          ]
        }
      ]
    },
    {
      "cell_type": "code",
      "source": [
        "def download_embedding(model):\n",
        "  import io\n",
        "  weights = model.get_layer(\"embedding_layer\").get_weights()[0]\n",
        "  vocab = model.get_layer(\"vectorizer_layer\").get_vocabulary()\n",
        "\n",
        "  out_v = io.open('vectors.tsv', 'w', encoding='utf-8')\n",
        "  out_m = io.open('metadata.tsv', 'w', encoding='utf-8')\n",
        "\n",
        "  for index, word in enumerate(vocab):\n",
        "    if index == 0:\n",
        "      continue\n",
        "    vec = weights[index]\n",
        "    out_v.write('\\t'.join([str(x) for x in vec]) + \"\\n\")\n",
        "    out_m.write(word + '\\n')\n",
        "\n",
        "  out_v.close()\n",
        "  out_m.close()\n",
        "\n",
        "  # try:\n",
        "  #   from google.colab import files\n",
        "  #   files.download('vectors.tsv')\n",
        "  #   files.download('metadata.tsv')\n",
        "  # except Exception:\n",
        "  #   pass\n",
        "\n",
        "# download_embedding(model_1)"
      ],
      "metadata": {
        "id": "p1F3unwCUqi4"
      },
      "execution_count": 30,
      "outputs": []
    },
    {
      "cell_type": "markdown",
      "source": [
        "## Model 2: LSTM (RNN)"
      ],
      "metadata": {
        "id": "A82UzCwRYQ8x"
      }
    },
    {
      "cell_type": "code",
      "source": [
        "from tensorflow.keras.layers import Input, Dense, LSTM\n",
        "\n",
        "def build_model_2():\n",
        "  return tf.keras.Sequential([\n",
        "      Input(shape=(1, ), dtype=tf.string),\n",
        "      vectorizer,\n",
        "      make_embedding(),\n",
        "      LSTM(256, return_sequences=True),\n",
        "      LSTM(256),\n",
        "      Dense(64, activation='relu'),\n",
        "      Dense(1, activation='sigmoid')\n",
        "  ], name='model_2')\n",
        "\n",
        "model_2 = build_model_2()\n",
        "model_2.summary()"
      ],
      "metadata": {
        "colab": {
          "base_uri": "https://localhost:8080/"
        },
        "id": "X-DBaVDx8r_A",
        "outputId": "5ae96610-1715-4314-fb33-5def391dcf4e"
      },
      "execution_count": 31,
      "outputs": [
        {
          "output_type": "stream",
          "name": "stdout",
          "text": [
            "Model: \"model_2\"\n",
            "_________________________________________________________________\n",
            " Layer (type)                Output Shape              Param #   \n",
            "=================================================================\n",
            " vectorizer_layer (TextVecto  (None, 15)               0         \n",
            " rization)                                                       \n",
            "                                                                 \n",
            " embedding_layer (Embedding)  (None, 15, 32)           80000     \n",
            "                                                                 \n",
            " lstm (LSTM)                 (None, 15, 256)           295936    \n",
            "                                                                 \n",
            " lstm_1 (LSTM)               (None, 256)               525312    \n",
            "                                                                 \n",
            " dense_1 (Dense)             (None, 64)                16448     \n",
            "                                                                 \n",
            " dense_2 (Dense)             (None, 1)                 65        \n",
            "                                                                 \n",
            "=================================================================\n",
            "Total params: 917,761\n",
            "Trainable params: 917,761\n",
            "Non-trainable params: 0\n",
            "_________________________________________________________________\n"
          ]
        }
      ]
    },
    {
      "cell_type": "code",
      "source": [
        "model_2.compile(\n",
        "    loss=tf.keras.losses.BinaryCrossentropy(),\n",
        "    optimizer=tf.keras.optimizers.Adam(),\n",
        "    metrics=[\"accuracy\"]\n",
        ")\n",
        "\n",
        "model_2_history = model_2.fit(X_train, y_train,\n",
        "                              epochs=5,\n",
        "                              validation_split=0.2)"
      ],
      "metadata": {
        "colab": {
          "base_uri": "https://localhost:8080/"
        },
        "id": "XkQJ4KgGnbvD",
        "outputId": "21366528-0dfb-4d5f-f5fc-ab05b353cda0"
      },
      "execution_count": 32,
      "outputs": [
        {
          "output_type": "stream",
          "name": "stdout",
          "text": [
            "Epoch 1/5\n",
            "172/172 [==============================] - 16s 68ms/step - loss: 0.5287 - accuracy: 0.7392 - val_loss: 0.4716 - val_accuracy: 0.7783\n",
            "Epoch 2/5\n",
            "172/172 [==============================] - 3s 15ms/step - loss: 0.3760 - accuracy: 0.8403 - val_loss: 0.5247 - val_accuracy: 0.7702\n",
            "Epoch 3/5\n",
            "172/172 [==============================] - 4s 21ms/step - loss: 0.3311 - accuracy: 0.8646 - val_loss: 0.5010 - val_accuracy: 0.7702\n",
            "Epoch 4/5\n",
            "172/172 [==============================] - 2s 14ms/step - loss: 0.2855 - accuracy: 0.8827 - val_loss: 0.6023 - val_accuracy: 0.7549\n",
            "Epoch 5/5\n",
            "172/172 [==============================] - 2s 12ms/step - loss: 0.2562 - accuracy: 0.9044 - val_loss: 0.6657 - val_accuracy: 0.7666\n"
          ]
        }
      ]
    },
    {
      "cell_type": "code",
      "source": [
        "pd.DataFrame(model_2_history.history).plot()"
      ],
      "metadata": {
        "colab": {
          "base_uri": "https://localhost:8080/",
          "height": 447
        },
        "id": "o23XsXJ3nbsw",
        "outputId": "fac4af82-0548-49ba-da05-4de20b18c570"
      },
      "execution_count": 33,
      "outputs": [
        {
          "output_type": "execute_result",
          "data": {
            "text/plain": [
              "<Axes: >"
            ]
          },
          "metadata": {},
          "execution_count": 33
        },
        {
          "output_type": "display_data",
          "data": {
            "text/plain": [
              "<Figure size 640x480 with 1 Axes>"
            ],
            "image/png": "[encoded data removed]"
          },
          "metadata": {}
        }
      ]
    },
    {
      "cell_type": "code",
      "source": [
        "model_2_predictions = tf.squeeze(tf.round(model_2.predict(X_val)))\n",
        "\n",
        "model_2_predictions[:15]"
      ],
      "metadata": {
        "colab": {
          "base_uri": "https://localhost:8080/"
        },
        "id": "3f1jA2vonbp_",
        "outputId": "6fcc3f48-0eda-4463-82b7-4f1752c88c4a"
      },
      "execution_count": 34,
      "outputs": [
        {
          "output_type": "stream",
          "name": "stdout",
          "text": [
            "24/24 [==============================] - 1s 4ms/step\n"
          ]
        },
        {
          "output_type": "execute_result",
          "data": {
            "text/plain": [
              "<tf.Tensor: shape=(15,), dtype=float32, numpy=\n",
              "array([0., 0., 1., 0., 1., 0., 0., 0., 0., 1., 1., 1., 0., 0., 1.],\n",
              "      dtype=float32)>"
            ]
          },
          "metadata": {},
          "execution_count": 34
        }
      ]
    },
    {
      "cell_type": "code",
      "source": [
        "model_2_scores = score_predictions(y_val, model_2_predictions)\n",
        "model_2_scores"
      ],
      "metadata": {
        "colab": {
          "base_uri": "https://localhost:8080/"
        },
        "id": "y4uYI96ynbnI",
        "outputId": "258f57de-1613-446e-efc1-4bc557dd441b"
      },
      "execution_count": 35,
      "outputs": [
        {
          "output_type": "execute_result",
          "data": {
            "text/plain": [
              "{'accuracy': 0.7598425196850394,\n",
              " 'precision': 0.7599570913500314,\n",
              " 'recall': 0.7598425196850394,\n",
              " 'f1': 0.75740278537249}"
            ]
          },
          "metadata": {},
          "execution_count": 35
        }
      ]
    },
    {
      "cell_type": "markdown",
      "source": [
        "## Model 3: GRU (RNN)"
      ],
      "metadata": {
        "id": "-LvP7MTDYTzI"
      }
    },
    {
      "cell_type": "code",
      "source": [
        "from tensorflow.keras.layers import GRU\n",
        "\n",
        "def build_model_3():\n",
        "  return tf.keras.Sequential([\n",
        "      Input(shape=(1,), dtype=tf.string),\n",
        "      vectorizer,\n",
        "      make_embedding(),\n",
        "      GRU(64, return_sequences=True),\n",
        "      GRU(64),\n",
        "      Dense(1, activation='sigmoid')\n",
        "  ], name='model_3')\n",
        "\n",
        "model_3 = build_model_3()\n",
        "model_3.summary()"
      ],
      "metadata": {
        "colab": {
          "base_uri": "https://localhost:8080/"
        },
        "id": "-u7MRtyZ1P4i",
        "outputId": "4b0faaaf-007b-42c7-9206-9a6ca85a8ec3"
      },
      "execution_count": 36,
      "outputs": [
        {
          "output_type": "stream",
          "name": "stdout",
          "text": [
            "Model: \"model_3\"\n",
            "_________________________________________________________________\n",
            " Layer (type)                Output Shape              Param #   \n",
            "=================================================================\n",
            " vectorizer_layer (TextVecto  (None, 15)               0         \n",
            " rization)                                                       \n",
            "                                                                 \n",
            " embedding_layer (Embedding)  (None, 15, 32)           80000     \n",
            "                                                                 \n",
            " gru (GRU)                   (None, 15, 64)            18816     \n",
            "                                                                 \n",
            " gru_1 (GRU)                 (None, 64)                24960     \n",
            "                                                                 \n",
            " dense_3 (Dense)             (None, 1)                 65        \n",
            "                                                                 \n",
            "=================================================================\n",
            "Total params: 123,841\n",
            "Trainable params: 123,841\n",
            "Non-trainable params: 0\n",
            "_________________________________________________________________\n"
          ]
        }
      ]
    },
    {
      "cell_type": "code",
      "source": [
        "model_3.compile(\n",
        "    loss=tf.keras.losses.BinaryCrossentropy(),\n",
        "    optimizer=tf.keras.optimizers.Adam(),\n",
        "    metrics=['accuracy']\n",
        ")\n",
        "\n",
        "model_3_history = model_3.fit(X_train, y_train,\n",
        "                              epochs=5,\n",
        "                              validation_split=0.2)"
      ],
      "metadata": {
        "colab": {
          "base_uri": "https://localhost:8080/"
        },
        "id": "df0YrVuK1P1a",
        "outputId": "5b4d6fcf-25c4-4592-8cf6-3bb6bd4298e5"
      },
      "execution_count": 37,
      "outputs": [
        {
          "output_type": "stream",
          "name": "stdout",
          "text": [
            "Epoch 1/5\n",
            "172/172 [==============================] - 15s 58ms/step - loss: 0.5592 - accuracy: 0.7046 - val_loss: 0.5043 - val_accuracy: 0.7659\n",
            "Epoch 2/5\n",
            "172/172 [==============================] - 4s 22ms/step - loss: 0.3796 - accuracy: 0.8339 - val_loss: 0.4732 - val_accuracy: 0.7732\n",
            "Epoch 3/5\n",
            "172/172 [==============================] - 3s 15ms/step - loss: 0.3226 - accuracy: 0.8651 - val_loss: 0.5364 - val_accuracy: 0.7666\n",
            "Epoch 4/5\n",
            "172/172 [==============================] - 2s 12ms/step - loss: 0.2878 - accuracy: 0.8843 - val_loss: 0.5222 - val_accuracy: 0.7622\n",
            "Epoch 5/5\n",
            "172/172 [==============================] - 2s 10ms/step - loss: 0.2570 - accuracy: 0.8967 - val_loss: 0.6412 - val_accuracy: 0.7666\n"
          ]
        }
      ]
    },
    {
      "cell_type": "code",
      "source": [
        "pd.DataFrame(model_3_history.history).plot()"
      ],
      "metadata": {
        "colab": {
          "base_uri": "https://localhost:8080/",
          "height": 447
        },
        "id": "iFFrlEiw1Pya",
        "outputId": "6981adab-ea1b-4588-a331-c7bf8db37e59"
      },
      "execution_count": 38,
      "outputs": [
        {
          "output_type": "execute_result",
          "data": {
            "text/plain": [
              "<Axes: >"
            ]
          },
          "metadata": {},
          "execution_count": 38
        },
        {
          "output_type": "display_data",
          "data": {
            "text/plain": [
              "<Figure size 640x480 with 1 Axes>"
            ],
            "image/png": "[encoded data removed]"
          },
          "metadata": {}
        }
      ]
    },
    {
      "cell_type": "code",
      "source": [
        "model_3_predictions = tf.squeeze(tf.round(model_3.predict(X_val)))\n",
        "\n",
        "model_3_predictions[:15]"
      ],
      "metadata": {
        "colab": {
          "base_uri": "https://localhost:8080/"
        },
        "id": "NbHYZ9Eq1Pvo",
        "outputId": "22e12beb-cdcf-41c1-f0c1-19197be80e82"
      },
      "execution_count": 39,
      "outputs": [
        {
          "output_type": "stream",
          "name": "stdout",
          "text": [
            "24/24 [==============================] - 1s 3ms/step\n"
          ]
        },
        {
          "output_type": "execute_result",
          "data": {
            "text/plain": [
              "<tf.Tensor: shape=(15,), dtype=float32, numpy=\n",
              "array([0., 0., 1., 0., 1., 0., 0., 0., 0., 1., 1., 1., 0., 0., 1.],\n",
              "      dtype=float32)>"
            ]
          },
          "metadata": {},
          "execution_count": 39
        }
      ]
    },
    {
      "cell_type": "code",
      "source": [
        "model_3_scores = score_predictions(y_val, model_3_predictions)\n",
        "model_3_scores"
      ],
      "metadata": {
        "colab": {
          "base_uri": "https://localhost:8080/"
        },
        "id": "t8OHtaSV1Psi",
        "outputId": "b7991b8c-baad-4890-af0e-d95a2f065462"
      },
      "execution_count": 40,
      "outputs": [
        {
          "output_type": "execute_result",
          "data": {
            "text/plain": [
              "{'accuracy': 0.7572178477690289,\n",
              " 'precision': 0.7564045836913847,\n",
              " 'recall': 0.7572178477690289,\n",
              " 'f1': 0.7563338207889505}"
            ]
          },
          "metadata": {},
          "execution_count": 40
        }
      ]
    },
    {
      "cell_type": "markdown",
      "source": [
        "## Model 4: Bidirectional-LSTM (RNN)"
      ],
      "metadata": {
        "id": "19vE-7zpYV8E"
      }
    },
    {
      "cell_type": "code",
      "source": [
        "from tensorflow.keras.layers import Bidirectional\n",
        "\n",
        "def build_model_4():\n",
        "  return tf.keras.Sequential([\n",
        "      Input(shape=(1,), dtype=tf.string),\n",
        "      vectorizer,\n",
        "      make_embedding(),\n",
        "      Bidirectional(LSTM(64)),\n",
        "      Dense(1, activation='sigmoid')\n",
        "  ])\n",
        "\n",
        "model_4 = build_model_4()\n",
        "model_4.summary()"
      ],
      "metadata": {
        "colab": {
          "base_uri": "https://localhost:8080/"
        },
        "id": "hZTrPlsnS1nA",
        "outputId": "21180be1-ebc8-4a0a-ba11-37297f9256c4"
      },
      "execution_count": 41,
      "outputs": [
        {
          "output_type": "stream",
          "name": "stdout",
          "text": [
            "Model: \"sequential_1\"\n",
            "_________________________________________________________________\n",
            " Layer (type)                Output Shape              Param #   \n",
            "=================================================================\n",
            " vectorizer_layer (TextVecto  (None, 15)               0         \n",
            " rization)                                                       \n",
            "                                                                 \n",
            " embedding_layer (Embedding)  (None, 15, 32)           80000     \n",
            "                                                                 \n",
            " bidirectional (Bidirectiona  (None, 128)              49664     \n",
            " l)                                                              \n",
            "                                                                 \n",
            " dense_4 (Dense)             (None, 1)                 129       \n",
            "                                                                 \n",
            "=================================================================\n",
            "Total params: 129,793\n",
            "Trainable params: 129,793\n",
            "Non-trainable params: 0\n",
            "_________________________________________________________________\n"
          ]
        }
      ]
    },
    {
      "cell_type": "code",
      "source": [
        "model_4.compile(\n",
        "    loss=tf.keras.losses.BinaryCrossentropy(),\n",
        "    optimizer=tf.keras.optimizers.Adam(),\n",
        "    metrics=[\"accuracy\"]\n",
        ")\n",
        "\n",
        "model_4_history = model_4.fit(X_train, y_train,\n",
        "            epochs=5,\n",
        "            validation_split=0.2)"
      ],
      "metadata": {
        "colab": {
          "base_uri": "https://localhost:8080/"
        },
        "id": "K-ieTgPsS1gw",
        "outputId": "74dc399d-f7d2-4817-9cce-ca9b58923915"
      },
      "execution_count": 42,
      "outputs": [
        {
          "output_type": "stream",
          "name": "stdout",
          "text": [
            "Epoch 1/5\n",
            "172/172 [==============================] - 15s 65ms/step - loss: 0.5379 - accuracy: 0.7155 - val_loss: 0.4926 - val_accuracy: 0.7710\n",
            "Epoch 2/5\n",
            "172/172 [==============================] - 3s 17ms/step - loss: 0.3635 - accuracy: 0.8440 - val_loss: 0.4852 - val_accuracy: 0.7681\n",
            "Epoch 3/5\n",
            "172/172 [==============================] - 3s 15ms/step - loss: 0.3076 - accuracy: 0.8701 - val_loss: 0.5359 - val_accuracy: 0.7651\n",
            "Epoch 4/5\n",
            "172/172 [==============================] - 2s 12ms/step - loss: 0.2591 - accuracy: 0.8938 - val_loss: 0.5591 - val_accuracy: 0.7739\n",
            "Epoch 5/5\n",
            "172/172 [==============================] - 2s 11ms/step - loss: 0.2175 - accuracy: 0.9170 - val_loss: 0.6735 - val_accuracy: 0.7681\n"
          ]
        }
      ]
    },
    {
      "cell_type": "code",
      "source": [
        "pd.DataFrame(model_4_history.history).plot()"
      ],
      "metadata": {
        "colab": {
          "base_uri": "https://localhost:8080/",
          "height": 447
        },
        "id": "UIfKfjSrS1cI",
        "outputId": "0dae7331-5dde-464a-9588-eed33dc8653c"
      },
      "execution_count": 43,
      "outputs": [
        {
          "output_type": "execute_result",
          "data": {
            "text/plain": [
              "<Axes: >"
            ]
          },
          "metadata": {},
          "execution_count": 43
        },
        {
          "output_type": "display_data",
          "data": {
            "text/plain": [
              "<Figure size 640x480 with 1 Axes>"
            ],
            "image/png": "[encoded data removed]"
          },
          "metadata": {}
        }
      ]
    },
    {
      "cell_type": "code",
      "source": [
        "model_4_predictions = tf.squeeze(tf.round(model_4.predict(X_val)))\n",
        "\n",
        "model_4_predictions[:15]"
      ],
      "metadata": {
        "colab": {
          "base_uri": "https://localhost:8080/"
        },
        "id": "ab4QqyNrS1ZW",
        "outputId": "7dbbad66-1c6e-4e77-88fd-e286e28deea8"
      },
      "execution_count": 44,
      "outputs": [
        {
          "output_type": "stream",
          "name": "stdout",
          "text": [
            "24/24 [==============================] - 1s 4ms/step\n"
          ]
        },
        {
          "output_type": "execute_result",
          "data": {
            "text/plain": [
              "<tf.Tensor: shape=(15,), dtype=float32, numpy=\n",
              "array([0., 0., 1., 0., 1., 0., 0., 1., 0., 1., 1., 1., 0., 0., 0.],\n",
              "      dtype=float32)>"
            ]
          },
          "metadata": {},
          "execution_count": 44
        }
      ]
    },
    {
      "cell_type": "code",
      "source": [
        "model_4_scores = score_predictions(y_val, model_4_predictions)\n",
        "model_4_scores"
      ],
      "metadata": {
        "colab": {
          "base_uri": "https://localhost:8080/"
        },
        "id": "lVGcZqqTS1WY",
        "outputId": "fd69495f-4fa4-4dc8-99ff-3044f0ac37f1"
      },
      "execution_count": 45,
      "outputs": [
        {
          "output_type": "execute_result",
          "data": {
            "text/plain": [
              "{'accuracy': 0.7388451443569554,\n",
              " 'precision': 0.7378781763195409,\n",
              " 'recall': 0.7388451443569554,\n",
              " 'f1': 0.7371144258563167}"
            ]
          },
          "metadata": {},
          "execution_count": 45
        }
      ]
    },
    {
      "cell_type": "code",
      "source": [],
      "metadata": {
        "id": "Nxmv4zuBS1TW"
      },
      "execution_count": 45,
      "outputs": []
    },
    {
      "cell_type": "markdown",
      "source": [
        "## Model 5: 1D Convolutional Network"
      ],
      "metadata": {
        "id": "Ve1ToKSYYZe_"
      }
    },
    {
      "cell_type": "code",
      "source": [
        "from tensorflow.keras.layers import Conv1D, GlobalAveragePooling1D\n",
        "\n",
        "def build_model_5():\n",
        "  return tf.keras.Sequential([\n",
        "      Input(shape=(1,), dtype=tf.string),\n",
        "      vectorizer,\n",
        "      make_embedding(),\n",
        "      Conv1D(64, 5, padding='same'),\n",
        "      GlobalAveragePooling1D(),\n",
        "      Dense(1, activation='sigmoid')\n",
        "  ])\n",
        "\n",
        "model_5 = build_model_5()\n",
        "model_5.summary()"
      ],
      "metadata": {
        "colab": {
          "base_uri": "https://localhost:8080/"
        },
        "id": "fo8WkNWg0KVZ",
        "outputId": "0fa6a648-f547-4071-a9bb-ca2720c3c58b"
      },
      "execution_count": 46,
      "outputs": [
        {
          "output_type": "stream",
          "name": "stdout",
          "text": [
            "Model: \"sequential_2\"\n",
            "_________________________________________________________________\n",
            " Layer (type)                Output Shape              Param #   \n",
            "=================================================================\n",
            " vectorizer_layer (TextVecto  (None, 15)               0         \n",
            " rization)                                                       \n",
            "                                                                 \n",
            " embedding_layer (Embedding)  (None, 15, 32)           80000     \n",
            "                                                                 \n",
            " conv1d (Conv1D)             (None, 15, 64)            10304     \n",
            "                                                                 \n",
            " global_average_pooling1d_1   (None, 64)               0         \n",
            " (GlobalAveragePooling1D)                                        \n",
            "                                                                 \n",
            " dense_5 (Dense)             (None, 1)                 65        \n",
            "                                                                 \n",
            "=================================================================\n",
            "Total params: 90,369\n",
            "Trainable params: 90,369\n",
            "Non-trainable params: 0\n",
            "_________________________________________________________________\n"
          ]
        }
      ]
    },
    {
      "cell_type": "code",
      "source": [
        "model_5.compile(\n",
        "    loss=tf.keras.losses.BinaryCrossentropy(),\n",
        "    optimizer=tf.keras.optimizers.Adam(),\n",
        "    metrics=[\"accuracy\"]\n",
        ")\n",
        "\n",
        "model_5_history = model_5.fit(X_train, y_train,\n",
        "                              epochs=5,\n",
        "                              validation_split=0.2)"
      ],
      "metadata": {
        "colab": {
          "base_uri": "https://localhost:8080/"
        },
        "id": "XMefff400KS-",
        "outputId": "fefc82d3-0135-4680-be6d-a5304d110999"
      },
      "execution_count": 47,
      "outputs": [
        {
          "output_type": "stream",
          "name": "stdout",
          "text": [
            "Epoch 1/5\n",
            "172/172 [==============================] - 12s 58ms/step - loss: 0.5593 - accuracy: 0.7049 - val_loss: 0.4824 - val_accuracy: 0.7819\n",
            "Epoch 2/5\n",
            "172/172 [==============================] - 2s 10ms/step - loss: 0.3809 - accuracy: 0.8349 - val_loss: 0.4906 - val_accuracy: 0.7775\n",
            "Epoch 3/5\n",
            "172/172 [==============================] - 2s 11ms/step - loss: 0.3194 - accuracy: 0.8651 - val_loss: 0.5390 - val_accuracy: 0.7739\n",
            "Epoch 4/5\n",
            "172/172 [==============================] - 2s 13ms/step - loss: 0.2835 - accuracy: 0.8825 - val_loss: 0.5950 - val_accuracy: 0.7695\n",
            "Epoch 5/5\n",
            "172/172 [==============================] - 1s 9ms/step - loss: 0.2646 - accuracy: 0.8870 - val_loss: 0.6327 - val_accuracy: 0.7673\n"
          ]
        }
      ]
    },
    {
      "cell_type": "code",
      "source": [
        "pd.DataFrame(model_5_history.history).plot()"
      ],
      "metadata": {
        "colab": {
          "base_uri": "https://localhost:8080/",
          "height": 447
        },
        "id": "DN5e442F0KPl",
        "outputId": "f55ccce6-beaa-45dd-f9b5-a45d2e2e2a86"
      },
      "execution_count": 48,
      "outputs": [
        {
          "output_type": "execute_result",
          "data": {
            "text/plain": [
              "<Axes: >"
            ]
          },
          "metadata": {},
          "execution_count": 48
        },
        {
          "output_type": "display_data",
          "data": {
            "text/plain": [
              "<Figure size 640x480 with 1 Axes>"
            ],
            "image/png": "[encoded data removed]"
          },
          "metadata": {}
        }
      ]
    },
    {
      "cell_type": "code",
      "source": [
        "model_5_preds = tf.squeeze(tf.round(model_5.predict(X_val)))\n",
        "\n",
        "model_5_preds[:10]"
      ],
      "metadata": {
        "colab": {
          "base_uri": "https://localhost:8080/"
        },
        "id": "lwnKm-Rt0KMq",
        "outputId": "f5b426c2-4277-4930-9d67-feabd19e1175"
      },
      "execution_count": 49,
      "outputs": [
        {
          "output_type": "stream",
          "name": "stdout",
          "text": [
            "24/24 [==============================] - 0s 4ms/step\n"
          ]
        },
        {
          "output_type": "execute_result",
          "data": {
            "text/plain": [
              "<tf.Tensor: shape=(10,), dtype=float32, numpy=array([0., 0., 0., 0., 1., 0., 0., 0., 0., 1.], dtype=float32)>"
            ]
          },
          "metadata": {},
          "execution_count": 49
        }
      ]
    },
    {
      "cell_type": "code",
      "source": [
        "model_5_scores = score_predictions(y_val, model_5_preds)\n",
        "model_5_scores"
      ],
      "metadata": {
        "colab": {
          "base_uri": "https://localhost:8080/"
        },
        "id": "iYplKIEq0KJb",
        "outputId": "38ae9389-323d-4260-dd36-5f023431078f"
      },
      "execution_count": 50,
      "outputs": [
        {
          "output_type": "execute_result",
          "data": {
            "text/plain": [
              "{'accuracy': 0.7598425196850394,\n",
              " 'precision': 0.7591632917596652,\n",
              " 'recall': 0.7598425196850394,\n",
              " 'f1': 0.7583794864350266}"
            ]
          },
          "metadata": {},
          "execution_count": 50
        }
      ]
    },
    {
      "cell_type": "markdown",
      "source": [
        "## Model 6: Tensorflow Hub Pretrained Feature Extractor"
      ],
      "metadata": {
        "id": "Fi2scQenYdD0"
      }
    },
    {
      "cell_type": "code",
      "source": [
        "import tensorflow_hub as hub\n",
        "from tensorflow.keras.layers import Input, Dense"
      ],
      "metadata": {
        "id": "YeWa3KZ1-cOb"
      },
      "execution_count": 51,
      "outputs": []
    },
    {
      "cell_type": "code",
      "source": [
        "USE_EMBEDDING_URL = 'https://tfhub.dev/google/universal-sentence-encoder/4'\n",
        "use_embedding = hub.load(USE_EMBEDDING_URL)\n",
        "use_embedding"
      ],
      "metadata": {
        "colab": {
          "base_uri": "https://localhost:8080/"
        },
        "id": "jR3G5XhBGbLy",
        "outputId": "cd84b5ed-3d35-4f45-c768-4c99892292e6"
      },
      "execution_count": 52,
      "outputs": [
        {
          "output_type": "execute_result",
          "data": {
            "text/plain": [
              "<tensorflow.python.saved_model.load.Loader._recreate_base_user_object.<locals>._UserObject at 0x7f074413b370>"
            ]
          },
          "metadata": {},
          "execution_count": 52
        }
      ]
    },
    {
      "cell_type": "code",
      "source": [
        "test_embedded = use_embedding([\"I count the ways I let you down on my fingers and toes but I'm running out\"])\n",
        "\n",
        "test_embedded.shape"
      ],
      "metadata": {
        "colab": {
          "base_uri": "https://localhost:8080/"
        },
        "id": "SK_Mivfk-cJ2",
        "outputId": "60d9fa10-b393-4d80-93f9-0c792808e32c"
      },
      "execution_count": 53,
      "outputs": [
        {
          "output_type": "execute_result",
          "data": {
            "text/plain": [
              "TensorShape([1, 512])"
            ]
          },
          "metadata": {},
          "execution_count": 53
        }
      ]
    },
    {
      "cell_type": "code",
      "source": [
        " test_embedded[0][:50]"
      ],
      "metadata": {
        "colab": {
          "base_uri": "https://localhost:8080/"
        },
        "id": "J3Yt9KmY-cHJ",
        "outputId": "17b7bf64-d2a7-4593-cc02-745c48778486"
      },
      "execution_count": 54,
      "outputs": [
        {
          "output_type": "execute_result",
          "data": {
            "text/plain": [
              "<tf.Tensor: shape=(50,), dtype=float32, numpy=\n",
              "array([-0.05152836, -0.0797766 ,  0.02880961, -0.06830648, -0.05156579,\n",
              "       -0.06153592, -0.03692615,  0.02923982, -0.0400302 ,  0.05261124,\n",
              "        0.01473092, -0.00092247,  0.06600689,  0.03393423,  0.01559333,\n",
              "       -0.0966397 ,  0.03267927,  0.0396901 ,  0.02357508,  0.03656178,\n",
              "       -0.01441673, -0.02353454, -0.03026883,  0.07269056, -0.04184369,\n",
              "       -0.01739119, -0.05978658,  0.06395315,  0.03783267,  0.00367775,\n",
              "        0.00468047,  0.01728156,  0.00832868,  0.08485894,  0.04183052,\n",
              "       -0.0273976 ,  0.00144963,  0.08900499, -0.04708766, -0.02448264,\n",
              "        0.03425295, -0.0039532 , -0.05639005,  0.04587052,  0.04004254,\n",
              "       -0.02395528, -0.11212742,  0.01624875, -0.02183451, -0.07293732],\n",
              "      dtype=float32)>"
            ]
          },
          "metadata": {},
          "execution_count": 54
        }
      ]
    },
    {
      "cell_type": "code",
      "source": [
        "def build_model_6():\n",
        "  return tf.keras.Sequential([\n",
        "      Input(shape=[], dtype=tf.string),\n",
        "      hub.KerasLayer(USE_EMBEDDING_URL, trainable=False),\n",
        "      Dense(128, activation='relu'),\n",
        "      # Dense(64, activation='relu'),\n",
        "      Dense(1, activation='sigmoid')\n",
        "  ])\n",
        "\n",
        "model_6 = build_model_6()\n",
        "model_6.summary()"
      ],
      "metadata": {
        "colab": {
          "base_uri": "https://localhost:8080/"
        },
        "id": "dxyZ6Zbd-b76",
        "outputId": "84a3334b-5070-4834-d6b8-b59549e7f738"
      },
      "execution_count": 55,
      "outputs": [
        {
          "output_type": "stream",
          "name": "stdout",
          "text": [
            "Model: \"sequential_3\"\n",
            "_________________________________________________________________\n",
            " Layer (type)                Output Shape              Param #   \n",
            "=================================================================\n",
            " keras_layer (KerasLayer)    (None, 512)               256797824 \n",
            "                                                                 \n",
            " dense_6 (Dense)             (None, 128)               65664     \n",
            "                                                                 \n",
            " dense_7 (Dense)             (None, 1)                 129       \n",
            "                                                                 \n",
            "=================================================================\n",
            "Total params: 256,863,617\n",
            "Trainable params: 65,793\n",
            "Non-trainable params: 256,797,824\n",
            "_________________________________________________________________\n"
          ]
        }
      ]
    },
    {
      "cell_type": "code",
      "source": [
        "model_6.compile(\n",
        "    loss=tf.keras.losses.BinaryCrossentropy(),\n",
        "    optimizer=tf.keras.optimizers.Adam(),\n",
        "    metrics=['accuracy']\n",
        ")\n",
        "\n",
        "model_6_history = model_6.fit(X_train, y_train,\n",
        "            epochs=10,\n",
        "            validation_split=0.2)"
      ],
      "metadata": {
        "colab": {
          "base_uri": "https://localhost:8080/"
        },
        "id": "ahT1WDEw-b4n",
        "outputId": "454e0f16-edc2-46f5-a81e-469f6acbca95"
      },
      "execution_count": 56,
      "outputs": [
        {
          "output_type": "stream",
          "name": "stdout",
          "text": [
            "Epoch 1/10\n",
            "172/172 [==============================] - 6s 17ms/step - loss: 0.4977 - accuracy: 0.7911 - val_loss: 0.4482 - val_accuracy: 0.7943\n",
            "Epoch 2/10\n",
            "172/172 [==============================] - 3s 18ms/step - loss: 0.4111 - accuracy: 0.8199 - val_loss: 0.4405 - val_accuracy: 0.8060\n",
            "Epoch 3/10\n",
            "172/172 [==============================] - 3s 15ms/step - loss: 0.3937 - accuracy: 0.8274 - val_loss: 0.4377 - val_accuracy: 0.8096\n",
            "Epoch 4/10\n",
            "172/172 [==============================] - 3s 15ms/step - loss: 0.3808 - accuracy: 0.8334 - val_loss: 0.4379 - val_accuracy: 0.8096\n",
            "Epoch 5/10\n",
            "172/172 [==============================] - 2s 13ms/step - loss: 0.3709 - accuracy: 0.8398 - val_loss: 0.4402 - val_accuracy: 0.8045\n",
            "Epoch 6/10\n",
            "172/172 [==============================] - 3s 16ms/step - loss: 0.3593 - accuracy: 0.8447 - val_loss: 0.4413 - val_accuracy: 0.8067\n",
            "Epoch 7/10\n",
            "172/172 [==============================] - 3s 18ms/step - loss: 0.3499 - accuracy: 0.8493 - val_loss: 0.4450 - val_accuracy: 0.8060\n",
            "Epoch 8/10\n",
            "172/172 [==============================] - 3s 15ms/step - loss: 0.3379 - accuracy: 0.8522 - val_loss: 0.4496 - val_accuracy: 0.8089\n",
            "Epoch 9/10\n",
            "172/172 [==============================] - 3s 17ms/step - loss: 0.3267 - accuracy: 0.8604 - val_loss: 0.4500 - val_accuracy: 0.8125\n",
            "Epoch 10/10\n",
            "172/172 [==============================] - 2s 13ms/step - loss: 0.3141 - accuracy: 0.8624 - val_loss: 0.4547 - val_accuracy: 0.8125\n"
          ]
        }
      ]
    },
    {
      "cell_type": "code",
      "source": [
        "pd.DataFrame(model_6_history.history).plot()"
      ],
      "metadata": {
        "colab": {
          "base_uri": "https://localhost:8080/",
          "height": 447
        },
        "id": "k4j7w6ptAjde",
        "outputId": "1025cced-6683-4fc2-c816-2475b9ab288f"
      },
      "execution_count": 57,
      "outputs": [
        {
          "output_type": "execute_result",
          "data": {
            "text/plain": [
              "<Axes: >"
            ]
          },
          "metadata": {},
          "execution_count": 57
        },
        {
          "output_type": "display_data",
          "data": {
            "text/plain": [
              "<Figure size 640x480 with 1 Axes>"
            ],
            "image/png": "[encoded data removed]"
          },
          "metadata": {}
        }
      ]
    },
    {
      "cell_type": "code",
      "source": [
        "model_6_preds = tf.squeeze(tf.round(model_6.predict(X_val)))\n",
        "\n",
        "model_6_preds[:15]"
      ],
      "metadata": {
        "colab": {
          "base_uri": "https://localhost:8080/"
        },
        "id": "wRX-qV1LAjah",
        "outputId": "084cd124-2bff-4c2a-837b-756bedaf73f1"
      },
      "execution_count": 58,
      "outputs": [
        {
          "output_type": "stream",
          "name": "stdout",
          "text": [
            "24/24 [==============================] - 1s 10ms/step\n"
          ]
        },
        {
          "output_type": "execute_result",
          "data": {
            "text/plain": [
              "<tf.Tensor: shape=(15,), dtype=float32, numpy=\n",
              "array([0., 0., 1., 0., 0., 0., 0., 0., 1., 1., 0., 0., 0., 0., 0.],\n",
              "      dtype=float32)>"
            ]
          },
          "metadata": {},
          "execution_count": 58
        }
      ]
    },
    {
      "cell_type": "code",
      "source": [
        "model_6_scores = score_predictions(y_val, model_6_preds)\n",
        "model_6_scores"
      ],
      "metadata": {
        "colab": {
          "base_uri": "https://localhost:8080/"
        },
        "id": "Qi96Y-AhAjSA",
        "outputId": "ee3686b0-234d-46a6-ade9-33a5d249e7ba"
      },
      "execution_count": 59,
      "outputs": [
        {
          "output_type": "execute_result",
          "data": {
            "text/plain": [
              "{'accuracy': 0.8123359580052494,\n",
              " 'precision': 0.8119978197351921,\n",
              " 'recall': 0.8123359580052494,\n",
              " 'f1': 0.8116526290422699}"
            ]
          },
          "metadata": {},
          "execution_count": 59
        }
      ]
    },
    {
      "cell_type": "markdown",
      "source": [
        "## Model 7: TensorFlow Hub PretrainedFEature Extrator with 10% of data"
      ],
      "metadata": {
        "id": "TNgM5zK4YjFY"
      }
    },
    {
      "cell_type": "markdown",
      "source": [
        "### Sample 10% of the data"
      ],
      "metadata": {
        "id": "nV8OwWlEKVEf"
      }
    },
    {
      "cell_type": "code",
      "source": [
        "train_df.shape"
      ],
      "metadata": {
        "colab": {
          "base_uri": "https://localhost:8080/"
        },
        "id": "PzZnl5QtGr6u",
        "outputId": "c760c4ae-d98b-4fae-bc8b-72fee621971c"
      },
      "execution_count": 60,
      "outputs": [
        {
          "output_type": "execute_result",
          "data": {
            "text/plain": [
              "(7613, 5)"
            ]
          },
          "metadata": {},
          "execution_count": 60
        }
      ]
    },
    {
      "cell_type": "code",
      "source": [
        "# This has data leakage as we're getting our 10% data sample from the `train_df`\n",
        "#   itself, which is where we extract our validation data set too!\n",
        "\n",
        "# train_df_10_percent = train_df.sample(frac=0.1, random_state=42)\n",
        "# train_df_10_percent.shape, train_df.head()"
      ],
      "metadata": {
        "id": "ognaXLg1J_gL"
      },
      "execution_count": 61,
      "outputs": []
    },
    {
      "cell_type": "code",
      "source": [
        "# This has data leakage as we're getting our 10% data sample from the `train_df`\n",
        "#   itself, which is where we extract our validation data set too!\n",
        "\n",
        "whole_train_df = pd.DataFrame()\n",
        "# whole_train_df[['text', 'target']] = X_train, y_train\n",
        "whole_train_df['text'] = X_train\n",
        "whole_train_df['target'] = y_train\n",
        "# whole_train_df.shape, whole_train_df.head(5)\n",
        "\n",
        "# len(X_train), len(y_train),\n",
        "whole_train_df.head(15)"
      ],
      "metadata": {
        "colab": {
          "base_uri": "https://localhost:8080/",
          "height": 520
        },
        "id": "abfgvttXQVRY",
        "outputId": "1cf5e3b0-a535-4149-d359-9c07031232eb"
      },
      "execution_count": 62,
      "outputs": [
        {
          "output_type": "execute_result",
          "data": {
            "text/plain": [
              "                                                   text  target\n",
              "4620  'McFadden Reportedly to Test Hamstring Thursda...       0\n",
              "2858  w--=-=-=-[ NEMA warns Nigerians to prepare for...       1\n",
              "3098  When I was cooking earlier I got electrocuted ...       0\n",
              "3751               I'm On Fire.  http://t.co/WATsmxYTVa       0\n",
              "5285  More than 40 families affected by the fatal ou...       1\n",
              "5863  Why do u ruin everything?  @9tarbox u ruined t...       0\n",
              "4827  http://t.co/c1H7JECFrV @RoyalCarribean do your...       1\n",
              "5190  WACKOES like #MicheleBachman predict the WORLD...       0\n",
              "5784  @Reuters people like you should be charged aft...       0\n",
              "4369  Remove the http://t.co/2nS5TfnxpA and Linkury ...       0\n",
              "6556  Cute &amp; all livin' the life then you zoom i...       0\n",
              "835   @Blizzard_draco @LoneWolffur also me please I ...       0\n",
              "4552  @ChristieC733 please support this Please cospo...       1\n",
              "7419  Police Officer Wounded Suspect Dead After Exch...       1\n",
              "6364  Pic of 16yr old PKK suicide bomber who detonat...       1"
            ],
            "text/html": [
              "\n",
              "  <div id=\"df-39c5bdc4-16da-40d7-bdd3-495aef073706\">\n",
              "    <div class=\"colab-df-container\">\n",
              "      <div>\n",
              "<style scoped>\n",
              "    .dataframe tbody tr th:only-of-type {\n",
              "        vertical-align: middle;\n",
              "    }\n",
              "\n",
              "    .dataframe tbody tr th {\n",
              "        vertical-align: top;\n",
              "    }\n",
              "\n",
              "    .dataframe thead th {\n",
              "        text-align: right;\n",
              "    }\n",
              "</style>\n",
              "<table border=\"1\" class=\"dataframe\">\n",
              "  <thead>\n",
              "    <tr style=\"text-align: right;\">\n",
              "      <th></th>\n",
              "      <th>text</th>\n",
              "      <th>target</th>\n",
              "    </tr>\n",
              "  </thead>\n",
              "  <tbody>\n",
              "    <tr>\n",
              "      <th>4620</th>\n",
              "      <td>'McFadden Reportedly to Test Hamstring Thursda...</td>\n",
              "      <td>0</td>\n",
              "    </tr>\n",
              "    <tr>\n",
              "      <th>2858</th>\n",
              "      <td>w--=-=-=-[ NEMA warns Nigerians to prepare for...</td>\n",
              "      <td>1</td>\n",
              "    </tr>\n",
              "    <tr>\n",
              "      <th>3098</th>\n",
              "      <td>When I was cooking earlier I got electrocuted ...</td>\n",
              "      <td>0</td>\n",
              "    </tr>\n",
              "    <tr>\n",
              "      <th>3751</th>\n",
              "      <td>I'm On Fire.  http://t.co/WATsmxYTVa</td>\n",
              "      <td>0</td>\n",
              "    </tr>\n",
              "    <tr>\n",
              "      <th>5285</th>\n",
              "      <td>More than 40 families affected by the fatal ou...</td>\n",
              "      <td>1</td>\n",
              "    </tr>\n",
              "    <tr>\n",
              "      <th>5863</th>\n",
              "      <td>Why do u ruin everything?  @9tarbox u ruined t...</td>\n",
              "      <td>0</td>\n",
              "    </tr>\n",
              "    <tr>\n",
              "      <th>4827</th>\n",
              "      <td>http://t.co/c1H7JECFrV @RoyalCarribean do your...</td>\n",
              "      <td>1</td>\n",
              "    </tr>\n",
              "    <tr>\n",
              "      <th>5190</th>\n",
              "      <td>WACKOES like #MicheleBachman predict the WORLD...</td>\n",
              "      <td>0</td>\n",
              "    </tr>\n",
              "    <tr>\n",
              "      <th>5784</th>\n",
              "      <td>@Reuters people like you should be charged aft...</td>\n",
              "      <td>0</td>\n",
              "    </tr>\n",
              "    <tr>\n",
              "      <th>4369</th>\n",
              "      <td>Remove the http://t.co/2nS5TfnxpA and Linkury ...</td>\n",
              "      <td>0</td>\n",
              "    </tr>\n",
              "    <tr>\n",
              "      <th>6556</th>\n",
              "      <td>Cute &amp;amp; all livin' the life then you zoom i...</td>\n",
              "      <td>0</td>\n",
              "    </tr>\n",
              "    <tr>\n",
              "      <th>835</th>\n",
              "      <td>@Blizzard_draco @LoneWolffur also me please I ...</td>\n",
              "      <td>0</td>\n",
              "    </tr>\n",
              "    <tr>\n",
              "      <th>4552</th>\n",
              "      <td>@ChristieC733 please support this Please cospo...</td>\n",
              "      <td>1</td>\n",
              "    </tr>\n",
              "    <tr>\n",
              "      <th>7419</th>\n",
              "      <td>Police Officer Wounded Suspect Dead After Exch...</td>\n",
              "      <td>1</td>\n",
              "    </tr>\n",
              "    <tr>\n",
              "      <th>6364</th>\n",
              "      <td>Pic of 16yr old PKK suicide bomber who detonat...</td>\n",
              "      <td>1</td>\n",
              "    </tr>\n",
              "  </tbody>\n",
              "</table>\n",
              "</div>\n",
              "      <button class=\"colab-df-convert\" onclick=\"convertToInteractive('df-39c5bdc4-16da-40d7-bdd3-495aef073706')\"\n",
              "              title=\"Convert this dataframe to an interactive table.\"\n",
              "              style=\"display:none;\">\n",
              "        \n",
              "  <svg xmlns=\"http://www.w3.org/2000/svg\" height=\"24px\"viewBox=\"0 0 24 24\"\n",
              "       width=\"24px\">\n",
              "    <path d=\"M0 0h24v24H0V0z\" fill=\"none\"/>\n",
              "    <path d=\"M18.56 5.44l.94 2.06.94-2.06 2.06-.94-2.06-.94-.94-2.06-.94 2.06-2.06.94zm-11 1L8.5 8.5l.94-2.06 2.06-.94-2.06-.94L8.5 2.5l-.94 2.06-2.06.94zm10 10l.94 2.06.94-2.06 2.06-.94-2.06-.94-.94-2.06-.94 2.06-2.06.94z\"/><path d=\"M17.41 7.96l-1.37-1.37c-.4-.4-.92-.59-1.43-.59-.52 0-1.04.2-1.43.59L10.3 9.45l-7.72 7.72c-.78.78-.78 2.05 0 2.83L4 21.41c.39.39.9.59 1.41.59.51 0 1.02-.2 1.41-.59l7.78-7.78 2.81-2.81c.8-.78.8-2.07 0-2.86zM5.41 20L4 18.59l7.72-7.72 1.47 1.35L5.41 20z\"/>\n",
              "  </svg>\n",
              "      </button>\n",
              "      \n",
              "  <style>\n",
              "    .colab-df-container {\n",
              "      display:flex;\n",
              "      flex-wrap:wrap;\n",
              "      gap: 12px;\n",
              "    }\n",
              "\n",
              "    .colab-df-convert {\n",
              "      background-color: #E8F0FE;\n",
              "      border: none;\n",
              "      border-radius: 50%;\n",
              "      cursor: pointer;\n",
              "      display: none;\n",
              "      fill: #1967D2;\n",
              "      height: 32px;\n",
              "      padding: 0 0 0 0;\n",
              "      width: 32px;\n",
              "    }\n",
              "\n",
              "    .colab-df-convert:hover {\n",
              "      background-color: #E2EBFA;\n",
              "      box-shadow: 0px 1px 2px rgba(60, 64, 67, 0.3), 0px 1px 3px 1px rgba(60, 64, 67, 0.15);\n",
              "      fill: #174EA6;\n",
              "    }\n",
              "\n",
              "    [theme=dark] .colab-df-convert {\n",
              "      background-color: #3B4455;\n",
              "      fill: #D2E3FC;\n",
              "    }\n",
              "\n",
              "    [theme=dark] .colab-df-convert:hover {\n",
              "      background-color: #434B5C;\n",
              "      box-shadow: 0px 1px 3px 1px rgba(0, 0, 0, 0.15);\n",
              "      filter: drop-shadow(0px 1px 2px rgba(0, 0, 0, 0.3));\n",
              "      fill: #FFFFFF;\n",
              "    }\n",
              "  </style>\n",
              "\n",
              "      <script>\n",
              "        const buttonEl =\n",
              "          document.querySelector('#df-39c5bdc4-16da-40d7-bdd3-495aef073706 button.colab-df-convert');\n",
              "        buttonEl.style.display =\n",
              "          google.colab.kernel.accessAllowed ? 'block' : 'none';\n",
              "\n",
              "        async function convertToInteractive(key) {\n",
              "          const element = document.querySelector('#df-39c5bdc4-16da-40d7-bdd3-495aef073706');\n",
              "          const dataTable =\n",
              "            await google.colab.kernel.invokeFunction('convertToInteractive',\n",
              "                                                     [key], {});\n",
              "          if (!dataTable) return;\n",
              "\n",
              "          const docLinkHtml = 'Like what you see? Visit the ' +\n",
              "            '<a target=\"_blank\" href=https://colab.research.google.com/notebooks/data_table.ipynb>data table notebook</a>'\n",
              "            + ' to learn more about interactive tables.';\n",
              "          element.innerHTML = '';\n",
              "          dataTable['output_type'] = 'display_data';\n",
              "          await google.colab.output.renderOutput(dataTable, element);\n",
              "          const docLink = document.createElement('div');\n",
              "          docLink.innerHTML = docLinkHtml;\n",
              "          element.appendChild(docLink);\n",
              "        }\n",
              "      </script>\n",
              "    </div>\n",
              "  </div>\n",
              "  "
            ]
          },
          "metadata": {},
          "execution_count": 62
        }
      ]
    },
    {
      "cell_type": "code",
      "source": [
        "train_df_10_percent = whole_train_df.sample(frac=0.1, random_state=42)\n",
        "train_df_10_percent.shape, train_df.head()"
      ],
      "metadata": {
        "colab": {
          "base_uri": "https://localhost:8080/"
        },
        "id": "jKJd3fhWPo2k",
        "outputId": "b5402db8-5bab-4509-bf25-bdf8c4a95287"
      },
      "execution_count": 63,
      "outputs": [
        {
          "output_type": "execute_result",
          "data": {
            "text/plain": [
              "((685, 2),\n",
              "    id keyword location                                               text  \\\n",
              " 0   1     NaN      NaN  Our Deeds are the Reason of this #earthquake M...   \n",
              " 1   4     NaN      NaN             Forest fire near La Ronge Sask. Canada   \n",
              " 2   5     NaN      NaN  All residents asked to 'shelter in place' are ...   \n",
              " 3   6     NaN      NaN  13,000 people receive #wildfires evacuation or...   \n",
              " 4   7     NaN      NaN  Just got sent this photo from Ruby #Alaska as ...   \n",
              " \n",
              "    target  \n",
              " 0       1  \n",
              " 1       1  \n",
              " 2       1  \n",
              " 3       1  \n",
              " 4       1  )"
            ]
          },
          "metadata": {},
          "execution_count": 63
        }
      ]
    },
    {
      "cell_type": "code",
      "source": [
        "train_df_10_percent['target'].value_counts()"
      ],
      "metadata": {
        "colab": {
          "base_uri": "https://localhost:8080/"
        },
        "id": "hivBIEDfN9GQ",
        "outputId": "3ec5822f-42b9-4517-e2a7-53fd196ce9d2"
      },
      "execution_count": 64,
      "outputs": [
        {
          "output_type": "execute_result",
          "data": {
            "text/plain": [
              "0    391\n",
              "1    294\n",
              "Name: target, dtype: int64"
            ]
          },
          "metadata": {},
          "execution_count": 64
        }
      ]
    },
    {
      "cell_type": "code",
      "source": [
        "# X_train_10_perc, X_val_10_perc, y_train_10_perc,y_val_10_perc = train_test_split(\n",
        "#     train_df_10_percent['text'], train_df_10_percent['target'],\n",
        "#     test_size=0.2,\n",
        "#     random_state=42)\n",
        "\n",
        "# X_train_10_perc.shape, X_val_10_perc.shape, y_train_10_perc.shape, \\\n",
        "#   y_val_10_perc.shape"
      ],
      "metadata": {
        "id": "F_2vqll-KL2p"
      },
      "execution_count": 65,
      "outputs": []
    },
    {
      "cell_type": "code",
      "source": [
        "X_train_10_perc = train_df_10_percent['text']\n",
        "y_train_10_perc = train_df_10_percent['target']\n",
        "\n",
        "X_train_10_perc.shape, y_train_10_perc.shape,"
      ],
      "metadata": {
        "colab": {
          "base_uri": "https://localhost:8080/"
        },
        "id": "TP1YrK-kNYmn",
        "outputId": "ad461be6-7558-4644-dd67-8c64b373e9a5"
      },
      "execution_count": 66,
      "outputs": [
        {
          "output_type": "execute_result",
          "data": {
            "text/plain": [
              "((685,), (685,))"
            ]
          },
          "metadata": {},
          "execution_count": 66
        }
      ]
    },
    {
      "cell_type": "markdown",
      "source": [
        "### Train model 7 (same as model 6) with 10% data"
      ],
      "metadata": {
        "id": "c6-J9YnYLZRv"
      }
    },
    {
      "cell_type": "code",
      "source": [
        "# we could have cloned trained model_6 via:\n",
        "#     model_7 = tf.keras.models.clone_model(model_6)\n",
        "model_7 = build_model_6()\n",
        "\n",
        "model_7.summary()"
      ],
      "metadata": {
        "colab": {
          "base_uri": "https://localhost:8080/"
        },
        "id": "_yCqMaRjK2RJ",
        "outputId": "9b9e42e7-4b34-4bbb-eb09-de794d7b361c"
      },
      "execution_count": 67,
      "outputs": [
        {
          "output_type": "stream",
          "name": "stdout",
          "text": [
            "Model: \"sequential_4\"\n",
            "_________________________________________________________________\n",
            " Layer (type)                Output Shape              Param #   \n",
            "=================================================================\n",
            " keras_layer_1 (KerasLayer)  (None, 512)               256797824 \n",
            "                                                                 \n",
            " dense_8 (Dense)             (None, 128)               65664     \n",
            "                                                                 \n",
            " dense_9 (Dense)             (None, 1)                 129       \n",
            "                                                                 \n",
            "=================================================================\n",
            "Total params: 256,863,617\n",
            "Trainable params: 65,793\n",
            "Non-trainable params: 256,797,824\n",
            "_________________________________________________________________\n"
          ]
        }
      ]
    },
    {
      "cell_type": "code",
      "source": [
        "model_7.compile(\n",
        "    loss='binary_crossentropy',\n",
        "    optimizer='adam',\n",
        "    metrics=['accuracy']\n",
        ")\n",
        "\n",
        "model_7_history = model_7.fit(X_train_10_perc, y_train_10_perc,\n",
        "                              epochs=10,\n",
        "                              validation_split=0.2)"
      ],
      "metadata": {
        "colab": {
          "base_uri": "https://localhost:8080/"
        },
        "id": "SZOvdaB6Lexh",
        "outputId": "91fef99a-ad62-45ac-bbe4-ece790ad122f"
      },
      "execution_count": 68,
      "outputs": [
        {
          "output_type": "stream",
          "name": "stdout",
          "text": [
            "Epoch 1/10\n",
            "18/18 [==============================] - 4s 52ms/step - loss: 0.6730 - accuracy: 0.6788 - val_loss: 0.6555 - val_accuracy: 0.6715\n",
            "Epoch 2/10\n",
            "18/18 [==============================] - 0s 27ms/step - loss: 0.5990 - accuracy: 0.8157 - val_loss: 0.6021 - val_accuracy: 0.7445\n",
            "Epoch 3/10\n",
            "18/18 [==============================] - 0s 25ms/step - loss: 0.5202 - accuracy: 0.8358 - val_loss: 0.5552 - val_accuracy: 0.7956\n",
            "Epoch 4/10\n",
            "18/18 [==============================] - 0s 23ms/step - loss: 0.4555 - accuracy: 0.8431 - val_loss: 0.5387 - val_accuracy: 0.8029\n",
            "Epoch 5/10\n",
            "18/18 [==============================] - 1s 28ms/step - loss: 0.4096 - accuracy: 0.8431 - val_loss: 0.5413 - val_accuracy: 0.7810\n",
            "Epoch 6/10\n",
            "18/18 [==============================] - 0s 15ms/step - loss: 0.3776 - accuracy: 0.8504 - val_loss: 0.5420 - val_accuracy: 0.7591\n",
            "Epoch 7/10\n",
            "18/18 [==============================] - 0s 16ms/step - loss: 0.3522 - accuracy: 0.8558 - val_loss: 0.5513 - val_accuracy: 0.7445\n",
            "Epoch 8/10\n",
            "18/18 [==============================] - 0s 16ms/step - loss: 0.3306 - accuracy: 0.8650 - val_loss: 0.5639 - val_accuracy: 0.7299\n",
            "Epoch 9/10\n",
            "18/18 [==============================] - 0s 15ms/step - loss: 0.3115 - accuracy: 0.8704 - val_loss: 0.5824 - val_accuracy: 0.7080\n",
            "Epoch 10/10\n",
            "18/18 [==============================] - 0s 15ms/step - loss: 0.2937 - accuracy: 0.8759 - val_loss: 0.5844 - val_accuracy: 0.7153\n"
          ]
        }
      ]
    },
    {
      "cell_type": "code",
      "source": [
        "pd.DataFrame(model_7_history.history).plot()"
      ],
      "metadata": {
        "colab": {
          "base_uri": "https://localhost:8080/",
          "height": 449
        },
        "id": "KG6UCo3ZLeuq",
        "outputId": "9698ed47-8059-4e76-e9a4-166b9cb3bdcd"
      },
      "execution_count": 69,
      "outputs": [
        {
          "output_type": "execute_result",
          "data": {
            "text/plain": [
              "<Axes: >"
            ]
          },
          "metadata": {},
          "execution_count": 69
        },
        {
          "output_type": "display_data",
          "data": {
            "text/plain": [
              "<Figure size 640x480 with 1 Axes>"
            ],
            "image/png": "[encoded data removed]"
          },
          "metadata": {}
        }
      ]
    },
    {
      "cell_type": "code",
      "source": [
        "model_7_preds = tf.squeeze(tf.round(model_7.predict(X_val)))\n",
        "\n",
        "model_7_preds[:15]"
      ],
      "metadata": {
        "colab": {
          "base_uri": "https://localhost:8080/"
        },
        "id": "jAC4f5Z-LesX",
        "outputId": "8f263024-0340-4f91-8e4f-3e410ca31967"
      },
      "execution_count": 70,
      "outputs": [
        {
          "output_type": "stream",
          "name": "stdout",
          "text": [
            "24/24 [==============================] - 1s 9ms/step\n"
          ]
        },
        {
          "output_type": "execute_result",
          "data": {
            "text/plain": [
              "<tf.Tensor: shape=(15,), dtype=float32, numpy=\n",
              "array([0., 0., 1., 0., 0., 0., 0., 0., 0., 1., 1., 0., 0., 0., 0.],\n",
              "      dtype=float32)>"
            ]
          },
          "metadata": {},
          "execution_count": 70
        }
      ]
    },
    {
      "cell_type": "code",
      "source": [
        "model_7_scores = score_predictions(y_val, model_7_preds)\n",
        "model_7_scores"
      ],
      "metadata": {
        "colab": {
          "base_uri": "https://localhost:8080/"
        },
        "id": "G0Vgx4rYLep4",
        "outputId": "9672244d-9977-4048-e33f-2bdbaa314417"
      },
      "execution_count": 71,
      "outputs": [
        {
          "output_type": "execute_result",
          "data": {
            "text/plain": [
              "{'accuracy': 0.7847769028871391,\n",
              " 'precision': 0.7842138433288723,\n",
              " 'recall': 0.7847769028871391,\n",
              " 'f1': 0.7842269740851211}"
            ]
          },
          "metadata": {},
          "execution_count": 71
        }
      ]
    },
    {
      "cell_type": "markdown",
      "source": [
        "# Visualizing model performance"
      ],
      "metadata": {
        "id": "rpGXouctUMEN"
      }
    },
    {
      "cell_type": "code",
      "source": [
        "all_scores = pd.DataFrame({\n",
        "    '[0] MultiNB': model_0_scores,\n",
        "    '[1] Generic ANN': model_1_scores,\n",
        "    '[2] LSTM': model_2_scores,\n",
        "    '[3] GRU': model_3_scores,\n",
        "    '[4] Bidirectional': model_4_scores,\n",
        "    '[5] Conv1D': model_5_scores,\n",
        "    '[6] Pre-trained USE': model_6_scores,\n",
        "    '[7] Pre-trained USE (10%)': model_7_scores,\n",
        "})\n",
        "\n",
        "all_scores.transpose()"
      ],
      "metadata": {
        "colab": {
          "base_uri": "https://localhost:8080/",
          "height": 300
        },
        "id": "k9GbNH2kSn-F",
        "outputId": "622ffeae-1a0a-4526-e232-94b15ab39d4a"
      },
      "execution_count": 79,
      "outputs": [
        {
          "output_type": "execute_result",
          "data": {
            "text/plain": [
              "                           accuracy  precision    recall        f1\n",
              "[0] MultiNB                0.778215   0.792992  0.778215  0.770353\n",
              "[1] Generic ANN            0.784777   0.784645  0.784777  0.783292\n",
              "[2] LSTM                   0.759843   0.759957  0.759843  0.757403\n",
              "[3] GRU                    0.757218   0.756405  0.757218  0.756334\n",
              "[4] Bidirectional          0.738845   0.737878  0.738845  0.737114\n",
              "[5] Conv1D                 0.759843   0.759163  0.759843  0.758379\n",
              "[6] Pre-trained USE        0.812336   0.811998  0.812336  0.811653\n",
              "[7] Pre-trained USE (10%)  0.784777   0.784214  0.784777  0.784227"
            ],
            "text/html": [
              "\n",
              "  <div id=\"df-08988827-8f27-4d98-9ee6-cac922d28f52\">\n",
              "    <div class=\"colab-df-container\">\n",
              "      <div>\n",
              "<style scoped>\n",
              "    .dataframe tbody tr th:only-of-type {\n",
              "        vertical-align: middle;\n",
              "    }\n",
              "\n",
              "    .dataframe tbody tr th {\n",
              "        vertical-align: top;\n",
              "    }\n",
              "\n",
              "    .dataframe thead th {\n",
              "        text-align: right;\n",
              "    }\n",
              "</style>\n",
              "<table border=\"1\" class=\"dataframe\">\n",
              "  <thead>\n",
              "    <tr style=\"text-align: right;\">\n",
              "      <th></th>\n",
              "      <th>accuracy</th>\n",
              "      <th>precision</th>\n",
              "      <th>recall</th>\n",
              "      <th>f1</th>\n",
              "    </tr>\n",
              "  </thead>\n",
              "  <tbody>\n",
              "    <tr>\n",
              "      <th>[0] MultiNB</th>\n",
              "      <td>0.778215</td>\n",
              "      <td>0.792992</td>\n",
              "      <td>0.778215</td>\n",
              "      <td>0.770353</td>\n",
              "    </tr>\n",
              "    <tr>\n",
              "      <th>[1] Generic ANN</th>\n",
              "      <td>0.784777</td>\n",
              "      <td>0.784645</td>\n",
              "      <td>0.784777</td>\n",
              "      <td>0.783292</td>\n",
              "    </tr>\n",
              "    <tr>\n",
              "      <th>[2] LSTM</th>\n",
              "      <td>0.759843</td>\n",
              "      <td>0.759957</td>\n",
              "      <td>0.759843</td>\n",
              "      <td>0.757403</td>\n",
              "    </tr>\n",
              "    <tr>\n",
              "      <th>[3] GRU</th>\n",
              "      <td>0.757218</td>\n",
              "      <td>0.756405</td>\n",
              "      <td>0.757218</td>\n",
              "      <td>0.756334</td>\n",
              "    </tr>\n",
              "    <tr>\n",
              "      <th>[4] Bidirectional</th>\n",
              "      <td>0.738845</td>\n",
              "      <td>0.737878</td>\n",
              "      <td>0.738845</td>\n",
              "      <td>0.737114</td>\n",
              "    </tr>\n",
              "    <tr>\n",
              "      <th>[5] Conv1D</th>\n",
              "      <td>0.759843</td>\n",
              "      <td>0.759163</td>\n",
              "      <td>0.759843</td>\n",
              "      <td>0.758379</td>\n",
              "    </tr>\n",
              "    <tr>\n",
              "      <th>[6] Pre-trained USE</th>\n",
              "      <td>0.812336</td>\n",
              "      <td>0.811998</td>\n",
              "      <td>0.812336</td>\n",
              "      <td>0.811653</td>\n",
              "    </tr>\n",
              "    <tr>\n",
              "      <th>[7] Pre-trained USE (10%)</th>\n",
              "      <td>0.784777</td>\n",
              "      <td>0.784214</td>\n",
              "      <td>0.784777</td>\n",
              "      <td>0.784227</td>\n",
              "    </tr>\n",
              "  </tbody>\n",
              "</table>\n",
              "</div>\n",
              "      <button class=\"colab-df-convert\" onclick=\"convertToInteractive('df-08988827-8f27-4d98-9ee6-cac922d28f52')\"\n",
              "              title=\"Convert this dataframe to an interactive table.\"\n",
              "              style=\"display:none;\">\n",
              "        \n",
              "  <svg xmlns=\"http://www.w3.org/2000/svg\" height=\"24px\"viewBox=\"0 0 24 24\"\n",
              "       width=\"24px\">\n",
              "    <path d=\"M0 0h24v24H0V0z\" fill=\"none\"/>\n",
              "    <path d=\"M18.56 5.44l.94 2.06.94-2.06 2.06-.94-2.06-.94-.94-2.06-.94 2.06-2.06.94zm-11 1L8.5 8.5l.94-2.06 2.06-.94-2.06-.94L8.5 2.5l-.94 2.06-2.06.94zm10 10l.94 2.06.94-2.06 2.06-.94-2.06-.94-.94-2.06-.94 2.06-2.06.94z\"/><path d=\"M17.41 7.96l-1.37-1.37c-.4-.4-.92-.59-1.43-.59-.52 0-1.04.2-1.43.59L10.3 9.45l-7.72 7.72c-.78.78-.78 2.05 0 2.83L4 21.41c.39.39.9.59 1.41.59.51 0 1.02-.2 1.41-.59l7.78-7.78 2.81-2.81c.8-.78.8-2.07 0-2.86zM5.41 20L4 18.59l7.72-7.72 1.47 1.35L5.41 20z\"/>\n",
              "  </svg>\n",
              "      </button>\n",
              "      \n",
              "  <style>\n",
              "    .colab-df-container {\n",
              "      display:flex;\n",
              "      flex-wrap:wrap;\n",
              "      gap: 12px;\n",
              "    }\n",
              "\n",
              "    .colab-df-convert {\n",
              "      background-color: #E8F0FE;\n",
              "      border: none;\n",
              "      border-radius: 50%;\n",
              "      cursor: pointer;\n",
              "      display: none;\n",
              "      fill: #1967D2;\n",
              "      height: 32px;\n",
              "      padding: 0 0 0 0;\n",
              "      width: 32px;\n",
              "    }\n",
              "\n",
              "    .colab-df-convert:hover {\n",
              "      background-color: #E2EBFA;\n",
              "      box-shadow: 0px 1px 2px rgba(60, 64, 67, 0.3), 0px 1px 3px 1px rgba(60, 64, 67, 0.15);\n",
              "      fill: #174EA6;\n",
              "    }\n",
              "\n",
              "    [theme=dark] .colab-df-convert {\n",
              "      background-color: #3B4455;\n",
              "      fill: #D2E3FC;\n",
              "    }\n",
              "\n",
              "    [theme=dark] .colab-df-convert:hover {\n",
              "      background-color: #434B5C;\n",
              "      box-shadow: 0px 1px 3px 1px rgba(0, 0, 0, 0.15);\n",
              "      filter: drop-shadow(0px 1px 2px rgba(0, 0, 0, 0.3));\n",
              "      fill: #FFFFFF;\n",
              "    }\n",
              "  </style>\n",
              "\n",
              "      <script>\n",
              "        const buttonEl =\n",
              "          document.querySelector('#df-08988827-8f27-4d98-9ee6-cac922d28f52 button.colab-df-convert');\n",
              "        buttonEl.style.display =\n",
              "          google.colab.kernel.accessAllowed ? 'block' : 'none';\n",
              "\n",
              "        async function convertToInteractive(key) {\n",
              "          const element = document.querySelector('#df-08988827-8f27-4d98-9ee6-cac922d28f52');\n",
              "          const dataTable =\n",
              "            await google.colab.kernel.invokeFunction('convertToInteractive',\n",
              "                                                     [key], {});\n",
              "          if (!dataTable) return;\n",
              "\n",
              "          const docLinkHtml = 'Like what you see? Visit the ' +\n",
              "            '<a target=\"_blank\" href=https://colab.research.google.com/notebooks/data_table.ipynb>data table notebook</a>'\n",
              "            + ' to learn more about interactive tables.';\n",
              "          element.innerHTML = '';\n",
              "          dataTable['output_type'] = 'display_data';\n",
              "          await google.colab.output.renderOutput(dataTable, element);\n",
              "          const docLink = document.createElement('div');\n",
              "          docLink.innerHTML = docLinkHtml;\n",
              "          element.appendChild(docLink);\n",
              "        }\n",
              "      </script>\n",
              "    </div>\n",
              "  </div>\n",
              "  "
            ]
          },
          "metadata": {},
          "execution_count": 79
        }
      ]
    },
    {
      "cell_type": "code",
      "source": [
        "all_scores.plot(kind='bar').legend(bbox_to_anchor=(1.0, 1.0))"
      ],
      "metadata": {
        "colab": {
          "base_uri": "https://localhost:8080/",
          "height": 496
        },
        "id": "V6mpm2Z0a2Ng",
        "outputId": "a4041c27-36fb-46ba-97eb-eb7a8cf1b35b"
      },
      "execution_count": 82,
      "outputs": [
        {
          "output_type": "execute_result",
          "data": {
            "text/plain": [
              "<matplotlib.legend.Legend at 0x7f06f8646fb0>"
            ]
          },
          "metadata": {},
          "execution_count": 82
        },
        {
          "output_type": "display_data",
          "data": {
            "text/plain": [
              "<Figure size 640x480 with 1 Axes>"
            ],
            "image/png": "[encoded data removed]"
          },
          "metadata": {}
        }
      ]
    },
    {
      "cell_type": "markdown",
      "source": [
        "# Peek at the most wrong\n",
        "# PRedict test samples\n"
      ],
      "metadata": {
        "id": "dctW5ydEJfdv"
      }
    },
    {
      "cell_type": "code",
      "source": [],
      "metadata": {
        "id": "7y62s9Uha-EP"
      },
      "execution_count": null,
      "outputs": []
    }
  ]
}